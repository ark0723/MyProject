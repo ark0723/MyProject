{
 "cells": [
  {
   "cell_type": "code",
   "execution_count": 1,
   "metadata": {
    "collapsed": true
   },
   "outputs": [],
   "source": [
    "import sys\n",
    "sys.setrecursionlimit(2000)\n",
    "import pandas as pd\n",
    "from matplotlib import pyplot as plt"
   ]
  },
  {
   "cell_type": "code",
   "execution_count": 2,
   "metadata": {
    "collapsed": true
   },
   "outputs": [],
   "source": [
    "df=pd.read_csv('maryland_accident_dataset_by_report_no.csv', sep=',').set_index('PERSON_ID')"
   ]
  },
  {
   "cell_type": "code",
   "execution_count": 3,
   "metadata": {
    "collapsed": true
   },
   "outputs": [],
   "source": [
    "#time에서 hour만 추출\n",
    "df['HOURS']=list(map(lambda x : int(x[10:13]) ,df['TIME']))"
   ]
  },
  {
   "cell_type": "code",
   "execution_count": 4,
   "metadata": {
    "collapsed": true
   },
   "outputs": [],
   "source": [
    "#hours -> timeslot(0: 0시~6시, 1: 6시~12시, 2: 12시~18시, 3: 18~24(0))\n",
    "df.loc[df[\"HOURS\"]<6, 'HOURS']=0\n",
    "df.loc[(df[\"HOURS\"]>=6) & (df[\"HOURS\"]<12),'HOURS']=1\n",
    "df.loc[(df[\"HOURS\"]>=12) & (df[\"HOURS\"]<18),'HOURS']=2\n",
    "df.loc[(df[\"HOURS\"]>=18) & (df[\"HOURS\"]<24),'HOURS']=3"
   ]
  },
  {
   "cell_type": "code",
   "execution_count": 5,
   "metadata": {},
   "outputs": [
    {
     "data": {
      "text/plain": [
       "array(['Non Intersection', 'Intersection Related', 'Intersection',\n",
       "       'Commercial Driveway', 'Crossover Related', 'Interchange Related',\n",
       "       'Railway Grade Crossing', 'Alley', 'Residential Driveway'], dtype=object)"
      ]
     },
     "execution_count": 5,
     "metadata": {},
     "output_type": "execute_result"
    }
   ],
   "source": [
    "df['JUNCTION_CODE'].unique()"
   ]
  },
  {
   "cell_type": "code",
   "execution_count": 6,
   "metadata": {
    "collapsed": true
   },
   "outputs": [],
   "source": [
    "# motorcycle or low speed vehicle - 1,19, 24.88, 26.88\n",
    "# car - 2,3,4\n",
    "# van or truck - 5,6,7,8,20,21, 22.05, 23.08, \n",
    "# bus - 8,10,11,12, 25.88, 9, 27.88\n",
    "# public vehicle - 14,16,18,13,15,17\n",
    "\n",
    "# BODY_TYPE_CODE\n",
    "\n",
    "body_type_code_list = list(df['BODY_TYPE_CODE'])\n",
    "\n",
    "body_type_dir = []\n",
    "\n",
    "for i in body_type_code_list:\n",
    "    if i == 'Motorcycle' or i == 'Moped' or i == 'Low Speed Vehicle' or i == 'All Terrain Vehicle (ATV)':\n",
    "        body_type_dir.append(\"Motorcycle or Low speed vehicle\")\n",
    "    elif i == 'Passenger Car' or i == 'Station Wagon' or i == 'Limousine':\n",
    "        body_type_dir.append(\"Car\")\n",
    "    elif i == 'Cargo Van/Light Truck 2 axles (10,000 lbs (4,536 kg) or less)'\\\n",
    "        or i == 'Medium/Heavy Truck 2 axles (10,000 lbs (4,536 kg) or less)' \\\n",
    "        or i == 'Truck Tractor' or i == 'Recreational Vehicle' or i == 'Pickup Truck'\\\n",
    "        or i == 'Van' or i == 'Other Light Trucks (10,000 lbs (4,536 kg))' or i == '(Sport) Utility Vehicle':\n",
    "        body_type_dir.append(\"Van or Truck\")\n",
    "    elif i == 'Recreational Vehicle' or i == 'Transit Bus' or i =='Cross Country Bus' or i == 'School Bus' \\\n",
    "        or i == 'Other Bus' or i == 'Farm Vehicle' or i == 'Snowmobile':\n",
    "        body_type_dir.append(\"Bus\")\n",
    "    elif i == 'Ambulance/Non Emergency' or i == 'Fire Vehicle/Non Emergency' or i == 'Police Vehicle/Non Emergency'\\\n",
    "        or i == 'Ambulance/Emergency' or i == 'Fire Vehicle/Emergency' or i == 'Police Vehicle/Emergency':\n",
    "        body_type_dir.append(\"Public Vehicle\")\n",
    "\n",
    "df['BODY_TYPE']=body_type_dir"
   ]
  },
  {
   "cell_type": "code",
   "execution_count": 7,
   "metadata": {
    "collapsed": true
   },
   "outputs": [],
   "source": [
    "# Choose numeric columns\n",
    "scaling_needed_df = df['AGE']\n",
    "\n",
    "# 위의 컬럼들을 Scaling\n",
    "scaling_needed_df = (scaling_needed_df - scaling_needed_df.mean()) / scaling_needed_df.std()\n",
    "\n",
    "# scaled_df 에 반영\n",
    "scaled_df = df.copy()\n",
    "scaled_df['AGE'] = scaling_needed_df"
   ]
  },
  {
   "cell_type": "code",
   "execution_count": 8,
   "metadata": {},
   "outputs": [
    {
     "data": {
      "text/plain": [
       "Index(['REPORT_NO', 'CDL_FLAG', 'CONDITION_CODE', 'EQUIP_PROB_CODE',\n",
       "       'FAULT_FLAG', 'INJ_SEVER_CODE', 'PERSON_TYPE', 'SAF_EQUIP_CODE',\n",
       "       'SEX_CODE', 'VEHICLE_ID', 'COLLISION_TYPE_CODE', 'C_M_ZONE_FLAG',\n",
       "       'JUNCTION_CODE', 'LANE_CODE', 'LIGHT_CODE', 'RD_COND_CODE',\n",
       "       'RD_DIV_CODE', 'SURF_COND_CODE', 'WEATHER_CODE',\n",
       "       'AREA_DAMAGED_CODE_MAIN', 'BODY_TYPE_CODE', 'DAMAGE_CODE',\n",
       "       'HIT_AND_RUN_FLAG', 'MOVEMENT_CODE', 'TIME', 'AGE', 'HOURS',\n",
       "       'BODY_TYPE'],\n",
       "      dtype='object')"
      ]
     },
     "execution_count": 8,
     "metadata": {},
     "output_type": "execute_result"
    }
   ],
   "source": [
    "scaled_df.columns"
   ]
  },
  {
   "cell_type": "code",
   "execution_count": 9,
   "metadata": {},
   "outputs": [
    {
     "data": {
      "text/plain": [
       "array(['No Misuse', 'Belt(s) Misused', 'Air Bag Failed',\n",
       "       'Facing Wrong Way', 'Not Strapped Right', 'Size/Type Improper',\n",
       "       'Not Anchored Right', 'Belts/Anchors Broken'], dtype=object)"
      ]
     },
     "execution_count": 9,
     "metadata": {},
     "output_type": "execute_result"
    }
   ],
   "source": [
    "scaled_df[ 'EQUIP_PROB_CODE'].unique()"
   ]
  },
  {
   "cell_type": "code",
   "execution_count": 10,
   "metadata": {
    "collapsed": true
   },
   "outputs": [],
   "source": [
    "%matplotlib inline\n",
    "import matplotlib.pyplot as plt\n",
    "import numpy as np\n",
    "import pandas as pd\n",
    "import seaborn as sns\n",
    "sns.set(style='white', color_codes=True)\n",
    "import warnings \n",
    "warnings.filterwarnings(\"ignore\")"
   ]
  },
  {
   "cell_type": "code",
   "execution_count": 11,
   "metadata": {},
   "outputs": [
    {
     "data": {
      "text/plain": [
       "<matplotlib.axes._subplots.AxesSubplot at 0x1599b62a710>"
      ]
     },
     "execution_count": 11,
     "metadata": {},
     "output_type": "execute_result"
    },
    {
     "data": {
      "image/png": "[encoded data removed]",
      "text/plain": [
       "<matplotlib.figure.Figure at 0x15999e5aac8>"
      ]
     },
     "metadata": {},
     "output_type": "display_data"
    }
   ],
   "source": [
    "sns.countplot(scaled_df[ 'SURF_COND_CODE'])"
   ]
  },
  {
   "cell_type": "markdown",
   "metadata": {
    "collapsed": true
   },
   "source": [
    "#불필요한 columns 제거\n",
    "processed_df=scaled_df.drop(['REPORT_NO', 'CDL_FLAG', 'CONDITION_CODE','EQUIP_PROB_CODE','FAULT_FLAG','PERSON_TYPE','SAF_EQUIP_CODE',\\\n",
    "                'SEX_CODE','VEHICLE_ID', 'C_M_ZONE_FLAG','BODY_TYPE_CODE', 'DAMAGE_CODE','HIT_AND_RUN_FLAG', 'TIME', 'AGE'], axis=1)"
   ]
  },
  {
   "cell_type": "code",
   "execution_count": 12,
   "metadata": {},
   "outputs": [
    {
     "data": {
      "text/plain": [
       "Index(['CONDITION_CODE', 'INJ_SEVER_CODE', 'COLLISION_TYPE_CODE',\n",
       "       'JUNCTION_CODE', 'LANE_CODE', 'RD_DIV_CODE', 'SURF_COND_CODE',\n",
       "       'AREA_DAMAGED_CODE_MAIN', 'MOVEMENT_CODE', 'HOURS', 'BODY_TYPE'],\n",
       "      dtype='object')"
      ]
     },
     "execution_count": 12,
     "metadata": {},
     "output_type": "execute_result"
    }
   ],
   "source": [
    "processed_df=scaled_df.drop(['REPORT_NO', 'CDL_FLAG','EQUIP_PROB_CODE','FAULT_FLAG','PERSON_TYPE', \n",
    "        'SAF_EQUIP_CODE','SEX_CODE', 'VEHICLE_ID', 'C_M_ZONE_FLAG', 'RD_COND_CODE','HIT_AND_RUN_FLAG',\n",
    "        'TIME', 'BODY_TYPE_CODE', 'DAMAGE_CODE','AGE', 'LIGHT_CODE', 'WEATHER_CODE'], axis=1)\n",
    "processed_df.columns"
   ]
  },
  {
   "cell_type": "markdown",
   "metadata": {
    "collapsed": true
   },
   "source": [
    "#'no injury'를 제외한 경우\n",
    "no_injur_df=processed_df[processed_df['INJ_SEVER_CODE']!='No Injury']\n",
    "no_injur_df['INJ_SEVER_CODE'].unique()\n",
    "no_injur_df1=no_injur_df.drop('INJ_SEVER_CODE', axis=1)\n",
    "dummies_new_df=pd.get_dummies(no_injur_df1, columns=get_dummies_cols)\n",
    "accident_new_df=dummies_new_df.copy() #no injury 불포함"
   ]
  },
  {
   "cell_type": "code",
   "execution_count": 13,
   "metadata": {
    "collapsed": true
   },
   "outputs": [],
   "source": [
    "processed_df1=processed_df.drop('INJ_SEVER_CODE', axis=1)"
   ]
  },
  {
   "cell_type": "code",
   "execution_count": 14,
   "metadata": {},
   "outputs": [
    {
     "data": {
      "text/plain": [
       "Index(['CONDITION_CODE', 'COLLISION_TYPE_CODE', 'JUNCTION_CODE', 'LANE_CODE',\n",
       "       'RD_DIV_CODE', 'SURF_COND_CODE', 'AREA_DAMAGED_CODE_MAIN',\n",
       "       'MOVEMENT_CODE', 'HOURS', 'BODY_TYPE'],\n",
       "      dtype='object')"
      ]
     },
     "execution_count": 14,
     "metadata": {},
     "output_type": "execute_result"
    }
   ],
   "source": [
    "processed_df1.columns"
   ]
  },
  {
   "cell_type": "code",
   "execution_count": 15,
   "metadata": {},
   "outputs": [
    {
     "data": {
      "text/plain": [
       "100"
      ]
     },
     "execution_count": 15,
     "metadata": {},
     "output_type": "execute_result"
    }
   ],
   "source": [
    "#dummied_df\n",
    "get_dummies_cols=['CONDITION_CODE', 'COLLISION_TYPE_CODE', 'JUNCTION_CODE', 'LANE_CODE',\n",
    "       'RD_DIV_CODE', 'SURF_COND_CODE','MOVEMENT_CODE', 'HOURS', 'BODY_TYPE','AREA_DAMAGED_CODE_MAIN']\n",
    "\n",
    "dummies_df=pd.get_dummies(processed_df1, columns=get_dummies_cols)\n",
    "cols=list(dummies_df.columns)\n",
    "len(cols)"
   ]
  },
  {
   "cell_type": "code",
   "execution_count": 16,
   "metadata": {},
   "outputs": [
    {
     "data": {
      "text/html": [
       "<div>\n",
       "<style>\n",
       "    .dataframe thead tr:only-child th {\n",
       "        text-align: right;\n",
       "    }\n",
       "\n",
       "    .dataframe thead th {\n",
       "        text-align: left;\n",
       "    }\n",
       "\n",
       "    .dataframe tbody tr th {\n",
       "        vertical-align: top;\n",
       "    }\n",
       "</style>\n",
       "<table border=\"1\" class=\"dataframe\">\n",
       "  <thead>\n",
       "    <tr style=\"text-align: right;\">\n",
       "      <th></th>\n",
       "      <th>CONDITION_CODE_Apparently Asleep</th>\n",
       "      <th>CONDITION_CODE_Apparently Normal</th>\n",
       "      <th>CONDITION_CODE_Emotional Depressed Angry Disturbed</th>\n",
       "      <th>CONDITION_CODE_Fatigued Fainted</th>\n",
       "      <th>CONDITION_CODE_Had Been Drinking</th>\n",
       "      <th>CONDITION_CODE_Ill</th>\n",
       "      <th>CONDITION_CODE_Influenced by Medications and/or Drugs and/or Alcohol</th>\n",
       "      <th>CONDITION_CODE_Other Handicaps</th>\n",
       "      <th>CONDITION_CODE_Physical Defects</th>\n",
       "      <th>CONDITION_CODE_Using Drugs</th>\n",
       "      <th>...</th>\n",
       "      <th>AREA_DAMAGED_CODE_MAIN_Non-collision</th>\n",
       "      <th>AREA_DAMAGED_CODE_MAIN_One o'clock</th>\n",
       "      <th>AREA_DAMAGED_CODE_MAIN_Roof Top</th>\n",
       "      <th>AREA_DAMAGED_CODE_MAIN_Seven o'clock</th>\n",
       "      <th>AREA_DAMAGED_CODE_MAIN_Six o'clock</th>\n",
       "      <th>AREA_DAMAGED_CODE_MAIN_Ten o'clock</th>\n",
       "      <th>AREA_DAMAGED_CODE_MAIN_Three o'clock</th>\n",
       "      <th>AREA_DAMAGED_CODE_MAIN_Twelve o'clock</th>\n",
       "      <th>AREA_DAMAGED_CODE_MAIN_Two o'clock</th>\n",
       "      <th>AREA_DAMAGED_CODE_MAIN_Underside</th>\n",
       "    </tr>\n",
       "  </thead>\n",
       "  <tbody>\n",
       "    <tr>\n",
       "      <th>count</th>\n",
       "      <td>29593.000000</td>\n",
       "      <td>29593.000000</td>\n",
       "      <td>29593.000000</td>\n",
       "      <td>29593.000000</td>\n",
       "      <td>29593.000000</td>\n",
       "      <td>29593.000000</td>\n",
       "      <td>29593.000000</td>\n",
       "      <td>29593.000000</td>\n",
       "      <td>29593.00000</td>\n",
       "      <td>29593.000000</td>\n",
       "      <td>...</td>\n",
       "      <td>29593.000000</td>\n",
       "      <td>29593.000000</td>\n",
       "      <td>29593.000000</td>\n",
       "      <td>29593.000000</td>\n",
       "      <td>29593.000000</td>\n",
       "      <td>29593.000000</td>\n",
       "      <td>29593.000000</td>\n",
       "      <td>29593.000000</td>\n",
       "      <td>29593.000000</td>\n",
       "      <td>29593.000000</td>\n",
       "    </tr>\n",
       "    <tr>\n",
       "      <th>mean</th>\n",
       "      <td>0.002534</td>\n",
       "      <td>0.959754</td>\n",
       "      <td>0.000845</td>\n",
       "      <td>0.002467</td>\n",
       "      <td>0.026932</td>\n",
       "      <td>0.001825</td>\n",
       "      <td>0.001318</td>\n",
       "      <td>0.001284</td>\n",
       "      <td>0.00071</td>\n",
       "      <td>0.002332</td>\n",
       "      <td>...</td>\n",
       "      <td>0.003751</td>\n",
       "      <td>0.087284</td>\n",
       "      <td>0.008076</td>\n",
       "      <td>0.022573</td>\n",
       "      <td>0.239617</td>\n",
       "      <td>0.034468</td>\n",
       "      <td>0.018315</td>\n",
       "      <td>0.388673</td>\n",
       "      <td>0.032305</td>\n",
       "      <td>0.006049</td>\n",
       "    </tr>\n",
       "    <tr>\n",
       "      <th>std</th>\n",
       "      <td>0.050280</td>\n",
       "      <td>0.196539</td>\n",
       "      <td>0.029054</td>\n",
       "      <td>0.049606</td>\n",
       "      <td>0.161888</td>\n",
       "      <td>0.042679</td>\n",
       "      <td>0.036279</td>\n",
       "      <td>0.035812</td>\n",
       "      <td>0.02663</td>\n",
       "      <td>0.048231</td>\n",
       "      <td>...</td>\n",
       "      <td>0.061131</td>\n",
       "      <td>0.282256</td>\n",
       "      <td>0.089506</td>\n",
       "      <td>0.148540</td>\n",
       "      <td>0.426857</td>\n",
       "      <td>0.182430</td>\n",
       "      <td>0.134091</td>\n",
       "      <td>0.487457</td>\n",
       "      <td>0.176812</td>\n",
       "      <td>0.077539</td>\n",
       "    </tr>\n",
       "    <tr>\n",
       "      <th>min</th>\n",
       "      <td>0.000000</td>\n",
       "      <td>0.000000</td>\n",
       "      <td>0.000000</td>\n",
       "      <td>0.000000</td>\n",
       "      <td>0.000000</td>\n",
       "      <td>0.000000</td>\n",
       "      <td>0.000000</td>\n",
       "      <td>0.000000</td>\n",
       "      <td>0.00000</td>\n",
       "      <td>0.000000</td>\n",
       "      <td>...</td>\n",
       "      <td>0.000000</td>\n",
       "      <td>0.000000</td>\n",
       "      <td>0.000000</td>\n",
       "      <td>0.000000</td>\n",
       "      <td>0.000000</td>\n",
       "      <td>0.000000</td>\n",
       "      <td>0.000000</td>\n",
       "      <td>0.000000</td>\n",
       "      <td>0.000000</td>\n",
       "      <td>0.000000</td>\n",
       "    </tr>\n",
       "    <tr>\n",
       "      <th>25%</th>\n",
       "      <td>0.000000</td>\n",
       "      <td>1.000000</td>\n",
       "      <td>0.000000</td>\n",
       "      <td>0.000000</td>\n",
       "      <td>0.000000</td>\n",
       "      <td>0.000000</td>\n",
       "      <td>0.000000</td>\n",
       "      <td>0.000000</td>\n",
       "      <td>0.00000</td>\n",
       "      <td>0.000000</td>\n",
       "      <td>...</td>\n",
       "      <td>0.000000</td>\n",
       "      <td>0.000000</td>\n",
       "      <td>0.000000</td>\n",
       "      <td>0.000000</td>\n",
       "      <td>0.000000</td>\n",
       "      <td>0.000000</td>\n",
       "      <td>0.000000</td>\n",
       "      <td>0.000000</td>\n",
       "      <td>0.000000</td>\n",
       "      <td>0.000000</td>\n",
       "    </tr>\n",
       "    <tr>\n",
       "      <th>50%</th>\n",
       "      <td>0.000000</td>\n",
       "      <td>1.000000</td>\n",
       "      <td>0.000000</td>\n",
       "      <td>0.000000</td>\n",
       "      <td>0.000000</td>\n",
       "      <td>0.000000</td>\n",
       "      <td>0.000000</td>\n",
       "      <td>0.000000</td>\n",
       "      <td>0.00000</td>\n",
       "      <td>0.000000</td>\n",
       "      <td>...</td>\n",
       "      <td>0.000000</td>\n",
       "      <td>0.000000</td>\n",
       "      <td>0.000000</td>\n",
       "      <td>0.000000</td>\n",
       "      <td>0.000000</td>\n",
       "      <td>0.000000</td>\n",
       "      <td>0.000000</td>\n",
       "      <td>0.000000</td>\n",
       "      <td>0.000000</td>\n",
       "      <td>0.000000</td>\n",
       "    </tr>\n",
       "    <tr>\n",
       "      <th>75%</th>\n",
       "      <td>0.000000</td>\n",
       "      <td>1.000000</td>\n",
       "      <td>0.000000</td>\n",
       "      <td>0.000000</td>\n",
       "      <td>0.000000</td>\n",
       "      <td>0.000000</td>\n",
       "      <td>0.000000</td>\n",
       "      <td>0.000000</td>\n",
       "      <td>0.00000</td>\n",
       "      <td>0.000000</td>\n",
       "      <td>...</td>\n",
       "      <td>0.000000</td>\n",
       "      <td>0.000000</td>\n",
       "      <td>0.000000</td>\n",
       "      <td>0.000000</td>\n",
       "      <td>0.000000</td>\n",
       "      <td>0.000000</td>\n",
       "      <td>0.000000</td>\n",
       "      <td>1.000000</td>\n",
       "      <td>0.000000</td>\n",
       "      <td>0.000000</td>\n",
       "    </tr>\n",
       "    <tr>\n",
       "      <th>max</th>\n",
       "      <td>1.000000</td>\n",
       "      <td>1.000000</td>\n",
       "      <td>1.000000</td>\n",
       "      <td>1.000000</td>\n",
       "      <td>1.000000</td>\n",
       "      <td>1.000000</td>\n",
       "      <td>1.000000</td>\n",
       "      <td>1.000000</td>\n",
       "      <td>1.00000</td>\n",
       "      <td>1.000000</td>\n",
       "      <td>...</td>\n",
       "      <td>1.000000</td>\n",
       "      <td>1.000000</td>\n",
       "      <td>1.000000</td>\n",
       "      <td>1.000000</td>\n",
       "      <td>1.000000</td>\n",
       "      <td>1.000000</td>\n",
       "      <td>1.000000</td>\n",
       "      <td>1.000000</td>\n",
       "      <td>1.000000</td>\n",
       "      <td>1.000000</td>\n",
       "    </tr>\n",
       "  </tbody>\n",
       "</table>\n",
       "<p>8 rows × 100 columns</p>\n",
       "</div>"
      ],
      "text/plain": [
       "       CONDITION_CODE_Apparently Asleep  CONDITION_CODE_Apparently Normal  \\\n",
       "count                      29593.000000                      29593.000000   \n",
       "mean                           0.002534                          0.959754   \n",
       "std                            0.050280                          0.196539   \n",
       "min                            0.000000                          0.000000   \n",
       "25%                            0.000000                          1.000000   \n",
       "50%                            0.000000                          1.000000   \n",
       "75%                            0.000000                          1.000000   \n",
       "max                            1.000000                          1.000000   \n",
       "\n",
       "       CONDITION_CODE_Emotional Depressed Angry Disturbed  \\\n",
       "count                                       29593.000000    \n",
       "mean                                            0.000845    \n",
       "std                                             0.029054    \n",
       "min                                             0.000000    \n",
       "25%                                             0.000000    \n",
       "50%                                             0.000000    \n",
       "75%                                             0.000000    \n",
       "max                                             1.000000    \n",
       "\n",
       "       CONDITION_CODE_Fatigued Fainted  CONDITION_CODE_Had Been Drinking  \\\n",
       "count                     29593.000000                      29593.000000   \n",
       "mean                          0.002467                          0.026932   \n",
       "std                           0.049606                          0.161888   \n",
       "min                           0.000000                          0.000000   \n",
       "25%                           0.000000                          0.000000   \n",
       "50%                           0.000000                          0.000000   \n",
       "75%                           0.000000                          0.000000   \n",
       "max                           1.000000                          1.000000   \n",
       "\n",
       "       CONDITION_CODE_Ill  \\\n",
       "count        29593.000000   \n",
       "mean             0.001825   \n",
       "std              0.042679   \n",
       "min              0.000000   \n",
       "25%              0.000000   \n",
       "50%              0.000000   \n",
       "75%              0.000000   \n",
       "max              1.000000   \n",
       "\n",
       "       CONDITION_CODE_Influenced by Medications and/or Drugs and/or Alcohol  \\\n",
       "count                                       29593.000000                      \n",
       "mean                                            0.001318                      \n",
       "std                                             0.036279                      \n",
       "min                                             0.000000                      \n",
       "25%                                             0.000000                      \n",
       "50%                                             0.000000                      \n",
       "75%                                             0.000000                      \n",
       "max                                             1.000000                      \n",
       "\n",
       "       CONDITION_CODE_Other Handicaps  CONDITION_CODE_Physical Defects  \\\n",
       "count                    29593.000000                      29593.00000   \n",
       "mean                         0.001284                          0.00071   \n",
       "std                          0.035812                          0.02663   \n",
       "min                          0.000000                          0.00000   \n",
       "25%                          0.000000                          0.00000   \n",
       "50%                          0.000000                          0.00000   \n",
       "75%                          0.000000                          0.00000   \n",
       "max                          1.000000                          1.00000   \n",
       "\n",
       "       CONDITION_CODE_Using Drugs                ...                 \\\n",
       "count                29593.000000                ...                  \n",
       "mean                     0.002332                ...                  \n",
       "std                      0.048231                ...                  \n",
       "min                      0.000000                ...                  \n",
       "25%                      0.000000                ...                  \n",
       "50%                      0.000000                ...                  \n",
       "75%                      0.000000                ...                  \n",
       "max                      1.000000                ...                  \n",
       "\n",
       "       AREA_DAMAGED_CODE_MAIN_Non-collision  \\\n",
       "count                          29593.000000   \n",
       "mean                               0.003751   \n",
       "std                                0.061131   \n",
       "min                                0.000000   \n",
       "25%                                0.000000   \n",
       "50%                                0.000000   \n",
       "75%                                0.000000   \n",
       "max                                1.000000   \n",
       "\n",
       "       AREA_DAMAGED_CODE_MAIN_One o'clock  AREA_DAMAGED_CODE_MAIN_Roof Top  \\\n",
       "count                        29593.000000                     29593.000000   \n",
       "mean                             0.087284                         0.008076   \n",
       "std                              0.282256                         0.089506   \n",
       "min                              0.000000                         0.000000   \n",
       "25%                              0.000000                         0.000000   \n",
       "50%                              0.000000                         0.000000   \n",
       "75%                              0.000000                         0.000000   \n",
       "max                              1.000000                         1.000000   \n",
       "\n",
       "       AREA_DAMAGED_CODE_MAIN_Seven o'clock  \\\n",
       "count                          29593.000000   \n",
       "mean                               0.022573   \n",
       "std                                0.148540   \n",
       "min                                0.000000   \n",
       "25%                                0.000000   \n",
       "50%                                0.000000   \n",
       "75%                                0.000000   \n",
       "max                                1.000000   \n",
       "\n",
       "       AREA_DAMAGED_CODE_MAIN_Six o'clock  AREA_DAMAGED_CODE_MAIN_Ten o'clock  \\\n",
       "count                        29593.000000                        29593.000000   \n",
       "mean                             0.239617                            0.034468   \n",
       "std                              0.426857                            0.182430   \n",
       "min                              0.000000                            0.000000   \n",
       "25%                              0.000000                            0.000000   \n",
       "50%                              0.000000                            0.000000   \n",
       "75%                              0.000000                            0.000000   \n",
       "max                              1.000000                            1.000000   \n",
       "\n",
       "       AREA_DAMAGED_CODE_MAIN_Three o'clock  \\\n",
       "count                          29593.000000   \n",
       "mean                               0.018315   \n",
       "std                                0.134091   \n",
       "min                                0.000000   \n",
       "25%                                0.000000   \n",
       "50%                                0.000000   \n",
       "75%                                0.000000   \n",
       "max                                1.000000   \n",
       "\n",
       "       AREA_DAMAGED_CODE_MAIN_Twelve o'clock  \\\n",
       "count                           29593.000000   \n",
       "mean                                0.388673   \n",
       "std                                 0.487457   \n",
       "min                                 0.000000   \n",
       "25%                                 0.000000   \n",
       "50%                                 0.000000   \n",
       "75%                                 1.000000   \n",
       "max                                 1.000000   \n",
       "\n",
       "       AREA_DAMAGED_CODE_MAIN_Two o'clock  AREA_DAMAGED_CODE_MAIN_Underside  \n",
       "count                        29593.000000                      29593.000000  \n",
       "mean                             0.032305                          0.006049  \n",
       "std                              0.176812                          0.077539  \n",
       "min                              0.000000                          0.000000  \n",
       "25%                              0.000000                          0.000000  \n",
       "50%                              0.000000                          0.000000  \n",
       "75%                              0.000000                          0.000000  \n",
       "max                              1.000000                          1.000000  \n",
       "\n",
       "[8 rows x 100 columns]"
      ]
     },
     "execution_count": 16,
     "metadata": {},
     "output_type": "execute_result"
    }
   ],
   "source": [
    "dummies_df.describe()"
   ]
  },
  {
   "cell_type": "code",
   "execution_count": 17,
   "metadata": {
    "collapsed": true
   },
   "outputs": [],
   "source": [
    "accident_df=dummies_df.copy()"
   ]
  },
  {
   "cell_type": "code",
   "execution_count": 18,
   "metadata": {
    "collapsed": true
   },
   "outputs": [],
   "source": [
    "from scipy.cluster.hierarchy import linkage\n",
    "Z=linkage(accident_df, 'ward')\n",
    "\n",
    "from scipy.cluster.hierarchy import dendrogram"
   ]
  },
  {
   "cell_type": "code",
   "execution_count": 19,
   "metadata": {
    "collapsed": true
   },
   "outputs": [],
   "source": [
    "def plot_dendrogram(title, xlabel, ylabel, Z, max_d=None, p=None):\n",
    "    # Settings for figure\n",
    "    plt.figure(figsize=(25, 10))\n",
    "    plt.title('Hierarchical Clustering Dendrogram')\n",
    "    plt.xlabel('Index of Data')\n",
    "    plt.ylabel('Distance')\n",
    "\n",
    "    # Dendrogram\n",
    "    if p:\n",
    "        dendrogram(\n",
    "            Z,\n",
    "            leaf_rotation=90.,  # rotates the x axis labels\n",
    "            leaf_font_size=8.,  # font size for the x axis labels\n",
    "            truncate_mode = 'lastp',\n",
    "            p=p,\n",
    "            show_contracted = True\n",
    "        )\n",
    "    else:\n",
    "        dendrogram(\n",
    "            Z,\n",
    "            leaf_rotation=90.,  # rotates the x axis labels\n",
    "            leaf_font_size=8.,  # font size for the x axis labels\n",
    "        )\n",
    "    \n",
    "    if max_d:\n",
    "        plt.axhline(y=max_d, c='k')\n",
    "    plt.show()"
   ]
  },
  {
   "cell_type": "markdown",
   "metadata": {},
   "source": [
    "# plot dendrogram(p=4,5,6,7,8 and max_d=75,70,70,70,70)"
   ]
  },
  {
   "cell_type": "code",
   "execution_count": 20,
   "metadata": {
    "collapsed": true
   },
   "outputs": [],
   "source": [
    "from scipy.cluster.hierarchy import fcluster"
   ]
  },
  {
   "cell_type": "code",
   "execution_count": 21,
   "metadata": {
    "collapsed": true
   },
   "outputs": [],
   "source": [
    "result_df=accident_df.copy()"
   ]
  },
  {
   "cell_type": "code",
   "execution_count": 22,
   "metadata": {
    "collapsed": true
   },
   "outputs": [],
   "source": [
    "P=[4,5,6,7,8]\n",
    "max_dist=[75,70,60,59,59]\n",
    "z=list(zip(P, max_dist))"
   ]
  },
  {
   "cell_type": "code",
   "execution_count": 23,
   "metadata": {},
   "outputs": [
    {
     "data": {
      "image/png": "[encoded data removed]",
      "text/plain": [
       "<matplotlib.figure.Figure at 0x1599c78c860>"
      ]
     },
     "metadata": {},
     "output_type": "display_data"
    },
    {
     "data": {
      "image/png": "[encoded data removed]",
      "text/plain": [
       "<matplotlib.figure.Figure at 0x1599c726668>"
      ]
     },
     "metadata": {},
     "output_type": "display_data"
    },
    {
     "data": {
      "image/png": "[encoded data removed]",
      "text/plain": [
       "<matplotlib.figure.Figure at 0x159a4ca8828>"
      ]
     },
     "metadata": {},
     "output_type": "display_data"
    },
    {
     "data": {
      "image/png": "[encoded data removed]",
      "text/plain": [
       "<matplotlib.figure.Figure at 0x159a4cb0c88>"
      ]
     },
     "metadata": {},
     "output_type": "display_data"
    },
    {
     "data": {
      "image/png": "[encoded data removed]",
      "text/plain": [
       "<matplotlib.figure.Figure at 0x159a48bf588>"
      ]
     },
     "metadata": {},
     "output_type": "display_data"
    }
   ],
   "source": [
    "for p,d in z:\n",
    "    plot_dendrogram('Hierarhcical Clustering Dendrogram', 'Index of Data', 'Distance', Z, p=p, max_d=d)\n",
    "    predicted_labels_dendro=fcluster(Z, d, criterion='distance')\n",
    "    result_df['scipy_labels%d' %p]=predicted_labels_dendro"
   ]
  },
  {
   "cell_type": "markdown",
   "metadata": {
    "collapsed": true
   },
   "source": [
    "# kmeans"
   ]
  },
  {
   "cell_type": "markdown",
   "metadata": {
    "collapsed": true
   },
   "source": [
    "from sklearn.cluster import KMeans\n",
    "\n",
    "n_clusters=[4,5,6]\n",
    "\n",
    "for i in n_clusters:\n",
    "    kmeans_model=KMeans(n_clusters=i)\n",
    "    kmeans_model.fit(accident_df)\n",
    "    predicted_labels_kmeans=kmeans_model.labels_\n",
    "    kmeans_model.fit_predict(accident_df)\n",
    "    result_df['kmeans_labels%d' %i]=predicted_labels_kmeans"
   ]
  },
  {
   "cell_type": "markdown",
   "metadata": {},
   "source": [
    "result_df.columns"
   ]
  },
  {
   "cell_type": "markdown",
   "metadata": {},
   "source": [
    "# Silhouette Plot"
   ]
  },
  {
   "cell_type": "markdown",
   "metadata": {
    "collapsed": true
   },
   "source": [
    "from sklearn.metrics import silhouette_score, silhouette_samples\n",
    "import matplotlib.cm as cm\n",
    "import numpy as np"
   ]
  },
  {
   "cell_type": "markdown",
   "metadata": {
    "collapsed": true
   },
   "source": [
    "def plot_silhouette(accident_df, labels):\n",
    "    cluster_labels=sorted(np.unique(labels))\n",
    "    n_clusters=len(cluster_labels)\n",
    "    \n",
    "    plt.figure()\n",
    "    \n",
    "    #axis setting\n",
    "    ax=plt.gca()\n",
    "    ax.set_xlim([-0.5, 1])\n",
    "    ax.set_ylim([0,accident_df.shape[0] + (n_clusters +1)*10])\n",
    "    y_lower=10\n",
    "    \n",
    "    silhouette_avg=silhouette_score(accident_df, labels)\n",
    "    print(\"k: {}\".format(n_clusters))\n",
    "    print(\"silhouette_avg: {}\".format(silhouette_avg))\n",
    "    data_silhouette_values=silhouette_samples(accident_df, labels)\n",
    "    \n",
    "    for i in cluster_labels:\n",
    "        # 특정 클러스터의 silhouette 값만 추출\n",
    "        ith_cluster_silhouette_values = data_silhouette_values[labels == i]\n",
    "        \n",
    "        # 내림차순으로 정렬\n",
    "        ith_cluster_silhouette_values.sort()\n",
    "\n",
    "        # 해당 클러스터의 크기\n",
    "        size_cluster_i = len(ith_cluster_silhouette_values)\n",
    "       \n",
    "        # 클러스터의 silhouette을 표시할 y축 최고값 결정\n",
    "        y_upper = y_lower + size_cluster_i\n",
    "\n",
    "        # 색\n",
    "        color = cm.spectral(float(i) / n_clusters)\n",
    "        \n",
    "        # plot silhouette\n",
    "        ax.fill_betweenx(np.arange(y_lower, y_upper),\n",
    "                          0, ith_cluster_silhouette_values,\n",
    "                          facecolor=color, edgecolor=color, alpha=0.7)\n",
    "\n",
    "        # y축에 클러스터 이름 표시\n",
    "        ax.text(-0.05, y_lower + 0.5 * size_cluster_i, str(i))\n",
    "\n",
    "        # 다음 클러스터의 silhouette을 표시할 최저점 조정\n",
    "        y_lower = y_upper + 10  # 10 for the 0 samples\n",
    "\n",
    "    ax.set_title(\"The silhouette plot for k={}\".format(n_clusters))\n",
    "    ax.set_xlabel(\"The silhouette coefficient values\")\n",
    "    ax.set_ylabel(\"Cluster label\")\n",
    "\n",
    "    # silhouette 평균 값을 나타내는 선\n",
    "    ax.axvline(x=silhouette_avg, color=\"red\", linestyle=\"--\")\n",
    "\n",
    "    # y축 값 제거\n",
    "    ax.set_yticks([])\n",
    "\n",
    "    plt.show() "
   ]
  },
  {
   "cell_type": "markdown",
   "metadata": {},
   "source": [
    "k_candidates=[4,5,6]\n",
    "for i in k_candidates:\n",
    "    ith_model=KMeans(n_clusters=i)\n",
    "    labels=ith_model.fit_predict(accident_df)\n",
    "    plot_silhouette(accident_df, labels)"
   ]
  },
  {
   "cell_type": "markdown",
   "metadata": {},
   "source": [
    "cols=list(result_df.columns)\n",
    "cols"
   ]
  },
  {
   "cell_type": "markdown",
   "metadata": {},
   "source": [
    "# Range of SC\tInterpretation\n",
    "- 0.71-1.0\tA strong structure has been found\n",
    "- 0.51-0.70\tA reasonable structure has been found\n",
    "- 0.26-0.50\tThe structure is weak and could be artificial\n",
    "- < 0.25\tNo substantial structure has been found"
   ]
  },
  {
   "cell_type": "markdown",
   "metadata": {
    "collapsed": true
   },
   "source": [
    "# Decision Tree(dedrogram p=5, max_leaf=7)"
   ]
  },
  {
   "cell_type": "code",
   "execution_count": 24,
   "metadata": {
    "collapsed": true
   },
   "outputs": [],
   "source": [
    "#split X,y\n",
    "X, y=result_df.drop([ 'scipy_labels4',\n",
    " 'scipy_labels5',\n",
    " 'scipy_labels6',\n",
    " 'scipy_labels7',\n",
    " 'scipy_labels8'], axis=1), result_df.scipy_labels5"
   ]
  },
  {
   "cell_type": "code",
   "execution_count": 25,
   "metadata": {
    "collapsed": true
   },
   "outputs": [],
   "source": [
    "from sklearn.model_selection import train_test_split\n",
    "X_train, X_test, y_train, y_test = train_test_split(X, y, test_size=0.25, stratify=y)"
   ]
  },
  {
   "cell_type": "code",
   "execution_count": 26,
   "metadata": {
    "collapsed": true
   },
   "outputs": [],
   "source": [
    "from sklearn.tree import DecisionTreeClassifier"
   ]
  },
  {
   "cell_type": "code",
   "execution_count": 27,
   "metadata": {
    "collapsed": true
   },
   "outputs": [],
   "source": [
    "# set parameters\n",
    "class_weight = 'balanced'\n",
    "max_leaf_nodes=7"
   ]
  },
  {
   "cell_type": "code",
   "execution_count": 28,
   "metadata": {},
   "outputs": [
    {
     "data": {
      "text/plain": [
       "DecisionTreeClassifier(class_weight='balanced', criterion='gini',\n",
       "            max_depth=None, max_features=None, max_leaf_nodes=7,\n",
       "            min_impurity_split=1e-07, min_samples_leaf=1,\n",
       "            min_samples_split=2, min_weight_fraction_leaf=0.0,\n",
       "            presort=False, random_state=None, splitter='best')"
      ]
     },
     "execution_count": 28,
     "metadata": {},
     "output_type": "execute_result"
    }
   ],
   "source": [
    "# knn_model\n",
    "dt_model = DecisionTreeClassifier(class_weight=class_weight, max_leaf_nodes=max_leaf_nodes )\n",
    "dt_model"
   ]
  },
  {
   "cell_type": "code",
   "execution_count": 29,
   "metadata": {},
   "outputs": [
    {
     "data": {
      "text/plain": [
       "DecisionTreeClassifier(class_weight='balanced', criterion='gini',\n",
       "            max_depth=None, max_features=None, max_leaf_nodes=7,\n",
       "            min_impurity_split=1e-07, min_samples_leaf=1,\n",
       "            min_samples_split=2, min_weight_fraction_leaf=0.0,\n",
       "            presort=False, random_state=None, splitter='best')"
      ]
     },
     "execution_count": 29,
     "metadata": {},
     "output_type": "execute_result"
    }
   ],
   "source": [
    "# fit to model\n",
    "dt_model.fit(X=X_train, y=y_train)"
   ]
  },
  {
   "cell_type": "code",
   "execution_count": 30,
   "metadata": {},
   "outputs": [
    {
     "data": {
      "text/plain": [
       "array([2, 1, 1, ..., 1, 5, 3], dtype=int32)"
      ]
     },
     "execution_count": 30,
     "metadata": {},
     "output_type": "execute_result"
    }
   ],
   "source": [
    "# get predictions\n",
    "y_pred_dt = dt_model.predict(X=X_test)\n",
    "y_pred_dt"
   ]
  },
  {
   "cell_type": "code",
   "execution_count": 31,
   "metadata": {},
   "outputs": [
    {
     "data": {
      "text/plain": [
       "0.79537775375050679"
      ]
     },
     "execution_count": 31,
     "metadata": {},
     "output_type": "execute_result"
    }
   ],
   "source": [
    "# get score\n",
    "dt_model.score(X=X_test, y=y_test)"
   ]
  },
  {
   "cell_type": "code",
   "execution_count": 33,
   "metadata": {},
   "outputs": [
    {
     "data": {
      "text/plain": [
       "array([2, 1, 5, 3, 4], dtype=int64)"
      ]
     },
     "execution_count": 33,
     "metadata": {},
     "output_type": "execute_result"
    }
   ],
   "source": [
    "# result_y_test_df\n",
    "result_y_test_df=pd.DataFrame(y_test)\n",
    "result_y_test_df['dt'] = y_pred_dt\n",
    "result_y_test_df['scipy_labels5'].unique()"
   ]
  },
  {
   "cell_type": "code",
   "execution_count": 34,
   "metadata": {
    "collapsed": true
   },
   "outputs": [],
   "source": [
    "from sklearn.metrics import confusion_matrix"
   ]
  },
  {
   "cell_type": "code",
   "execution_count": 35,
   "metadata": {},
   "outputs": [
    {
     "data": {
      "text/plain": [
       "array([[1740,   30,   30,   61,  123],\n",
       "       [ 113,  593,   15,   84,   65],\n",
       "       [  93,  134, 1094,  361,  109],\n",
       "       [  21,    8,    5,  666,   22],\n",
       "       [  46,   41,   33,  120, 1792]])"
      ]
     },
     "execution_count": 35,
     "metadata": {},
     "output_type": "execute_result"
    }
   ],
   "source": [
    "# confusion matrix\n",
    "confusion_matrix(y_pred=y_pred_dt, y_true=y_test)"
   ]
  },
  {
   "cell_type": "code",
   "execution_count": 36,
   "metadata": {
    "collapsed": true
   },
   "outputs": [],
   "source": [
    "from sklearn.tree import export_graphviz"
   ]
  },
  {
   "cell_type": "code",
   "execution_count": 37,
   "metadata": {
    "collapsed": true
   },
   "outputs": [],
   "source": [
    "with open('tree.dot', 'w') as f:\n",
    "    export_graphviz(dt_model, f, feature_names=result_df.columns)"
   ]
  },
  {
   "cell_type": "code",
   "execution_count": 38,
   "metadata": {
    "collapsed": true
   },
   "outputs": [],
   "source": [
    "import graphviz"
   ]
  },
  {
   "cell_type": "code",
   "execution_count": 39,
   "metadata": {},
   "outputs": [
    {
     "data": {
      "image/svg+xml": [
       "<?xml version=\"1.0\" encoding=\"UTF-8\" standalone=\"no\"?>\r\n",
       "<!DOCTYPE svg PUBLIC \"-//W3C//DTD SVG 1.1//EN\"\r\n",
       " \"http://www.w3.org/Graphics/SVG/1.1/DTD/svg11.dtd\">\r\n",
       "<!-- Generated by graphviz version 2.38.0 (20140413.2041)\r\n",
       " -->\r\n",
       "<!-- Title: Tree Pages: 1 -->\r\n",
       "<svg width=\"1389pt\" height=\"581pt\"\r\n",
       " viewBox=\"0.00 0.00 1389.00 581.00\" xmlns=\"http://www.w3.org/2000/svg\" xmlns:xlink=\"http://www.w3.org/1999/xlink\">\r\n",
       "<g id=\"graph0\" class=\"graph\" transform=\"scale(1 1) rotate(0) translate(4 577)\">\r\n",
       "<title>Tree</title>\r\n",
       "<polygon fill=\"white\" stroke=\"none\" points=\"-4,4 -4,-577 1385,-577 1385,4 -4,4\"/>\r\n",
       "<!-- 0 -->\r\n",
       "<g id=\"node1\" class=\"node\"><title>0</title>\r\n",
       "<polygon fill=\"none\" stroke=\"black\" points=\"1047,-573 715,-573 715,-505 1047,-505 1047,-573\"/>\r\n",
       "<text text-anchor=\"middle\" x=\"881\" y=\"-557.8\" font-family=\"Times New Roman,serif\" font-size=\"14.00\">AREA_DAMAGED_CODE_MAIN_Six o&#39;clock &lt;= 0.5</text>\r\n",
       "<text text-anchor=\"middle\" x=\"881\" y=\"-542.8\" font-family=\"Times New Roman,serif\" font-size=\"14.00\">gini = 0.8</text>\r\n",
       "<text text-anchor=\"middle\" x=\"881\" y=\"-527.8\" font-family=\"Times New Roman,serif\" font-size=\"14.00\">samples = 22194</text>\r\n",
       "<text text-anchor=\"middle\" x=\"881\" y=\"-512.8\" font-family=\"Times New Roman,serif\" font-size=\"14.00\">value = [4438.8, 4438.8, 4438.8, 4438.8, 4438.8]</text>\r\n",
       "</g>\r\n",
       "<!-- 1 -->\r\n",
       "<g id=\"node2\" class=\"node\"><title>1</title>\r\n",
       "<polygon fill=\"none\" stroke=\"black\" points=\"879,-469 497,-469 497,-401 879,-401 879,-469\"/>\r\n",
       "<text text-anchor=\"middle\" x=\"688\" y=\"-453.8\" font-family=\"Times New Roman,serif\" font-size=\"14.00\">SURF_COND_CODE_Wet &lt;= 0.5</text>\r\n",
       "<text text-anchor=\"middle\" x=\"688\" y=\"-438.8\" font-family=\"Times New Roman,serif\" font-size=\"14.00\">gini = 0.7708</text>\r\n",
       "<text text-anchor=\"middle\" x=\"688\" y=\"-423.8\" font-family=\"Times New Roman,serif\" font-size=\"14.00\">samples = 16844</text>\r\n",
       "<text text-anchor=\"middle\" x=\"688\" y=\"-408.8\" font-family=\"Times New Roman,serif\" font-size=\"14.00\">value = [851.6649, 4166.5854, 4240.4917, 4317.7791, 4379.8296]</text>\r\n",
       "</g>\r\n",
       "<!-- 0&#45;&gt;1 -->\r\n",
       "<g id=\"edge1\" class=\"edge\"><title>0&#45;&gt;1</title>\r\n",
       "<path fill=\"none\" stroke=\"black\" d=\"M818.338,-504.884C799.62,-494.991 778.956,-484.07 759.704,-473.895\"/>\r\n",
       "<polygon fill=\"black\" stroke=\"black\" points=\"761.154,-470.703 750.677,-469.125 757.883,-476.892 761.154,-470.703\"/>\r\n",
       "<text text-anchor=\"middle\" x=\"758.046\" y=\"-489.314\" font-family=\"Times New Roman,serif\" font-size=\"14.00\">True</text>\r\n",
       "</g>\r\n",
       "<!-- 2 -->\r\n",
       "<g id=\"node13\" class=\"node\"><title>2</title>\r\n",
       "<polygon fill=\"none\" stroke=\"black\" points=\"1252.5,-461.5 897.5,-461.5 897.5,-408.5 1252.5,-408.5 1252.5,-461.5\"/>\r\n",
       "<text text-anchor=\"middle\" x=\"1075\" y=\"-446.3\" font-family=\"Times New Roman,serif\" font-size=\"14.00\">gini = 0.2761</text>\r\n",
       "<text text-anchor=\"middle\" x=\"1075\" y=\"-431.3\" font-family=\"Times New Roman,serif\" font-size=\"14.00\">samples = 5350</text>\r\n",
       "<text text-anchor=\"middle\" x=\"1075\" y=\"-416.3\" font-family=\"Times New Roman,serif\" font-size=\"14.00\">value = [3587.1351, 272.2146, 198.3083, 121.0209, 58.9704]</text>\r\n",
       "</g>\r\n",
       "<!-- 0&#45;&gt;2 -->\r\n",
       "<g id=\"edge12\" class=\"edge\"><title>0&#45;&gt;2</title>\r\n",
       "<path fill=\"none\" stroke=\"black\" d=\"M943.986,-504.884C967.623,-492.456 994.345,-478.406 1017.46,-466.252\"/>\r\n",
       "<polygon fill=\"black\" stroke=\"black\" points=\"1019.24,-469.272 1026.46,-461.52 1015.98,-463.076 1019.24,-469.272\"/>\r\n",
       "<text text-anchor=\"middle\" x=\"1019.04\" y=\"-481.693\" font-family=\"Times New Roman,serif\" font-size=\"14.00\">False</text>\r\n",
       "</g>\r\n",
       "<!-- 3 -->\r\n",
       "<g id=\"node3\" class=\"node\"><title>3</title>\r\n",
       "<polygon fill=\"none\" stroke=\"black\" points=\"684.5,-365 309.5,-365 309.5,-297 684.5,-297 684.5,-365\"/>\r\n",
       "<text text-anchor=\"middle\" x=\"497\" y=\"-349.8\" font-family=\"Times New Roman,serif\" font-size=\"14.00\">JUNCTION_CODE_Non Intersection &lt;= 0.5</text>\r\n",
       "<text text-anchor=\"middle\" x=\"497\" y=\"-334.8\" font-family=\"Times New Roman,serif\" font-size=\"14.00\">gini = 0.7126</text>\r\n",
       "<text text-anchor=\"middle\" x=\"497\" y=\"-319.8\" font-family=\"Times New Roman,serif\" font-size=\"14.00\">samples = 13184</text>\r\n",
       "<text text-anchor=\"middle\" x=\"497\" y=\"-304.8\" font-family=\"Times New Roman,serif\" font-size=\"14.00\">value = [753.9696, 3725.9379, 3461.3055, 237.9394, 4133.7554]</text>\r\n",
       "</g>\r\n",
       "<!-- 1&#45;&gt;3 -->\r\n",
       "<g id=\"edge2\" class=\"edge\"><title>1&#45;&gt;3</title>\r\n",
       "<path fill=\"none\" stroke=\"black\" d=\"M625.988,-400.884C607.463,-390.991 587.013,-380.07 567.961,-369.895\"/>\r\n",
       "<polygon fill=\"black\" stroke=\"black\" points=\"569.497,-366.748 559.028,-365.125 566.2,-372.923 569.497,-366.748\"/>\r\n",
       "</g>\r\n",
       "<!-- 4 -->\r\n",
       "<g id=\"node12\" class=\"node\"><title>4</title>\r\n",
       "<polygon fill=\"none\" stroke=\"black\" points=\"1057.5,-357.5 702.5,-357.5 702.5,-304.5 1057.5,-304.5 1057.5,-357.5\"/>\r\n",
       "<text text-anchor=\"middle\" x=\"880\" y=\"-342.3\" font-family=\"Times New Roman,serif\" font-size=\"14.00\">gini = 0.45</text>\r\n",
       "<text text-anchor=\"middle\" x=\"880\" y=\"-327.3\" font-family=\"Times New Roman,serif\" font-size=\"14.00\">samples = 3660</text>\r\n",
       "<text text-anchor=\"middle\" x=\"880\" y=\"-312.3\" font-family=\"Times New Roman,serif\" font-size=\"14.00\">value = [97.6954, 440.6475, 779.1862, 4079.8397, 246.0742]</text>\r\n",
       "</g>\r\n",
       "<!-- 1&#45;&gt;4 -->\r\n",
       "<g id=\"edge11\" class=\"edge\"><title>1&#45;&gt;4</title>\r\n",
       "<path fill=\"none\" stroke=\"black\" d=\"M750.337,-400.884C773.73,-388.456 800.177,-374.406 823.056,-362.252\"/>\r\n",
       "<polygon fill=\"black\" stroke=\"black\" points=\"824.773,-365.302 831.962,-357.52 821.489,-359.121 824.773,-365.302\"/>\r\n",
       "</g>\r\n",
       "<!-- 5 -->\r\n",
       "<g id=\"node4\" class=\"node\"><title>5</title>\r\n",
       "<polygon fill=\"none\" stroke=\"black\" points=\"478,-253.5 116,-253.5 116,-200.5 478,-200.5 478,-253.5\"/>\r\n",
       "<text text-anchor=\"middle\" x=\"297\" y=\"-238.3\" font-family=\"Times New Roman,serif\" font-size=\"14.00\">gini = 0.3552</text>\r\n",
       "<text text-anchor=\"middle\" x=\"297\" y=\"-223.3\" font-family=\"Times New Roman,serif\" font-size=\"14.00\">samples = 6419</text>\r\n",
       "<text text-anchor=\"middle\" x=\"297\" y=\"-208.3\" font-family=\"Times New Roman,serif\" font-size=\"14.00\">value = [233.4248, 326.6576, 327.2086, 131.2769, 3970.6766]</text>\r\n",
       "</g>\r\n",
       "<!-- 3&#45;&gt;5 -->\r\n",
       "<g id=\"edge3\" class=\"edge\"><title>3&#45;&gt;5</title>\r\n",
       "<path fill=\"none\" stroke=\"black\" d=\"M432.066,-296.884C407.59,-284.401 379.905,-270.282 356.001,-258.091\"/>\r\n",
       "<polygon fill=\"black\" stroke=\"black\" points=\"357.538,-254.945 347.039,-253.52 354.357,-261.181 357.538,-254.945\"/>\r\n",
       "</g>\r\n",
       "<!-- 6 -->\r\n",
       "<g id=\"node5\" class=\"node\"><title>6</title>\r\n",
       "<polygon fill=\"none\" stroke=\"black\" points=\"900,-261 496,-261 496,-193 900,-193 900,-261\"/>\r\n",
       "<text text-anchor=\"middle\" x=\"698\" y=\"-245.8\" font-family=\"Times New Roman,serif\" font-size=\"14.00\">RD_DIV_CODE_Two&#45;way, Divided, Positive Median Barrier &lt;= 0.5</text>\r\n",
       "<text text-anchor=\"middle\" x=\"698\" y=\"-230.8\" font-family=\"Times New Roman,serif\" font-size=\"14.00\">gini = 0.5957</text>\r\n",
       "<text text-anchor=\"middle\" x=\"698\" y=\"-215.8\" font-family=\"Times New Roman,serif\" font-size=\"14.00\">samples = 6765</text>\r\n",
       "<text text-anchor=\"middle\" x=\"698\" y=\"-200.8\" font-family=\"Times New Roman,serif\" font-size=\"14.00\">value = [520.5448, 3399.2803, 3134.0969, 106.6625, 163.0788]</text>\r\n",
       "</g>\r\n",
       "<!-- 3&#45;&gt;6 -->\r\n",
       "<g id=\"edge4\" class=\"edge\"><title>3&#45;&gt;6</title>\r\n",
       "<path fill=\"none\" stroke=\"black\" d=\"M562.259,-296.884C581.842,-286.946 603.469,-275.971 623.596,-265.757\"/>\r\n",
       "<polygon fill=\"black\" stroke=\"black\" points=\"625.391,-268.771 632.725,-261.125 622.223,-262.529 625.391,-268.771\"/>\r\n",
       "</g>\r\n",
       "<!-- 7 -->\r\n",
       "<g id=\"node6\" class=\"node\"><title>7</title>\r\n",
       "<polygon fill=\"none\" stroke=\"black\" points=\"684.5,-157 329.5,-157 329.5,-89 684.5,-89 684.5,-157\"/>\r\n",
       "<text text-anchor=\"middle\" x=\"507\" y=\"-141.8\" font-family=\"Times New Roman,serif\" font-size=\"14.00\">LANE_CODE_Right Turn Lane &lt;= 0.5</text>\r\n",
       "<text text-anchor=\"middle\" x=\"507\" y=\"-126.8\" font-family=\"Times New Roman,serif\" font-size=\"14.00\">gini = 0.4273</text>\r\n",
       "<text text-anchor=\"middle\" x=\"507\" y=\"-111.8\" font-family=\"Times New Roman,serif\" font-size=\"14.00\">samples = 4260</text>\r\n",
       "<text text-anchor=\"middle\" x=\"507\" y=\"-96.8\" font-family=\"Times New Roman,serif\" font-size=\"14.00\">value = [121.5599, 734.9795, 2848.2025, 49.2288, 141.2379]</text>\r\n",
       "</g>\r\n",
       "<!-- 6&#45;&gt;7 -->\r\n",
       "<g id=\"edge5\" class=\"edge\"><title>6&#45;&gt;7</title>\r\n",
       "<path fill=\"none\" stroke=\"black\" d=\"M635.988,-192.884C617.463,-182.991 597.013,-172.07 577.961,-161.895\"/>\r\n",
       "<polygon fill=\"black\" stroke=\"black\" points=\"579.497,-158.748 569.028,-157.125 576.2,-164.923 579.497,-158.748\"/>\r\n",
       "</g>\r\n",
       "<!-- 8 -->\r\n",
       "<g id=\"node9\" class=\"node\"><title>8</title>\r\n",
       "<polygon fill=\"none\" stroke=\"black\" points=\"1073,-157 703,-157 703,-89 1073,-89 1073,-157\"/>\r\n",
       "<text text-anchor=\"middle\" x=\"888\" y=\"-141.8\" font-family=\"Times New Roman,serif\" font-size=\"14.00\">COLLISION_TYPE_CODE_Same Direction Rear End &lt;= 0.5</text>\r\n",
       "<text text-anchor=\"middle\" x=\"888\" y=\"-126.8\" font-family=\"Times New Roman,serif\" font-size=\"14.00\">gini = 0.3753</text>\r\n",
       "<text text-anchor=\"middle\" x=\"888\" y=\"-111.8\" font-family=\"Times New Roman,serif\" font-size=\"14.00\">samples = 2505</text>\r\n",
       "<text text-anchor=\"middle\" x=\"888\" y=\"-96.8\" font-family=\"Times New Roman,serif\" font-size=\"14.00\">value = [398.9849, 2664.3008, 285.8944, 57.4336, 21.8409]</text>\r\n",
       "</g>\r\n",
       "<!-- 6&#45;&gt;8 -->\r\n",
       "<g id=\"edge8\" class=\"edge\"><title>6&#45;&gt;8</title>\r\n",
       "<path fill=\"none\" stroke=\"black\" d=\"M759.688,-192.884C778.115,-182.991 798.458,-172.07 817.41,-161.895\"/>\r\n",
       "<polygon fill=\"black\" stroke=\"black\" points=\"819.142,-164.938 826.297,-157.125 815.831,-158.771 819.142,-164.938\"/>\r\n",
       "</g>\r\n",
       "<!-- 9 -->\r\n",
       "<g id=\"node7\" class=\"node\"><title>9</title>\r\n",
       "<polygon fill=\"none\" stroke=\"black\" points=\"328,-53 0,-53 0,-0 328,-0 328,-53\"/>\r\n",
       "<text text-anchor=\"middle\" x=\"164\" y=\"-37.8\" font-family=\"Times New Roman,serif\" font-size=\"14.00\">gini = 0.4934</text>\r\n",
       "<text text-anchor=\"middle\" x=\"164\" y=\"-22.8\" font-family=\"Times New Roman,serif\" font-size=\"14.00\">samples = 723</text>\r\n",
       "<text text-anchor=\"middle\" x=\"164\" y=\"-7.8\" font-family=\"Times New Roman,serif\" font-size=\"14.00\">value = [48.4748, 643.1071, 136.3369, 32.8192, 72.075]</text>\r\n",
       "</g>\r\n",
       "<!-- 7&#45;&gt;9 -->\r\n",
       "<g id=\"edge6\" class=\"edge\"><title>7&#45;&gt;9</title>\r\n",
       "<path fill=\"none\" stroke=\"black\" d=\"M387.035,-88.9485C347.755,-78.1263 304.498,-66.2086 266.618,-55.7723\"/>\r\n",
       "<polygon fill=\"black\" stroke=\"black\" points=\"267.169,-52.2937 256.598,-53.0118 265.309,-59.0423 267.169,-52.2937\"/>\r\n",
       "</g>\r\n",
       "<!-- 10 -->\r\n",
       "<g id=\"node8\" class=\"node\"><title>10</title>\r\n",
       "<polygon fill=\"none\" stroke=\"black\" points=\"681.5,-53 346.5,-53 346.5,-0 681.5,-0 681.5,-53\"/>\r\n",
       "<text text-anchor=\"middle\" x=\"514\" y=\"-37.8\" font-family=\"Times New Roman,serif\" font-size=\"14.00\">gini = 0.1598</text>\r\n",
       "<text text-anchor=\"middle\" x=\"514\" y=\"-22.8\" font-family=\"Times New Roman,serif\" font-size=\"14.00\">samples = 3537</text>\r\n",
       "<text text-anchor=\"middle\" x=\"514\" y=\"-7.8\" font-family=\"Times New Roman,serif\" font-size=\"14.00\">value = [73.0851, 91.8724, 2711.8655, 16.4096, 69.1629]</text>\r\n",
       "</g>\r\n",
       "<!-- 7&#45;&gt;10 -->\r\n",
       "<g id=\"edge7\" class=\"edge\"><title>7&#45;&gt;10</title>\r\n",
       "<path fill=\"none\" stroke=\"black\" d=\"M509.448,-88.9485C510.058,-80.7153 510.715,-71.848 511.335,-63.4814\"/>\r\n",
       "<polygon fill=\"black\" stroke=\"black\" points=\"514.845,-63.468 512.094,-53.2367 507.864,-62.9508 514.845,-63.468\"/>\r\n",
       "</g>\r\n",
       "<!-- 11 -->\r\n",
       "<g id=\"node10\" class=\"node\"><title>11</title>\r\n",
       "<polygon fill=\"none\" stroke=\"black\" points=\"1048.5,-53 713.5,-53 713.5,-0 1048.5,-0 1048.5,-53\"/>\r\n",
       "<text text-anchor=\"middle\" x=\"881\" y=\"-37.8\" font-family=\"Times New Roman,serif\" font-size=\"14.00\">gini = 0.2131</text>\r\n",
       "<text text-anchor=\"middle\" x=\"881\" y=\"-22.8\" font-family=\"Times New Roman,serif\" font-size=\"14.00\">samples = 1720</text>\r\n",
       "<text text-anchor=\"middle\" x=\"881\" y=\"-7.8\" font-family=\"Times New Roman,serif\" font-size=\"14.00\">value = [25.356, 2310.4218, 237.1436, 24.6144, 21.1129]</text>\r\n",
       "</g>\r\n",
       "<!-- 8&#45;&gt;11 -->\r\n",
       "<g id=\"edge9\" class=\"edge\"><title>8&#45;&gt;11</title>\r\n",
       "<path fill=\"none\" stroke=\"black\" d=\"M885.552,-88.9485C884.942,-80.7153 884.285,-71.848 883.665,-63.4814\"/>\r\n",
       "<polygon fill=\"black\" stroke=\"black\" points=\"887.136,-62.9508 882.906,-53.2367 880.155,-63.468 887.136,-62.9508\"/>\r\n",
       "</g>\r\n",
       "<!-- 12 -->\r\n",
       "<g id=\"node11\" class=\"node\"><title>12</title>\r\n",
       "<polygon fill=\"none\" stroke=\"black\" points=\"1381,-53 1067,-53 1067,-0 1381,-0 1381,-53\"/>\r\n",
       "<text text-anchor=\"middle\" x=\"1224\" y=\"-37.8\" font-family=\"Times New Roman,serif\" font-size=\"14.00\">gini = 0.5909</text>\r\n",
       "<text text-anchor=\"middle\" x=\"1224\" y=\"-22.8\" font-family=\"Times New Roman,serif\" font-size=\"14.00\">samples = 785</text>\r\n",
       "<text text-anchor=\"middle\" x=\"1224\" y=\"-7.8\" font-family=\"Times New Roman,serif\" font-size=\"14.00\">value = [373.6288, 353.879, 48.7508, 32.8192, 0.728]</text>\r\n",
       "</g>\r\n",
       "<!-- 8&#45;&gt;12 -->\r\n",
       "<g id=\"edge10\" class=\"edge\"><title>8&#45;&gt;12</title>\r\n",
       "<path fill=\"none\" stroke=\"black\" d=\"M1005.52,-88.9485C1044,-78.1263 1086.37,-66.2086 1123.48,-55.7723\"/>\r\n",
       "<polygon fill=\"black\" stroke=\"black\" points=\"1124.61,-59.0886 1133.29,-53.0118 1122.72,-52.35 1124.61,-59.0886\"/>\r\n",
       "</g>\r\n",
       "</g>\r\n",
       "</svg>\r\n"
      ],
      "text/plain": [
       "<graphviz.files.Source at 0x159a3fe74a8>"
      ]
     },
     "execution_count": 39,
     "metadata": {},
     "output_type": "execute_result"
    }
   ],
   "source": [
    "with open('tree.dot', 'r') as f:\n",
    "    dot_graph=f.read()\n",
    "graphviz.Source(dot_graph)"
   ]
  },
  {
   "cell_type": "markdown",
   "metadata": {},
   "source": [
    "# injury 가중치 설정 및 군집별 비교"
   ]
  },
  {
   "cell_type": "code",
   "execution_count": 40,
   "metadata": {
    "collapsed": true
   },
   "outputs": [],
   "source": [
    "final_df=result_df.drop([ 'scipy_labels4', 'scipy_labels6', 'scipy_labels7','scipy_labels8'], axis=1)"
   ]
  },
  {
   "cell_type": "code",
   "execution_count": 41,
   "metadata": {},
   "outputs": [
    {
     "data": {
      "text/plain": [
       "array(['No Injury', 'Possible Incapacitating Injury',\n",
       "       'Non-incapacitating Injury', 'Incapacitating/Disabled Injury',\n",
       "       'Fatal Injury'], dtype=object)"
      ]
     },
     "execution_count": 41,
     "metadata": {},
     "output_type": "execute_result"
    }
   ],
   "source": [
    "df['INJ_SEVER_CODE'].unique()"
   ]
  },
  {
   "cell_type": "code",
   "execution_count": 42,
   "metadata": {},
   "outputs": [
    {
     "data": {
      "text/plain": [
       "Index(['CONDITION_CODE_Apparently Asleep', 'CONDITION_CODE_Apparently Normal',\n",
       "       'CONDITION_CODE_Emotional Depressed Angry Disturbed',\n",
       "       'CONDITION_CODE_Fatigued Fainted', 'CONDITION_CODE_Had Been Drinking',\n",
       "       'CONDITION_CODE_Ill',\n",
       "       'CONDITION_CODE_Influenced by Medications and/or Drugs and/or Alcohol',\n",
       "       'CONDITION_CODE_Other Handicaps', 'CONDITION_CODE_Physical Defects',\n",
       "       'CONDITION_CODE_Using Drugs',\n",
       "       ...\n",
       "       'AREA_DAMAGED_CODE_MAIN_Roof Top',\n",
       "       'AREA_DAMAGED_CODE_MAIN_Seven o'clock',\n",
       "       'AREA_DAMAGED_CODE_MAIN_Six o'clock',\n",
       "       'AREA_DAMAGED_CODE_MAIN_Ten o'clock',\n",
       "       'AREA_DAMAGED_CODE_MAIN_Three o'clock',\n",
       "       'AREA_DAMAGED_CODE_MAIN_Twelve o'clock',\n",
       "       'AREA_DAMAGED_CODE_MAIN_Two o'clock',\n",
       "       'AREA_DAMAGED_CODE_MAIN_Underside', 'scipy_labels5', 'INJ_SCORE'],\n",
       "      dtype='object', length=102)"
      ]
     },
     "execution_count": 42,
     "metadata": {},
     "output_type": "execute_result"
    }
   ],
   "source": [
    "injured_list = list(df['INJ_SEVER_CODE'])\n",
    "\n",
    "injuered_score = []\n",
    "\n",
    "for i in injured_list:\n",
    "    if i == 'No Injury' or i=='Non-incapacitating Injury':\n",
    "        injuered_score.append(1)\n",
    "    elif i == 'Possible Incapacitating Injury':\n",
    "        injuered_score.append(3)\n",
    "    elif i == 'Incapacitating/Disabled Injury':\n",
    "        injuered_score.append(5)\n",
    "    elif i == 'Fatal Injury':\n",
    "        injuered_score.append(7)\n",
    "\n",
    "final_df['INJ_SCORE']=injuered_score\n",
    "final_df.columns"
   ]
  },
  {
   "cell_type": "code",
   "execution_count": 43,
   "metadata": {
    "collapsed": true
   },
   "outputs": [],
   "source": [
    "grouped_df=final_df.groupby('scipy_labels5')"
   ]
  },
  {
   "cell_type": "code",
   "execution_count": 44,
   "metadata": {},
   "outputs": [
    {
     "data": {
      "text/plain": [
       "INJ_SCORE  scipy_labels5\n",
       "1          1                7234\n",
       "           2                3163\n",
       "           3                6122\n",
       "           4                2564\n",
       "           5                7119\n",
       "3          1                 672\n",
       "           2                 287\n",
       "           3                 924\n",
       "           4                 303\n",
       "           5                 940\n",
       "5          1                  28\n",
       "           2                  28\n",
       "           3                 102\n",
       "           4                  17\n",
       "           5                  64\n",
       "7          1                   2\n",
       "           2                   1\n",
       "           3                  15\n",
       "           4                   2\n",
       "           5                   6\n",
       "Name: CONDITION_CODE_Apparently Asleep, dtype: int64"
      ]
     },
     "execution_count": 44,
     "metadata": {},
     "output_type": "execute_result"
    }
   ],
   "source": [
    "final_df.groupby(['INJ_SCORE','scipy_labels5']).count().iloc[:,0]"
   ]
  },
  {
   "cell_type": "code",
   "execution_count": null,
   "metadata": {
    "collapsed": true
   },
   "outputs": [],
   "source": []
  },
  {
   "cell_type": "code",
   "execution_count": null,
   "metadata": {
    "collapsed": true
   },
   "outputs": [],
   "source": []
  },
  {
   "cell_type": "code",
   "execution_count": null,
   "metadata": {
    "collapsed": true
   },
   "outputs": [],
   "source": []
  }
 ],
 "metadata": {
  "kernelspec": {
   "display_name": "Python 3",
   "language": "python",
   "name": "python3"
  },
  "language_info": {
   "codemirror_mode": {
    "name": "ipython",
    "version": 3
   },
   "file_extension": ".py",
   "mimetype": "text/x-python",
   "name": "python",
   "nbconvert_exporter": "python",
   "pygments_lexer": "ipython3",
   "version": "3.6.1"
  }
 },
 "nbformat": 4,
 "nbformat_minor": 2
}
