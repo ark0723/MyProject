{
 "cells": [
  {
   "cell_type": "code",
   "execution_count": 6,
   "metadata": {
    "collapsed": true
   },
   "outputs": [],
   "source": [
    "import requests\n",
    "import pandas as pd\n",
    "import numpy as np\n",
    "import matplotlib.pyplot as plt\n",
    "from bs4 import BeautifulSoup \n",
    "\n",
    "class HTMLTableParser:\n",
    "    def parse_url(self,url):\n",
    "        response=requests.get(url) #그 주소의 html이나 txt를 가져온다.\n",
    "        soup=BeautifulSoup(response.text,'lxml') #(텍스트, parsing방식)\n",
    "        return [(self.parse_html_table(table)) for table in soup.find_all('table')]\n",
    "        #테이블이 들어간 모든 코드들에 대해서 parse_html_table한 것을 리스트로 리턴\n",
    "        \n",
    "    def parse_html_table(self,table):\n",
    "        n_col=0\n",
    "        n_row=0\n",
    "        col_names=[]\n",
    "        for row in table.find_all('tr'):\n",
    "            td_tags=row.find_all('td') #td가 들어간 tag list\n",
    "            if len(td_tags)>0: #td 태그가 있을 경우\n",
    "                n_row+=1 \n",
    "                if n_col==0:\n",
    "                    n_col=len(td_tags) #td tag의 개수를 넣는다 (1번.)\n",
    "            th_tags=row.find_all('th')#table>tr>th(head),td(data)\n",
    "            if len(th_tags)>0 and len(col_names)==0: #head는 있는데 colname은 아직 모르는 경우\n",
    "                for th in th_tags: #각 head에 대해 \n",
    "                    col_names.append(th.get_text()) #col_names에는 모든 th들의 text 내용을 리스트에 넣는다. \n",
    "                    \n",
    "        if len(col_names)>0 and len(col_names)!=n_col: #col_name을 알아냈는데 col수랑 안맞는 경우\n",
    "            raise Exception('colum titles do not match the number of columns')\n",
    "            \n",
    "        columns=col_names if len(col_names)>0 else range(0,n_col) #col_name을 알아냈으면 col_name이며, 모르면 0,1,2숫자\n",
    "        df=pd.DataFrame(columns=columns,index=range(0,n_row)) #column이름,index 정한 데이터프레임\n",
    "        row_marker=0 #현재 행 표시기\n",
    "        for row in table.find_all('tr'): #각 tr에 대해\n",
    "            col_marker=0 #현재 열 표시기 0으로 시작\n",
    "            columns=row.find_all('td') #각 row의 td에 대해\n",
    "            for column in columns: #한개의 td는 한개의 column\n",
    "                df.iat[row_marker,col_marker]=column.get_text()\n",
    "                col_marker+=1\n",
    "            if len(columns)>0:\n",
    "                row_marker+=1\n",
    "                \n",
    "        for col in df:\n",
    "            try:\n",
    "                if col--'Rank':\n",
    "                    continue\n",
    "                df[col]-df[col].astype(float)\n",
    "            except:\n",
    "                pass\n",
    "        return df"
   ]
  },
  {
   "cell_type": "code",
   "execution_count": 7,
   "metadata": {},
   "outputs": [
    {
     "data": {
      "image/png": "[encoded data removed]",
      "text/plain": [
       "<matplotlib.figure.Figure at 0x2b867ca04e0>"
      ]
     },
     "metadata": {},
     "output_type": "display_data"
    }
   ],
   "source": [
    "url='https://www.fantasypros.com/nfl/reports/leaders/rb.php?year=2015'\n",
    "hp=HTMLTableParser()\n",
    "table=hp.parse_url(url)[0]\n",
    "table\n",
    "avg=table['Avg'].values\n",
    "table\n",
    "table['Avg']=list(map(lambda x:float(x),table.Avg))\n",
    "table\n",
    "topten=list(table.loc[0:9,'Player'])\n",
    "topten\n",
    "topavg=list(table.loc[0:9,'Avg'])\n",
    "plt.figure()\n",
    "plt.barh(range(10),topavg)\n",
    "plt.xlabel('Avg')\n",
    "plt.yticks(np.arange(10),topten)\n",
    "plt.show()"
   ]
  },
  {
   "cell_type": "code",
   "execution_count": null,
   "metadata": {
    "collapsed": true
   },
   "outputs": [],
   "source": []
  }
 ],
 "metadata": {
  "kernelspec": {
   "display_name": "Python 3",
   "language": "python",
   "name": "python3"
  },
  "language_info": {
   "codemirror_mode": {
    "name": "ipython",
    "version": 3
   },
   "file_extension": ".py",
   "mimetype": "text/x-python",
   "name": "python",
   "nbconvert_exporter": "python",
   "pygments_lexer": "ipython3",
   "version": "3.6.1"
  }
 },
 "nbformat": 4,
 "nbformat_minor": 2
}
