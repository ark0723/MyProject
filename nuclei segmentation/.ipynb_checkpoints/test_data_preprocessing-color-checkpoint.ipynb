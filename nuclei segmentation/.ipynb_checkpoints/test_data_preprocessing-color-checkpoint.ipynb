{
 "cells": [
  {
   "cell_type": "code",
   "execution_count": 1,
   "metadata": {
    "collapsed": true
   },
   "outputs": [],
   "source": [
    "import os\n",
    "\n",
    "filenames= os.listdir (\"stage1_test/.\") # get all files' and folders' names in the current directory\n",
    "\n",
    "result = []\n",
    "for filename in filenames: # loop through all the files and folders\n",
    "    if os.path.isdir(os.path.join(os.path.abspath(\"stage1_test/.\"), filename)): # check whether the current object is a folder or not\n",
    "        result.append(filename)\n",
    "        \n",
    "result.sort()\n",
    "\n",
    "f= open('test_forder_list.txt','w')\n",
    "for index,filename in enumerate(result):\n",
    "    f.write(\"%s. %s \\n\"%(index,filename))\n",
    "\n",
    "f.close()"
   ]
  },
  {
   "cell_type": "code",
   "execution_count": 2,
   "metadata": {
    "scrolled": true
   },
   "outputs": [
    {
     "data": {
      "text/plain": [
       "['0114f484a16c152baa2d82fdd43740880a762c93f436c8988ac461c5c9dbe7d5',\n",
       " '0999dab07b11bc85fb8464fc36c947fbd8b5d6ec49817361cb780659ca805eac',\n",
       " '0a849e0eb15faa8a6d7329c3dd66aabe9a294cccb52ed30a90c8ca99092ae732',\n",
       " '0e132f71c8b4875c3c2dd7a22997468a3e842b46aa9bd47cf7b0e8b7d63f0925',\n",
       " '0ed3555a4bd48046d3b63d8baf03a5aa97e523aa483aaa07459e7afa39fb96c6',\n",
       " '0f1f896d9ae5a04752d3239c690402c022db4d72c0d2c087d73380896f72c466',\n",
       " '1747f62148a919c8feb6d607faeebdf504b5e2ad42b6b1710b1189c37ebcdb2c',\n",
       " '17b9bf4356db24967c4677b8376ac38f826de73a88b93a8d73a8b452e399cdff',\n",
       " '1879f4f4f05e2bada0ffeb46c128b8df7a79b14c84f38c3e216a69653495153b',\n",
       " '191b2b2205f2f5cc9da04702c5d422bc249faf8bca1107af792da63cccfba829',\n",
       " '1962d0c5faf3e85cda80e0578e0cb7aca50826d781620e5c1c4cc586bc69f81a',\n",
       " '1cdbfee1951356e7b0a215073828695fe1ead5f8b1add119b6645d2fdc8d844e',\n",
       " '1d9eacb3161f1e2b45550389ecf7c535c7199c6b44b1c6a46303f7b965e508f1',\n",
       " '1ef68e93964c2d9230100c1347c328f6385a7bc027879dc3d4c055e6fe80cb3c',\n",
       " '259b35151d4a7a5ffdd7ab7f171b142db8cfe40beeee67277fac6adca4d042c4',\n",
       " '295682d9eb5acb5c1976a460c085734bfaf38482b0a3f02591c2bfdcd4128549',\n",
       " '31f1fbe85b8899258ea5bcf5f93f7ac8238660c386aeab40649c715bd2e38a0a',\n",
       " '336d3e4105766f8ad328a7ee9571e743f376f8cbcf6a969ca7e353fe3235c523',\n",
       " '38f5cfb55fc8b048e82a5c895b25fefae7a70c71ab9990c535d1030637bf6a1f',\n",
       " '3c4c675825f7509877bc10497f498c9a2e3433bf922bd870914a2eb21a54fd26',\n",
       " '432f367a4c5b5674de2e2977744d10289a064e5704b21af6607b4975be47c580',\n",
       " '43a71aeb641faa18742cb826772a8566c6c947d7050f9ab15459de6cc2b3b6af',\n",
       " '44afae184c89e6ba55985b4d341acc1ae1e8b6ef96312064e0e6e630e022b078',\n",
       " '4727d94c6a57ed484270fdd8bbc6e3d5f2f15d5476794a4e37a40f2309a091e2',\n",
       " '472b1c5ff988dadc209faea92499bc07f305208dbda29d16262b3d543ac91c71',\n",
       " '4be73d68f433869188fe5e7f09c7f681ed51003da6aa5d19ce368726d8e271ee',\n",
       " '4f949bd8d914bbfa06f40d6a0e2b5b75c38bf53dbcbafc48c97f105bee4f8fac',\n",
       " '505bc0a3928d8aef5ce441c5a611fdd32e1e8eccdc15cc3a52b88030acb50f81',\n",
       " '519dc0d672d1c295fc69b629af8721ccb1a1f136d1976685a68487e62547ffe0',\n",
       " '51c70bb8a299943b27f8b354571272692d8f2705036a1a9562156c76da5f025b',\n",
       " '52b267e20519174e3ce1e1994b5d677804b16bc670aa5f6ffb6344a0fdf63fde',\n",
       " '53df5150ee56253fe5bc91a9230d377bb21f1300f443ba45a758bcb01a15c0e4',\n",
       " '550450e4bff4036fd671decdc5d42fec23578198d6a2fd79179c4368b9d6da18',\n",
       " '5cee644e5ffbef1ba021c7f389b33bafd3b1841f04d3edd7922d5084c2c4e0c7',\n",
       " '648c8ffa496e1716017906d0bf135debfc93386ae86aa3d4adbda9a505985fd9',\n",
       " '697a05c6fe4a07c601d46da80885645ad574ea19b47ee795ccff216c9f1f1808',\n",
       " '699f2992cd71e2e28cf45f81347ff22e76b37541ce88087742884cd0e9aadc68',\n",
       " '78a981bd27ba0c65a9169548665a17bda9f49050d0d3893a6567d1eb92cd003d',\n",
       " '7bdb668e6127b7eafc837a883f0648002bd063c736f55a4f673e787250a3fb04',\n",
       " '7f4cbe0b36b5d09466476a7d4e01f4f976c67872d549f4ff47b3e1e3a2b403af',\n",
       " '8922a6ac8fd0258ec27738ca101867169b20d90a60fc84f93df77acd5bf7c80b',\n",
       " '8b59819fbc92eefe45b1db95c0cc3a467ddcfc755684c7f2ba2f6ccb9ad740ab',\n",
       " '912a679e4b9b1d1a75170254fd675b8c24b664d80ad7ea7e460241a23535a406',\n",
       " '9ab2d381f90b485a68b82bc07f94397a0373e3215ad20935a958738e55f3cfc2',\n",
       " '9f17aea854db13015d19b34cb2022cfdeda44133323fcd6bb3545f7b9404d8ab',\n",
       " 'a4816cc1fb76cb3c5e481186833fc0ae9cf426a1406a2607e974e65e9cddba4f',\n",
       " 'a984e7fb886aa02e29d112766d3ce26a4f78eac540ce7bbdbd42af2761928f6d',\n",
       " 'ab298b962a63e4be9582513aaa84a5e270adba5fd2b16a50e59540524f63c3b8',\n",
       " 'ade080c6618cbbb0a25680cf847f312b5e19b22bfe1cafec0436987ebe5b1e7e',\n",
       " 'b83d1d77935b6cfd44105b54600ffc4b6bd82de57dec65571bcb117fa8398ba3',\n",
       " 'bdc789019cee8ddfae20d5f769299993b4b330b2d38d1218646cf89e77fbbd4d',\n",
       " 'c8e79ff4ac55f4b772057de28e539727b7f4f2a3de73bf7a082a0ace86d609eb',\n",
       " 'ca20076870e8fb604e61802605a9ac45419c82dd3e23404c56c4869f9502a5ef',\n",
       " 'd616d323a9eeb9da1b66f8d5df671d63c092c9919cb2c0b223e29c63257c944d',\n",
       " 'd6eb7ce7723e2f6dc13b90b41a29ded27dbd815bad633fdf582447c686018896',\n",
       " 'd8d4bf68a76e4e4c5f21de7ac613451f7115a04db686151e78b8ec0b6a22022b',\n",
       " 'da6c593410340b19bb212b9f6d274f95b08c0fc8f2570cd66bc5ed42c560acab',\n",
       " 'dab46d798d29aff2e99c23f47ed3064f5cafb1644629b015c95a2dd2ee593bb4',\n",
       " 'df40099c6306ca1f47fcc8a62e2fa39486d4e223177afdc51b2ad189691802d8',\n",
       " 'e17b7aedd251a016c01ef9158e6e4aa940d9f1b35942d86028dc1222192a9258',\n",
       " 'eea70a7948d25a9a791dbcb39228af4ea4049fe5ebdee9c04884be8cca3da835',\n",
       " 'f0d0ab13ff53adc3c4d57e95a5f83d80b06f2cbc0bf002b52cf7b496612e0ce4',\n",
       " 'f5effed21f671bbf4551ecebb7fe95f3be1cf09c16a60afe64d2f0b95be9d1eb',\n",
       " 'fac507fa4d1649e8b24c195d990f1fc3ca3633d917839e1751a9d412a14ab5e3',\n",
       " 'fe9adb627a6f45747c5a8223b671774791ededf9364f6544be487c540107fa4f']"
      ]
     },
     "execution_count": 2,
     "metadata": {},
     "output_type": "execute_result"
    }
   ],
   "source": [
    "result"
   ]
  },
  {
   "cell_type": "code",
   "execution_count": 3,
   "metadata": {
    "collapsed": true
   },
   "outputs": [],
   "source": [
    "folders = {}\n",
    "\n",
    "for i in range(0, len(result)):\n",
    "    folders[i+1]=result[i]"
   ]
  },
  {
   "cell_type": "code",
   "execution_count": 4,
   "metadata": {},
   "outputs": [
    {
     "data": {
      "text/plain": [
       "{1: '0114f484a16c152baa2d82fdd43740880a762c93f436c8988ac461c5c9dbe7d5',\n",
       " 2: '0999dab07b11bc85fb8464fc36c947fbd8b5d6ec49817361cb780659ca805eac',\n",
       " 3: '0a849e0eb15faa8a6d7329c3dd66aabe9a294cccb52ed30a90c8ca99092ae732',\n",
       " 4: '0e132f71c8b4875c3c2dd7a22997468a3e842b46aa9bd47cf7b0e8b7d63f0925',\n",
       " 5: '0ed3555a4bd48046d3b63d8baf03a5aa97e523aa483aaa07459e7afa39fb96c6',\n",
       " 6: '0f1f896d9ae5a04752d3239c690402c022db4d72c0d2c087d73380896f72c466',\n",
       " 7: '1747f62148a919c8feb6d607faeebdf504b5e2ad42b6b1710b1189c37ebcdb2c',\n",
       " 8: '17b9bf4356db24967c4677b8376ac38f826de73a88b93a8d73a8b452e399cdff',\n",
       " 9: '1879f4f4f05e2bada0ffeb46c128b8df7a79b14c84f38c3e216a69653495153b',\n",
       " 10: '191b2b2205f2f5cc9da04702c5d422bc249faf8bca1107af792da63cccfba829',\n",
       " 11: '1962d0c5faf3e85cda80e0578e0cb7aca50826d781620e5c1c4cc586bc69f81a',\n",
       " 12: '1cdbfee1951356e7b0a215073828695fe1ead5f8b1add119b6645d2fdc8d844e',\n",
       " 13: '1d9eacb3161f1e2b45550389ecf7c535c7199c6b44b1c6a46303f7b965e508f1',\n",
       " 14: '1ef68e93964c2d9230100c1347c328f6385a7bc027879dc3d4c055e6fe80cb3c',\n",
       " 15: '259b35151d4a7a5ffdd7ab7f171b142db8cfe40beeee67277fac6adca4d042c4',\n",
       " 16: '295682d9eb5acb5c1976a460c085734bfaf38482b0a3f02591c2bfdcd4128549',\n",
       " 17: '31f1fbe85b8899258ea5bcf5f93f7ac8238660c386aeab40649c715bd2e38a0a',\n",
       " 18: '336d3e4105766f8ad328a7ee9571e743f376f8cbcf6a969ca7e353fe3235c523',\n",
       " 19: '38f5cfb55fc8b048e82a5c895b25fefae7a70c71ab9990c535d1030637bf6a1f',\n",
       " 20: '3c4c675825f7509877bc10497f498c9a2e3433bf922bd870914a2eb21a54fd26',\n",
       " 21: '432f367a4c5b5674de2e2977744d10289a064e5704b21af6607b4975be47c580',\n",
       " 22: '43a71aeb641faa18742cb826772a8566c6c947d7050f9ab15459de6cc2b3b6af',\n",
       " 23: '44afae184c89e6ba55985b4d341acc1ae1e8b6ef96312064e0e6e630e022b078',\n",
       " 24: '4727d94c6a57ed484270fdd8bbc6e3d5f2f15d5476794a4e37a40f2309a091e2',\n",
       " 25: '472b1c5ff988dadc209faea92499bc07f305208dbda29d16262b3d543ac91c71',\n",
       " 26: '4be73d68f433869188fe5e7f09c7f681ed51003da6aa5d19ce368726d8e271ee',\n",
       " 27: '4f949bd8d914bbfa06f40d6a0e2b5b75c38bf53dbcbafc48c97f105bee4f8fac',\n",
       " 28: '505bc0a3928d8aef5ce441c5a611fdd32e1e8eccdc15cc3a52b88030acb50f81',\n",
       " 29: '519dc0d672d1c295fc69b629af8721ccb1a1f136d1976685a68487e62547ffe0',\n",
       " 30: '51c70bb8a299943b27f8b354571272692d8f2705036a1a9562156c76da5f025b',\n",
       " 31: '52b267e20519174e3ce1e1994b5d677804b16bc670aa5f6ffb6344a0fdf63fde',\n",
       " 32: '53df5150ee56253fe5bc91a9230d377bb21f1300f443ba45a758bcb01a15c0e4',\n",
       " 33: '550450e4bff4036fd671decdc5d42fec23578198d6a2fd79179c4368b9d6da18',\n",
       " 34: '5cee644e5ffbef1ba021c7f389b33bafd3b1841f04d3edd7922d5084c2c4e0c7',\n",
       " 35: '648c8ffa496e1716017906d0bf135debfc93386ae86aa3d4adbda9a505985fd9',\n",
       " 36: '697a05c6fe4a07c601d46da80885645ad574ea19b47ee795ccff216c9f1f1808',\n",
       " 37: '699f2992cd71e2e28cf45f81347ff22e76b37541ce88087742884cd0e9aadc68',\n",
       " 38: '78a981bd27ba0c65a9169548665a17bda9f49050d0d3893a6567d1eb92cd003d',\n",
       " 39: '7bdb668e6127b7eafc837a883f0648002bd063c736f55a4f673e787250a3fb04',\n",
       " 40: '7f4cbe0b36b5d09466476a7d4e01f4f976c67872d549f4ff47b3e1e3a2b403af',\n",
       " 41: '8922a6ac8fd0258ec27738ca101867169b20d90a60fc84f93df77acd5bf7c80b',\n",
       " 42: '8b59819fbc92eefe45b1db95c0cc3a467ddcfc755684c7f2ba2f6ccb9ad740ab',\n",
       " 43: '912a679e4b9b1d1a75170254fd675b8c24b664d80ad7ea7e460241a23535a406',\n",
       " 44: '9ab2d381f90b485a68b82bc07f94397a0373e3215ad20935a958738e55f3cfc2',\n",
       " 45: '9f17aea854db13015d19b34cb2022cfdeda44133323fcd6bb3545f7b9404d8ab',\n",
       " 46: 'a4816cc1fb76cb3c5e481186833fc0ae9cf426a1406a2607e974e65e9cddba4f',\n",
       " 47: 'a984e7fb886aa02e29d112766d3ce26a4f78eac540ce7bbdbd42af2761928f6d',\n",
       " 48: 'ab298b962a63e4be9582513aaa84a5e270adba5fd2b16a50e59540524f63c3b8',\n",
       " 49: 'ade080c6618cbbb0a25680cf847f312b5e19b22bfe1cafec0436987ebe5b1e7e',\n",
       " 50: 'b83d1d77935b6cfd44105b54600ffc4b6bd82de57dec65571bcb117fa8398ba3',\n",
       " 51: 'bdc789019cee8ddfae20d5f769299993b4b330b2d38d1218646cf89e77fbbd4d',\n",
       " 52: 'c8e79ff4ac55f4b772057de28e539727b7f4f2a3de73bf7a082a0ace86d609eb',\n",
       " 53: 'ca20076870e8fb604e61802605a9ac45419c82dd3e23404c56c4869f9502a5ef',\n",
       " 54: 'd616d323a9eeb9da1b66f8d5df671d63c092c9919cb2c0b223e29c63257c944d',\n",
       " 55: 'd6eb7ce7723e2f6dc13b90b41a29ded27dbd815bad633fdf582447c686018896',\n",
       " 56: 'd8d4bf68a76e4e4c5f21de7ac613451f7115a04db686151e78b8ec0b6a22022b',\n",
       " 57: 'da6c593410340b19bb212b9f6d274f95b08c0fc8f2570cd66bc5ed42c560acab',\n",
       " 58: 'dab46d798d29aff2e99c23f47ed3064f5cafb1644629b015c95a2dd2ee593bb4',\n",
       " 59: 'df40099c6306ca1f47fcc8a62e2fa39486d4e223177afdc51b2ad189691802d8',\n",
       " 60: 'e17b7aedd251a016c01ef9158e6e4aa940d9f1b35942d86028dc1222192a9258',\n",
       " 61: 'eea70a7948d25a9a791dbcb39228af4ea4049fe5ebdee9c04884be8cca3da835',\n",
       " 62: 'f0d0ab13ff53adc3c4d57e95a5f83d80b06f2cbc0bf002b52cf7b496612e0ce4',\n",
       " 63: 'f5effed21f671bbf4551ecebb7fe95f3be1cf09c16a60afe64d2f0b95be9d1eb',\n",
       " 64: 'fac507fa4d1649e8b24c195d990f1fc3ca3633d917839e1751a9d412a14ab5e3',\n",
       " 65: 'fe9adb627a6f45747c5a8223b671774791ededf9364f6544be487c540107fa4f'}"
      ]
     },
     "execution_count": 4,
     "metadata": {},
     "output_type": "execute_result"
    }
   ],
   "source": [
    "folders## mask combine"
   ]
  },
  {
   "cell_type": "markdown",
   "metadata": {},
   "source": [
    "## test image preprocessing"
   ]
  },
  {
   "cell_type": "code",
   "execution_count": 5,
   "metadata": {
    "collapsed": true
   },
   "outputs": [],
   "source": [
    "import glob\n",
    "import numpy as np\n",
    "from PIL import Image"
   ]
  },
  {
   "cell_type": "code",
   "execution_count": 6,
   "metadata": {
    "collapsed": true
   },
   "outputs": [],
   "source": [
    "def resizeToMin(load_dir, x_min, y_min, save_dir, mode = 'RGBA'): #load_dir = \"train/origin_image\"\n",
    "    save_dir = save_dir\n",
    "    img_dir = load_dir + \"/{}.png\"\n",
    "    \n",
    "    filenames= os.listdir (load_dir+\"/.\") # get all files' and folders' names in the specific directory\n",
    "    \n",
    "    for i in range(len(filenames)):\n",
    "        image = Image.open(img_dir.format(i+1))\n",
    "        old_size = image.size\n",
    "        \n",
    "        if old_size[0]>=x_min and old_size[1]>=y_min:  \n",
    "            resized_file= image.resize((x_min, y_min))\n",
    "            resized_file.save(save_dir+'/{0}.png'.format(i+1), 'png')\n",
    "        else:\n",
    "            ratio_x = float(x_min)/max(old_size)\n",
    "            ratio_y = float(y_min)/max(old_size)\n",
    "            new_size = tuple([int(old_size[0]*ratio_x), int(old_size[1]*ratio_y)])\n",
    "            image = image.resize(new_size, Image.ANTIALIAS)\n",
    "            # create a new image and paste the resized on it\n",
    "            new_im = Image.new(mode, (x_min, y_min))\n",
    "            new_im.paste(image,((x_min-new_size[0])//2,(y_min-new_size[1])//2))\n",
    "            new_im.save(save_dir + \"/{0}.png\".format(i+1), 'png')"
   ]
  },
  {
   "cell_type": "markdown",
   "metadata": {},
   "source": [
    "## Color Mask"
   ]
  },
  {
   "cell_type": "code",
   "execution_count": null,
   "metadata": {
    "collapsed": true
   },
   "outputs": [],
   "source": [
    "def color_mask(image): #arr=mask array\n",
    "    mask = Image.open(image)\n",
    "    arr = np.array(mask)\n",
    "    \n",
    "    rgb = np.zeros((arr.shape[0], arr.shape[1], 3), dtype= np.uint8)\n",
    "    red = randint(1,255)\n",
    "    green =randint(1,255)\n",
    "    blue = randint(1,255)\n",
    "\n",
    "    # get row number\n",
    "    for row in range(len(arr)):\n",
    "        for col in range(len(arr[row])):\n",
    "            if arr[row][col] ==255:\n",
    "                rgb[row][col][0]= red \n",
    "                rgb[row][col][1]= green\n",
    "                rgb[row][col][2]= blue\n",
    "    return rgb\n",
    "\n",
    "#maskimages -> make a one combined image -> save in 'save_dir' \n",
    "def combine_img(files, save_dir):\n",
    "    rgb = color_mask(files[0])\n",
    "    for file in files[1:]:\n",
    "        add = color_mask(file)\n",
    "        rgb+= add\n",
    "    \n",
    "    idx = np.where(rgb > 255) \n",
    "    \n",
    "    for i in range(len(idx[0])):\n",
    "        row, col, b = idx[0][i], idx[1][i], idx[2][i]\n",
    "        rgb[row][col][b] = 255\n",
    "    \n",
    "    img = Image.fromarray(rgb)\n",
    "    img.save(save_dir, 'png')\n",
    "    \n",
    "for k in folders:\n",
    "    target_dir = \"stage1_test/{0}/masks/\".format(folders[k])\n",
    "    \n",
    "    mask_files = glob.glob(target_dir + \"*.png\")\n",
    "    \n",
    "    save_dir = \"test/color_label/{0}.png\".format(k)\n",
    "    combine_img(mask_files, save_dir)"
   ]
  },
  {
   "cell_type": "markdown",
   "metadata": {
    "collapsed": true
   },
   "source": [
    "## Resize label to min size"
   ]
  },
  {
   "cell_type": "code",
   "execution_count": 12,
   "metadata": {
    "collapsed": true
   },
   "outputs": [],
   "source": [
    "# color mask(RGBA) -> resize to 256 x 256 \n",
    "resizeToMin(\"test/color_label\", 256, 256, \"test/color_resized_label\")"
   ]
  }
 ],
 "metadata": {
  "kernelspec": {
   "display_name": "Python 3",
   "language": "python",
   "name": "python3"
  },
  "language_info": {
   "codemirror_mode": {
    "name": "ipython",
    "version": 3
   },
   "file_extension": ".py",
   "mimetype": "text/x-python",
   "name": "python",
   "nbconvert_exporter": "python",
   "pygments_lexer": "ipython3",
   "version": "3.5.4"
  }
 },
 "nbformat": 4,
 "nbformat_minor": 2
}
