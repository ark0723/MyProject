{
 "cells": [
  {
   "cell_type": "code",
   "execution_count": 1,
   "metadata": {
    "collapsed": true
   },
   "outputs": [],
   "source": [
    "from __future__ import print_function\n",
    "from PIL import Image\n",
    "import os\n",
    "import numpy as np\n",
    "import glob"
   ]
  },
  {
   "cell_type": "code",
   "execution_count": 2,
   "metadata": {
    "collapsed": true
   },
   "outputs": [],
   "source": [
    "class dataProcess(object):\n",
    "\n",
    "    def __init__(self, out_rows, out_cols, data_path = 'train/gray_resized_image', label_path = \"train/label\", \n",
    "                 test_path = \"test/gray_resized_image\", img_type = \"png\"):\n",
    "\n",
    "        self.out_rows = out_rows\n",
    "        self.out_cols = out_cols\n",
    "        self.data_path = data_path\n",
    "        self.label_path = label_path\n",
    "        self.img_type = img_type\n",
    "        self.test_path = test_path\n",
    "\n",
    "    def create_train_data(self):\n",
    "        images = os.listdir(self.data_path +'/.')\n",
    "        total = len(images)\n",
    "\n",
    "        train_image_path = self.data_path + \"/{}.\" + self.img_type\n",
    "        train_mask_path = self.label_path + \"/{}.\" + self.img_type\n",
    "\n",
    "        imgs = np.ndarray((total, self.out_rows, self.out_cols), dtype=np.uint8)\n",
    "        imgs_mask = np.ndarray((total, self.out_rows, self.out_cols), dtype=np.uint8)\n",
    "\n",
    "        print('-'*30)\n",
    "        print('Creating training images...')\n",
    "        print('-'*30)\n",
    "\n",
    "        for i in range(total):\n",
    "            im = Image.open(train_image_path.format(i+1))\n",
    "            mask = Image.open(train_mask_path.format(i+1))\n",
    "            im = np.array(im)\n",
    "            im_mask = np.array(mask)\n",
    "\n",
    "            imgs[i] = im\n",
    "            imgs_mask[i] = im_mask\n",
    "\n",
    "        print('Loading done.')\n",
    "\n",
    "        np.save('imgs_train.npy',imgs)\n",
    "        np.save('imgs_mask_train.npy', imgs_mask)\n",
    "        print('Saving to .npy files done.')\n",
    "\n",
    "    def load_train_data(self):\n",
    "        imgs_train = np.load('imgs_train.npy')\n",
    "        imgs_mask_train = np.load('imgs_mask_train.npy')\n",
    "        \n",
    "        return imgs_train, imgs_mask_train\n",
    "\n",
    "\n",
    "    def create_test_data(self):\n",
    "        images = os.listdir(self.test_path +'/.')\n",
    "        total = len(images)\n",
    "\n",
    "        test_image_path = self.test_path + \"/{}.\" + self.img_type\n",
    "\n",
    "        imgs = np.ndarray((total, self.out_rows, self.out_cols), dtype=np.uint8)\n",
    "        imgs_id = np.ndarray((total, ), dtype=np.int32)\n",
    "\n",
    "        i = 0\n",
    "        print('-'*30)\n",
    "        print('Creating test images...')\n",
    "        print('-'*30)\n",
    "\n",
    "\n",
    "        for i in range(total):\n",
    "            img_id = int(i+1)\n",
    "            im = Image.open(test_image_path.format(i+1))\n",
    "            im = np.array(im)\n",
    "            \n",
    "            imgs[i] = im\n",
    "            imgs_id[i] = img_id\n",
    "        print('Loading done.')\n",
    "\n",
    "        np.save('imgs_test.npy', imgs)\n",
    "        np.save('imgs_id_test.npy', imgs_id)\n",
    "        print('Saving to .npy files done.')\n",
    "\n",
    "    def load_test_data(self):\n",
    "        imgs_test = np.load('imgs_test.npy')\n",
    "        imgs_id = np.load('imgs_id_test.npy')\n",
    "        \n",
    "        return imgs_test, imgs_id"
   ]
  },
  {
   "cell_type": "code",
   "execution_count": 3,
   "metadata": {},
   "outputs": [
    {
     "name": "stdout",
     "output_type": "stream",
     "text": [
      "------------------------------\n",
      "Creating training images...\n",
      "------------------------------\n",
      "Loading done.\n",
      "Saving to .npy files done.\n",
      "------------------------------\n",
      "Creating test images...\n",
      "------------------------------\n",
      "Loading done.\n",
      "Saving to .npy files done.\n"
     ]
    }
   ],
   "source": [
    "if __name__ == '__main__':\n",
    "    myprocess = dataProcess(256,256)\n",
    "    myprocess.create_train_data()\n",
    "    myprocess.create_test_data()"
   ]
  }
 ],
 "metadata": {
  "kernelspec": {
   "display_name": "Python 3",
   "language": "python",
   "name": "python3"
  },
  "language_info": {
   "codemirror_mode": {
    "name": "ipython",
    "version": 3
   },
   "file_extension": ".py",
   "mimetype": "text/x-python",
   "name": "python",
   "nbconvert_exporter": "python",
   "pygments_lexer": "ipython3",
   "version": "3.5.4"
  }
 },
 "nbformat": 4,
 "nbformat_minor": 2
}
