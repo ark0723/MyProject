{
 "cells": [
  {
   "cell_type": "code",
   "execution_count": 24,
   "metadata": {},
   "outputs": [],
   "source": [
    "from keras.preprocessing.image import ImageDataGenerator\n",
    "from keras.preprocessing.image import array_to_img, img_to_array, load_img\n",
    "\n",
    "input_path = 'train/image/3.png'\n",
    "output_path = 'train/aug_train/{}.png'\n",
    "count = 10\n",
    "\n",
    "gen = ImageDataGenerator(horizontal_flip=True, vertical_flip=True, zca_whitening=True)\n",
    "\n",
    "# load image to array\n",
    "image = img_to_array(load_img(input_path))"
   ]
  },
  {
   "cell_type": "code",
   "execution_count": 11,
   "metadata": {},
   "outputs": [
    {
     "data": {
      "text/plain": [
       "array([[[ 130.,   62.,  165.],\n",
       "        [ 126.,   56.,  162.],\n",
       "        [ 124.,   54.,  158.],\n",
       "        ..., \n",
       "        [ 202.,  196.,  201.],\n",
       "        [ 198.,  195.,  206.],\n",
       "        [ 200.,  195.,  211.]],\n",
       "\n",
       "       [[ 128.,   61.,  169.],\n",
       "        [ 127.,   57.,  164.],\n",
       "        [ 123.,   55.,  157.],\n",
       "        ..., \n",
       "        [ 196.,  198.,  204.],\n",
       "        [ 199.,  195.,  204.],\n",
       "        [ 201.,  195.,  204.]],\n",
       "\n",
       "       [[ 133.,   61.,  170.],\n",
       "        [ 131.,   58.,  165.],\n",
       "        [ 130.,   56.,  156.],\n",
       "        ..., \n",
       "        [ 197.,  200.,  206.],\n",
       "        [ 198.,  195.,  202.],\n",
       "        [ 198.,  197.,  198.]],\n",
       "\n",
       "       ..., \n",
       "       [[ 195.,  181.,  203.],\n",
       "        [ 192.,  172.,  200.],\n",
       "        [ 187.,  145.,  194.],\n",
       "        ..., \n",
       "        [ 197.,  180.,  197.],\n",
       "        [ 202.,  197.,  202.],\n",
       "        [ 201.,  198.,  205.]],\n",
       "\n",
       "       [[ 198.,  184.,  203.],\n",
       "        [ 195.,  177.,  205.],\n",
       "        [ 189.,  156.,  197.],\n",
       "        ..., \n",
       "        [ 196.,  175.,  201.],\n",
       "        [ 206.,  196.,  199.],\n",
       "        [ 203.,  199.,  197.]],\n",
       "\n",
       "       [[ 202.,  186.,  202.],\n",
       "        [ 199.,  179.,  203.],\n",
       "        [ 192.,  164.,  195.],\n",
       "        ..., \n",
       "        [ 196.,  171.,  200.],\n",
       "        [ 210.,  194.,  202.],\n",
       "        [ 205.,  197.,  206.]]], dtype=float32)"
      ]
     },
     "execution_count": 11,
     "metadata": {},
     "output_type": "execute_result"
    }
   ],
   "source": [
    "image"
   ]
  },
  {
   "cell_type": "code",
   "execution_count": 12,
   "metadata": {
    "collapsed": true
   },
   "outputs": [],
   "source": [
    "#channel_shift_range=0. width_shift_range=0.2, height_shift_range=0.2, zoom_range=0.2"
   ]
  },
  {
   "cell_type": "code",
   "execution_count": 25,
   "metadata": {},
   "outputs": [
    {
     "data": {
      "text/plain": [
       "(1, 256, 256, 3)"
      ]
     },
     "execution_count": 25,
     "metadata": {},
     "output_type": "execute_result"
    }
   ],
   "source": [
    "# reshape to array rank 4\n",
    "image = image.reshape((1,) + image.shape)\n",
    "image.shape"
   ]
  },
  {
   "cell_type": "code",
   "execution_count": 26,
   "metadata": {},
   "outputs": [
    {
     "name": "stderr",
     "output_type": "stream",
     "text": [
      "C:\\Users\\User\\Anaconda3\\envs\\tensorflow\\lib\\site-packages\\keras\\preprocessing\\image.py:556: UserWarning: This ImageDataGenerator specifies `zca_whitening`, but it hasn't been fit on any training data. Fit it first by calling `.fit(numpy_data)`.\n",
      "  warnings.warn('This ImageDataGenerator specifies '\n"
     ]
    }
   ],
   "source": [
    "# let's create infinite flow of images\n",
    "images_flow = gen.flow(image, batch_size=1)\n",
    "for i, new_images in enumerate(images_flow):\n",
    "    # we access only first image because of batch_size=1\n",
    "    new_image = array_to_img(new_images[0], scale=True)\n",
    "    new_image.save(output_path.format(i + 1))\n",
    "    if i >= count:\n",
    "        break"
   ]
  }
 ],
 "metadata": {
  "kernelspec": {
   "display_name": "Python 3",
   "language": "python",
   "name": "python3"
  },
  "language_info": {
   "codemirror_mode": {
    "name": "ipython",
    "version": 3
   },
   "file_extension": ".py",
   "mimetype": "text/x-python",
   "name": "python",
   "nbconvert_exporter": "python",
   "pygments_lexer": "ipython3",
   "version": "3.5.4"
  }
 },
 "nbformat": 4,
 "nbformat_minor": 2
}
