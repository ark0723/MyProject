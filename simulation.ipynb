{
 "cells": [
  {
   "cell_type": "code",
   "execution_count": 10,
   "metadata": {},
   "outputs": [
    {
     "name": "stdout",
     "output_type": "stream",
     "text": [
      "The probability for 2 : 0.02769\n",
      "The probability for 3 : 0.05621\n",
      "The probability for 4 : 0.08346\n",
      "The probability for 5 : 0.1113\n",
      "The probability for 6 : 0.13963\n",
      "The probability for 7 : 0.16461\n",
      "The probability for 8 : 0.14075\n",
      "The probability for 9 : 0.1114\n",
      "The probability for 10 : 0.08262\n",
      "The probability for 11 : 0.0554\n",
      "The probability for 12 : 0.02693\n"
     ]
    }
   ],
   "source": [
    "#두 주사위의 눈을 더한 수들의 확률분포\n",
    "from random import *\n",
    "def roll():\n",
    "    return randint(-10000,10000)%6 +1\n",
    "\n",
    "def dicestat(trials):\n",
    "\tcountlist=[0 for i in range(11)]\n",
    "\tcountprob=[0 for i in range(11)]\n",
    "\tfor i in range(trials):\n",
    "\t\tvalue1=roll()\n",
    "\t\tvalue2=roll()\n",
    "\t\tdice_index=value1+value2-2\n",
    "\t\tcountlist[dice_index]+=1\n",
    "\tfor j in range(11):\n",
    "\t\tcountprob[j]=countlist[j]/trials\n",
    "\t\tprint(\"The probability for\", j+2,\":\",countprob[j])\n",
    "\n",
    "dicestat(100000)"
   ]
  },
  {
   "cell_type": "code",
   "execution_count": 12,
   "metadata": {},
   "outputs": [
    {
     "data": {
      "text/plain": [
       "104.87129"
      ]
     },
     "execution_count": 12,
     "metadata": {},
     "output_type": "execute_result"
    }
   ],
   "source": [
    "#dice_hungry game\n",
    "from random import *\n",
    "def roll():\n",
    "    return randint(-10000,10000)%6 +1\n",
    "\n",
    "def dice_hungry():\n",
    "    strikes=0 # 같은 숫자가 나온 횟수\n",
    "    winnings=0 # 획득한 cents의 합\n",
    "    while strikes<3: # 같은 숫자가 3번 나오면 게임이 끝남\n",
    "        die1=roll()\n",
    "        die2=roll()\n",
    "        if die1==die2:\n",
    "            strikes+=1\n",
    "        else: \n",
    "            winnings+=(die1+die2)\n",
    "    return winnings\n",
    "\n",
    "def avg_games(runs):\n",
    "    total=0\n",
    "    for i in range(runs):\n",
    "        total+=dice_hungry()\n",
    "    return total/runs\n",
    "\n",
    "avg_games(100000)"
   ]
  },
  {
   "cell_type": "code",
   "execution_count": 13,
   "metadata": {},
   "outputs": [
    {
     "data": {
      "text/plain": [
       "0.99678"
      ]
     },
     "execution_count": 13,
     "metadata": {},
     "output_type": "execute_result"
    }
   ],
   "source": [
    "#random one to one matching\n",
    "from random import shuffle\n",
    "#pairs is the number of pairs to be guessed - 리스트 속 숫자들의 개수\n",
    "#samples is the number of samples to take - 실험을 몇 번 시행하는가? \n",
    "def student(pairs, samples):\n",
    "    num_correct=0\n",
    "    matching=list(range(pairs))\n",
    "    for i in range(samples):\n",
    "        shuffle(matching)\n",
    "        for j in range(pairs):\n",
    "            if matching[j]==j:\n",
    "                num_correct+=1\n",
    "    return num_correct/samples\n",
    "\n",
    "student(20,100000)\n"
   ]
  },
  {
   "cell_type": "code",
   "execution_count": 16,
   "metadata": {},
   "outputs": [
    {
     "data": {
      "text/plain": [
       "[400.3071,\n",
       " 201.46605,\n",
       " 134.41297,\n",
       " 100.74017,\n",
       " 81.22301,\n",
       " 67.30448,\n",
       " 58.17695,\n",
       " 51.33559,\n",
       " 45.66273,\n",
       " 41.19938,\n",
       " 37.62977,\n",
       " 34.73779,\n",
       " 32.05358,\n",
       " 29.82632,\n",
       " 28.08971,\n",
       " 26.42737,\n",
       " 24.91471,\n",
       " 23.72914,\n",
       " 22.52958,\n",
       " 21.42279,\n",
       " 20.61378,\n",
       " 19.74663,\n",
       " 18.96801,\n",
       " 18.35636,\n",
       " 17.58279,\n",
       " 17.02582,\n",
       " 16.54438,\n",
       " 16.01358,\n",
       " 15.61423,\n",
       " 15.2364,\n",
       " 14.8561,\n",
       " 14.42668,\n",
       " 14.08613,\n",
       " 13.78469,\n",
       " 13.53846,\n",
       " 13.22397,\n",
       " 12.93929,\n",
       " 12.75594,\n",
       " 12.60012,\n",
       " 12.35299,\n",
       " 12.13061,\n",
       " 11.97692,\n",
       " 11.79361,\n",
       " 11.67768,\n",
       " 11.477,\n",
       " 11.38033,\n",
       " 11.24439,\n",
       " 11.19423,\n",
       " 11.12415,\n",
       " 11.00292,\n",
       " 10.97534,\n",
       " 10.91647,\n",
       " 10.76833,\n",
       " 10.76002,\n",
       " 10.70055,\n",
       " 10.6888,\n",
       " 10.67523,\n",
       " 10.65043,\n",
       " 10.68019,\n",
       " 10.66611,\n",
       " 10.71112,\n",
       " 10.69924,\n",
       " 10.78784,\n",
       " 10.83563,\n",
       " 10.84998,\n",
       " 10.93741,\n",
       " 11.01934,\n",
       " 11.11386,\n",
       " 11.22456,\n",
       " 11.42957,\n",
       " 11.56915,\n",
       " 11.75582,\n",
       " 11.86568,\n",
       " 12.07523,\n",
       " 12.29295,\n",
       " 12.56244,\n",
       " 12.89314,\n",
       " 13.24454,\n",
       " 13.63057,\n",
       " 14.05219,\n",
       " 14.53759,\n",
       " 14.99031,\n",
       " 15.60818,\n",
       " 16.34444,\n",
       " 17.02301,\n",
       " 17.90136,\n",
       " 19.02838,\n",
       " 20.14946,\n",
       " 21.72375,\n",
       " 23.60151,\n",
       " 25.60546,\n",
       " 28.40883,\n",
       " 31.99663,\n",
       " 36.45943,\n",
       " 43.2986,\n",
       " 53.37979,\n",
       " 70.08141,\n",
       " 103.17377,\n",
       " 202.88857]"
      ]
     },
     "execution_count": 16,
     "metadata": {},
     "output_type": "execute_result"
    }
   ],
   "source": [
    "#umbrella quandary problem\n",
    "from random import random\n",
    "def umbrella(p): # p is the probability of rain\n",
    "    wet=False\n",
    "    trips=0\n",
    "    location=0# 0는 집, 1은 회사의 위치를 의미\n",
    "    umbrella=[1,1] # index 0는 집, index1은 회사\n",
    "    while not wet:\n",
    "        if random()<p: # it is raining\n",
    "            if umbrella[location]==0: #no umbrella\n",
    "                wet=True\n",
    "            else:\n",
    "                trips+=1\n",
    "                umbrella[location]-=1\n",
    "                location=1-location\n",
    "                umbrella[location]+=1\n",
    "        else:\n",
    "            trips+=1\n",
    "            location=1-location\n",
    "    return trips\n",
    "\n",
    "def test(runs): # runs means the number of independet experiment.#(runs) experiments for each probability from 0.01 to 0.99 \n",
    "    results=[None]*99\n",
    "    p=.01\n",
    "    for i in range(99):\n",
    "        trips=0\n",
    "        for k in range(runs):\n",
    "            trips+=umbrella(p)\n",
    "        results[i]=trips/runs\n",
    "        p+=.01\n",
    "    return results\n",
    "\n",
    "test(100000)\n",
    "            \n",
    "    "
   ]
  },
  {
   "cell_type": "code",
   "execution_count": null,
   "metadata": {
    "collapsed": true
   },
   "outputs": [],
   "source": []
  }
 ],
 "metadata": {
  "kernelspec": {
   "display_name": "Python 3",
   "language": "python",
   "name": "python3"
  },
  "language_info": {
   "codemirror_mode": {
    "name": "ipython",
    "version": 3
   },
   "file_extension": ".py",
   "mimetype": "text/x-python",
   "name": "python",
   "nbconvert_exporter": "python",
   "pygments_lexer": "ipython3",
   "version": "3.6.3"
  }
 },
 "nbformat": 4,
 "nbformat_minor": 2
}
