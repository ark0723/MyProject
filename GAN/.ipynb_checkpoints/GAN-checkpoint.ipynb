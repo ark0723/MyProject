{
 "cells": [
  {
   "cell_type": "code",
   "execution_count": 1,
   "metadata": {
    "collapsed": true
   },
   "outputs": [],
   "source": [
    "import tensorflow as tf\n",
    "import matplotlib.pyplot as plt\n",
    "import numpy as np"
   ]
  },
  {
   "cell_type": "code",
   "execution_count": 2,
   "metadata": {},
   "outputs": [
    {
     "name": "stdout",
     "output_type": "stream",
     "text": [
      "Successfully downloaded train-images-idx3-ubyte.gz 9912422 bytes.\n",
      "Extracting ./mnist/data/train-images-idx3-ubyte.gz\n",
      "Successfully downloaded train-labels-idx1-ubyte.gz 28881 bytes.\n",
      "Extracting ./mnist/data/train-labels-idx1-ubyte.gz\n",
      "Successfully downloaded t10k-images-idx3-ubyte.gz 1648877 bytes.\n",
      "Extracting ./mnist/data/t10k-images-idx3-ubyte.gz\n",
      "Successfully downloaded t10k-labels-idx1-ubyte.gz 4542 bytes.\n",
      "Extracting ./mnist/data/t10k-labels-idx1-ubyte.gz\n"
     ]
    }
   ],
   "source": [
    "from tensorflow.examples.tutorials.mnist import input_data\n",
    "mnist = input_data.read_data_sets(\"./mnist/data/\", one_hot=True)"
   ]
  },
  {
   "cell_type": "code",
   "execution_count": 3,
   "metadata": {
    "collapsed": true
   },
   "outputs": [],
   "source": [
    "# \n",
    "total_epoch = 100\n",
    "batch_size = 100\n",
    "learning_rate = 0.0002\n",
    "# layer option\n",
    "n_hidden = 256\n",
    "n_input = 28 * 28\n",
    "n_noise = 128 # the size of noise "
   ]
  },
  {
   "cell_type": "code",
   "execution_count": 4,
   "metadata": {
    "collapsed": true
   },
   "outputs": [],
   "source": [
    "# X is the input, we do not use the labels Y of images\n",
    "X = tf.placeholder(tf.float32, [None, n_input])\n",
    "# Z is the noise \n",
    "Z = tf.placeholder(tf.float32, [None, n_noise])"
   ]
  },
  {
   "cell_type": "code",
   "execution_count": 5,
   "metadata": {
    "collapsed": true
   },
   "outputs": [],
   "source": [
    "g_W1 = tf.Variable(tf.random_normal([n_noise, n_hidden], stddev=0.01))\n",
    "g_b1 = tf.Variable(tf.zeros([n_hidden]))\n",
    "g_W2 = tf.Variable(tf.random_normal([n_hidden, n_input], stddev=0.01))\n",
    "g_b2 = tf.Variable(tf.zeros([n_input]))"
   ]
  },
  {
   "cell_type": "code",
   "execution_count": 6,
   "metadata": {
    "collapsed": true
   },
   "outputs": [],
   "source": [
    "def generator(noise_z):\n",
    "    hidden = tf.nn.relu(\n",
    "                    tf.matmul(noise_z, g_W1) + g_b1)\n",
    "    output = tf.nn.sigmoid(\n",
    "                    tf.matmul(hidden, g_W2) + g_b2)\n",
    "\n",
    "    return output"
   ]
  },
  {
   "cell_type": "code",
   "execution_count": 7,
   "metadata": {
    "collapsed": true
   },
   "outputs": [],
   "source": [
    "d_W1 = tf.Variable(tf.random_normal([n_input, n_hidden], stddev=0.01))\n",
    "d_b1 = tf.Variable(tf.zeros([n_hidden]))\n",
    "d_W2 = tf.Variable(tf.random_normal([n_hidden, 1], stddev=0.01))\n",
    "d_b2 = tf.Variable(tf.zeros([1]))"
   ]
  },
  {
   "cell_type": "code",
   "execution_count": 8,
   "metadata": {
    "collapsed": true
   },
   "outputs": [],
   "source": [
    "def discriminator(inputs):\n",
    "    hidden = tf.nn.relu(\n",
    "                    tf.matmul(inputs, d_W1) + d_b1)\n",
    "    output = tf.nn.sigmoid(\n",
    "                    tf.matmul(hidden, d_W2) + d_b2)\n",
    "\n",
    "    return output"
   ]
  },
  {
   "cell_type": "code",
   "execution_count": 9,
   "metadata": {},
   "outputs": [],
   "source": [
    "def get_noise(batch_size, n_noise):\n",
    "    return np.random.normal(size=(batch_size, n_noise))"
   ]
  },
  {
   "cell_type": "code",
   "execution_count": 10,
   "metadata": {
    "collapsed": true
   },
   "outputs": [],
   "source": [
    "# Generate the random image\n",
    "G = generator(Z)\n",
    "# Discriminate the generated image\n",
    "D_generate = discriminator(G)\n",
    "# Discriminate the real image\n",
    "D_real = discriminator(X)"
   ]
  },
  {
   "cell_type": "code",
   "execution_count": 11,
   "metadata": {},
   "outputs": [],
   "source": [
    "loss_D = tf.reduce_mean(tf.log(D_real)) + tf.reduce_mean(tf.log(1 - D_generate))"
   ]
  },
  {
   "cell_type": "code",
   "execution_count": 12,
   "metadata": {
    "collapsed": true
   },
   "outputs": [],
   "source": [
    "loss_G = tf.reduce_mean(tf.log(D_generate))"
   ]
  },
  {
   "cell_type": "code",
   "execution_count": 13,
   "metadata": {
    "collapsed": true
   },
   "outputs": [],
   "source": [
    "d_var_list = [d_W1, d_b1, d_W2, d_b2]\n",
    "g_var_list = [g_W1, g_b1, g_W2, g_b2]"
   ]
  },
  {
   "cell_type": "code",
   "execution_count": 14,
   "metadata": {},
   "outputs": [],
   "source": [
    "train_D = tf.train.AdamOptimizer(learning_rate).minimize(-loss_D,\n",
    "                                                         var_list=d_var_list)\n",
    "train_G = tf.train.AdamOptimizer(learning_rate).minimize(-loss_G,\n",
    "                                                         var_list=g_var_list)"
   ]
  },
  {
   "cell_type": "code",
   "execution_count": 15,
   "metadata": {
    "collapsed": true
   },
   "outputs": [],
   "source": [
    "sess = tf.Session()\n",
    "sess.run(tf.global_variables_initializer())\n",
    "\n",
    "total_batch = int(mnist.train.num_examples/batch_size)\n",
    "loss_val_D, loss_val_G = 0, 0"
   ]
  },
  {
   "cell_type": "code",
   "execution_count": 17,
   "metadata": {},
   "outputs": [
    {
     "name": "stdout",
     "output_type": "stream",
     "text": [
      "Epoch: 0000 D loss: -0.5532 G loss: -2.138\n",
      "Epoch: 0001 D loss: -0.1679 G loss: -2.74\n",
      "Epoch: 0002 D loss: -0.643 G loss: -1.379\n",
      "Epoch: 0003 D loss: -0.6434 G loss: -1.514\n",
      "Epoch: 0004 D loss: -0.5134 G loss: -1.813\n",
      "Epoch: 0005 D loss: -0.3762 G loss: -2.189\n",
      "Epoch: 0006 D loss: -0.3735 G loss: -2.579\n",
      "Epoch: 0007 D loss: -0.4318 G loss: -2.475\n",
      "Epoch: 0008 D loss: -0.3996 G loss: -2.26\n",
      "Epoch: 0009 D loss: -0.3097 G loss: -2.513\n",
      "Epoch: 0010 D loss: -0.519 G loss: -1.896\n",
      "Epoch: 0011 D loss: -0.6929 G loss: -1.708\n",
      "Epoch: 0012 D loss: -0.5006 G loss: -1.924\n",
      "Epoch: 0013 D loss: -0.4968 G loss: -2.153\n",
      "Epoch: 0014 D loss: -0.4635 G loss: -2.063\n",
      "Epoch: 0015 D loss: -0.3641 G loss: -2.578\n",
      "Epoch: 0016 D loss: -0.4999 G loss: -2.148\n",
      "Epoch: 0017 D loss: -0.4287 G loss: -2.312\n",
      "Epoch: 0018 D loss: -0.3639 G loss: -2.232\n",
      "Epoch: 0019 D loss: -0.5298 G loss: -2.009\n",
      "Epoch: 0020 D loss: -0.5408 G loss: -2.206\n",
      "Epoch: 0021 D loss: -0.5395 G loss: -2.508\n",
      "Epoch: 0022 D loss: -0.5212 G loss: -2.138\n",
      "Epoch: 0023 D loss: -0.447 G loss: -2.273\n",
      "Epoch: 0024 D loss: -0.592 G loss: -2.16\n",
      "Epoch: 0025 D loss: -0.6063 G loss: -2.125\n",
      "Epoch: 0026 D loss: -0.6794 G loss: -2.135\n",
      "Epoch: 0027 D loss: -0.5305 G loss: -2.221\n",
      "Epoch: 0028 D loss: -0.6563 G loss: -1.897\n",
      "Epoch: 0029 D loss: -0.6383 G loss: -2.228\n",
      "Epoch: 0030 D loss: -0.61 G loss: -2.175\n",
      "Epoch: 0031 D loss: -0.4219 G loss: -2.315\n",
      "Epoch: 0032 D loss: -0.5616 G loss: -1.932\n",
      "Epoch: 0033 D loss: -0.5338 G loss: -2.267\n",
      "Epoch: 0034 D loss: -0.5892 G loss: -2.156\n",
      "Epoch: 0035 D loss: -0.6336 G loss: -2.255\n",
      "Epoch: 0036 D loss: -0.6289 G loss: -2.393\n",
      "Epoch: 0037 D loss: -0.6723 G loss: -2.263\n",
      "Epoch: 0038 D loss: -0.6736 G loss: -2.016\n",
      "Epoch: 0039 D loss: -0.6463 G loss: -2.221\n",
      "Epoch: 0040 D loss: -0.7393 G loss: -2.082\n",
      "Epoch: 0041 D loss: -0.6055 G loss: -1.984\n",
      "Epoch: 0042 D loss: -0.6797 G loss: -2.214\n",
      "Epoch: 0043 D loss: -0.7303 G loss: -2.108\n",
      "Epoch: 0044 D loss: -0.6491 G loss: -1.957\n",
      "Epoch: 0045 D loss: -0.756 G loss: -1.892\n",
      "Epoch: 0046 D loss: -0.6621 G loss: -1.863\n",
      "Epoch: 0047 D loss: -0.7145 G loss: -1.966\n",
      "Epoch: 0048 D loss: -0.6866 G loss: -2.021\n",
      "Epoch: 0049 D loss: -0.5606 G loss: -2.279\n",
      "Epoch: 0050 D loss: -0.5762 G loss: -2.245\n",
      "Epoch: 0051 D loss: -0.5712 G loss: -2.072\n",
      "Epoch: 0052 D loss: -0.655 G loss: -2.162\n",
      "Epoch: 0053 D loss: -0.6526 G loss: -1.867\n",
      "Epoch: 0054 D loss: -0.7698 G loss: -1.835\n",
      "Epoch: 0055 D loss: -0.7257 G loss: -2.011\n",
      "Epoch: 0056 D loss: -0.7605 G loss: -1.798\n",
      "Epoch: 0057 D loss: -0.6704 G loss: -1.914\n",
      "Epoch: 0058 D loss: -0.6361 G loss: -1.958\n",
      "Epoch: 0059 D loss: -0.7527 G loss: -2.169\n",
      "Epoch: 0060 D loss: -0.7122 G loss: -1.987\n",
      "Epoch: 0061 D loss: -0.6198 G loss: -1.875\n",
      "Epoch: 0062 D loss: -0.6916 G loss: -1.944\n",
      "Epoch: 0063 D loss: -0.6336 G loss: -2.023\n",
      "Epoch: 0064 D loss: -0.6568 G loss: -1.976\n",
      "Epoch: 0065 D loss: -0.6307 G loss: -2.463\n",
      "Epoch: 0066 D loss: -0.7105 G loss: -2.074\n",
      "Epoch: 0067 D loss: -0.7221 G loss: -1.935\n",
      "Epoch: 0068 D loss: -0.6871 G loss: -2.128\n",
      "Epoch: 0069 D loss: -0.6809 G loss: -1.988\n",
      "Epoch: 0070 D loss: -0.6557 G loss: -1.892\n",
      "Epoch: 0071 D loss: -0.6791 G loss: -1.855\n",
      "Epoch: 0072 D loss: -0.5946 G loss: -2.117\n",
      "Epoch: 0073 D loss: -0.616 G loss: -1.726\n",
      "Epoch: 0074 D loss: -0.6433 G loss: -2.186\n",
      "Epoch: 0075 D loss: -0.631 G loss: -2.195\n",
      "Epoch: 0076 D loss: -0.7543 G loss: -2.018\n",
      "Epoch: 0077 D loss: -0.6175 G loss: -1.881\n",
      "Epoch: 0078 D loss: -0.7773 G loss: -1.995\n",
      "Epoch: 0079 D loss: -0.7463 G loss: -2.052\n",
      "Epoch: 0080 D loss: -0.5601 G loss: -1.978\n",
      "Epoch: 0081 D loss: -0.7184 G loss: -1.971\n",
      "Epoch: 0082 D loss: -0.7381 G loss: -1.936\n",
      "Epoch: 0083 D loss: -0.6787 G loss: -1.837\n",
      "Epoch: 0084 D loss: -0.6305 G loss: -1.964\n",
      "Epoch: 0085 D loss: -0.5535 G loss: -2.095\n",
      "Epoch: 0086 D loss: -0.7544 G loss: -2.011\n",
      "Epoch: 0087 D loss: -0.5504 G loss: -2.122\n",
      "Epoch: 0088 D loss: -0.6069 G loss: -2.199\n",
      "Epoch: 0089 D loss: -0.617 G loss: -2.027\n",
      "Epoch: 0090 D loss: -0.6948 G loss: -2.158\n",
      "Epoch: 0091 D loss: -0.534 G loss: -2.049\n",
      "Epoch: 0092 D loss: -0.565 G loss: -1.873\n",
      "Epoch: 0093 D loss: -0.6256 G loss: -2.06\n",
      "Epoch: 0094 D loss: -0.683 G loss: -1.81\n",
      "Epoch: 0095 D loss: -0.8224 G loss: -1.863\n",
      "Epoch: 0096 D loss: -0.6073 G loss: -2.104\n",
      "Epoch: 0097 D loss: -0.6486 G loss: -2.237\n",
      "Epoch: 0098 D loss: -0.6018 G loss: -1.868\n",
      "Epoch: 0099 D loss: -0.6429 G loss: -1.968\n",
      "최적화 완료!\n"
     ]
    }
   ],
   "source": [
    "for epoch in range(total_epoch):\n",
    "    for i in range(total_batch):\n",
    "        batch_xs, batch_ys = mnist.train.next_batch(batch_size)\n",
    "        noise = get_noise(batch_size, n_noise)\n",
    "\n",
    "        # learn the discriminator and generator.\n",
    "        _, loss_val_D = sess.run([train_D, loss_D],\n",
    "                                 feed_dict={X: batch_xs, Z: noise})\n",
    "        _, loss_val_G = sess.run([train_G, loss_G],\n",
    "                                 feed_dict={Z: noise})\n",
    "\n",
    "    print('Epoch:', '%04d' % epoch,\n",
    "          'D loss: {:.4}'.format(loss_val_D),\n",
    "          'G loss: {:.4}'.format(loss_val_G))\n",
    "\n",
    "    #########\n",
    "    # save the images which is generated\n",
    "    ######\n",
    "    if epoch == 0 or (epoch + 1) % 10 == 0:\n",
    "        sample_size = 10\n",
    "        noise = get_noise(sample_size, n_noise)\n",
    "        samples = sess.run(G, feed_dict={Z: noise})\n",
    "\n",
    "        fig, ax = plt.subplots(1, sample_size, figsize=(sample_size, 1))\n",
    "\n",
    "        for i in range(sample_size):\n",
    "            ax[i].set_axis_off()\n",
    "            ax[i].imshow(np.reshape(samples[i], (28, 28)))\n",
    "\n",
    "        plt.savefig('samples/{}.png'.format(str(epoch).zfill(3)), bbox_inches='tight')\n",
    "        plt.close(fig)\n",
    "\n",
    "print('최적화 완료!')"
   ]
  }
 ],
 "metadata": {
  "kernelspec": {
   "display_name": "Python 3",
   "language": "python",
   "name": "python3"
  },
  "language_info": {
   "codemirror_mode": {
    "name": "ipython",
    "version": 3
   },
   "file_extension": ".py",
   "mimetype": "text/x-python",
   "name": "python",
   "nbconvert_exporter": "python",
   "pygments_lexer": "ipython3",
   "version": "3.6.3"
  }
 },
 "nbformat": 4,
 "nbformat_minor": 2
}
