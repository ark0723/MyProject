{
 "cells": [
  {
   "cell_type": "code",
   "execution_count": 1,
   "metadata": {
    "collapsed": true
   },
   "outputs": [],
   "source": [
    "import tensorflow as tf\n",
    "import matplotlib.pyplot as plt\n",
    "import numpy as np"
   ]
  },
  {
   "cell_type": "code",
   "execution_count": 2,
   "metadata": {},
   "outputs": [
    {
     "name": "stdout",
     "output_type": "stream",
     "text": [
      "Extracting ./mnist/data/train-images-idx3-ubyte.gz\n",
      "Extracting ./mnist/data/train-labels-idx1-ubyte.gz\n",
      "Extracting ./mnist/data/t10k-images-idx3-ubyte.gz\n",
      "Extracting ./mnist/data/t10k-labels-idx1-ubyte.gz\n"
     ]
    }
   ],
   "source": [
    "from tensorflow.examples.tutorials.mnist import input_data\n",
    "mnist = input_data.read_data_sets(\"./mnist/data/\", one_hot=True)"
   ]
  },
  {
   "cell_type": "code",
   "execution_count": 3,
   "metadata": {
    "collapsed": true
   },
   "outputs": [],
   "source": [
    "# \n",
    "total_epoch = 100\n",
    "batch_size = 100\n",
    "learning_rate = 0.0002\n",
    "# layer option\n",
    "n_hidden = 256\n",
    "n_input = 28 * 28\n",
    "n_noise = 128 # the size of noise "
   ]
  },
  {
   "cell_type": "code",
   "execution_count": 4,
   "metadata": {
    "collapsed": true
   },
   "outputs": [],
   "source": [
    "# X is the input, we do not use the labels Y of images\n",
    "X = tf.placeholder(tf.float32, [None, n_input])\n",
    "# Z is the noise \n",
    "Z = tf.placeholder(tf.float32, [None, n_noise])"
   ]
  },
  {
   "cell_type": "code",
   "execution_count": 5,
   "metadata": {
    "collapsed": true
   },
   "outputs": [],
   "source": [
    "g_W1 = tf.Variable(tf.random_normal([n_noise, n_hidden], stddev=0.01))\n",
    "g_b1 = tf.Variable(tf.zeros([n_hidden]))\n",
    "g_W2 = tf.Variable(tf.random_normal([n_hidden, n_input], stddev=0.01))\n",
    "g_b2 = tf.Variable(tf.zeros([n_input]))"
   ]
  },
  {
   "cell_type": "code",
   "execution_count": 6,
   "metadata": {
    "collapsed": true
   },
   "outputs": [],
   "source": [
    "def generator(noise_z):\n",
    "    hidden = tf.nn.relu(\n",
    "                    tf.matmul(noise_z, g_W1) + g_b1)\n",
    "    output = tf.nn.sigmoid(\n",
    "                    tf.matmul(hidden, g_W2) + g_b2)\n",
    "\n",
    "    return output"
   ]
  },
  {
   "cell_type": "code",
   "execution_count": 7,
   "metadata": {
    "collapsed": true
   },
   "outputs": [],
   "source": [
    "d_W1 = tf.Variable(tf.random_normal([n_input, n_hidden], stddev=0.01))\n",
    "d_b1 = tf.Variable(tf.zeros([n_hidden]))\n",
    "d_W2 = tf.Variable(tf.random_normal([n_hidden, 1], stddev=0.01))\n",
    "d_b2 = tf.Variable(tf.zeros([1]))"
   ]
  },
  {
   "cell_type": "code",
   "execution_count": 8,
   "metadata": {
    "collapsed": true
   },
   "outputs": [],
   "source": [
    "def discriminator(inputs):\n",
    "    hidden = tf.nn.relu(\n",
    "                    tf.matmul(inputs, d_W1) + d_b1)\n",
    "    output = tf.nn.sigmoid(\n",
    "                    tf.matmul(hidden, d_W2) + d_b2)\n",
    "\n",
    "    return output"
   ]
  },
  {
   "cell_type": "code",
   "execution_count": 9,
   "metadata": {},
   "outputs": [],
   "source": [
    "def get_noise(batch_size, n_noise):\n",
    "    return np.random.normal(size=(batch_size, n_noise))"
   ]
  },
  {
   "cell_type": "code",
   "execution_count": 10,
   "metadata": {},
   "outputs": [],
   "source": [
    "# Generate the random image\n",
    "G = generator(Z)\n",
    "# Discriminate the generated image\n",
    "D_generate = discriminator(G)\n",
    "# Discriminate the real image\n",
    "D_real = discriminator(X)"
   ]
  },
  {
   "cell_type": "code",
   "execution_count": 11,
   "metadata": {},
   "outputs": [],
   "source": [
    "loss_D_real = tf.reduce_mean(\n",
    "                    tf.nn.sigmoid_cross_entropy_with_logits(\n",
    "                        logits=D_real, labels=tf.ones_like(D_real)))"
   ]
  },
  {
   "cell_type": "code",
   "execution_count": 12,
   "metadata": {
    "collapsed": true
   },
   "outputs": [],
   "source": [
    "loss_D_generate = tf.reduce_mean(\n",
    "                    tf.nn.sigmoid_cross_entropy_with_logits(\n",
    "                        logits=D_generate, labels=tf.zeros_like(D_generate)))"
   ]
  },
  {
   "cell_type": "code",
   "execution_count": 13,
   "metadata": {
    "collapsed": true
   },
   "outputs": [],
   "source": [
    "loss_D = loss_D_real + loss_D_generate"
   ]
  },
  {
   "cell_type": "code",
   "execution_count": 14,
   "metadata": {},
   "outputs": [],
   "source": [
    "loss_G = tf.reduce_mean(\n",
    "                    tf.nn.sigmoid_cross_entropy_with_logits(\n",
    "                        logits=D_generate, labels=tf.ones_like(D_generate)))"
   ]
  },
  {
   "cell_type": "code",
   "execution_count": 15,
   "metadata": {
    "collapsed": true
   },
   "outputs": [],
   "source": [
    "d_var_list = [d_W1, d_b1, d_W2, d_b2]\n",
    "g_var_list = [g_W1, g_b1, g_W2, g_b2]"
   ]
  },
  {
   "cell_type": "code",
   "execution_count": 16,
   "metadata": {},
   "outputs": [],
   "source": [
    "train_D = tf.train.AdamOptimizer(learning_rate).minimize(loss_D,\n",
    "                                            var_list=d_var_list)\n",
    "train_G = tf.train.AdamOptimizer(learning_rate).minimize(loss_G,\n",
    "                                            var_list=g_var_list)"
   ]
  },
  {
   "cell_type": "code",
   "execution_count": 17,
   "metadata": {
    "collapsed": true
   },
   "outputs": [],
   "source": [
    "sess = tf.Session()\n",
    "sess.run(tf.global_variables_initializer())\n",
    "\n",
    "total_batch = int(mnist.train.num_examples/batch_size)\n",
    "loss_val_D, loss_val_G = 0, 0"
   ]
  },
  {
   "cell_type": "code",
   "execution_count": 18,
   "metadata": {},
   "outputs": [
    {
     "name": "stdout",
     "output_type": "stream",
     "text": [
      "Epoch: 0000 D loss: 1.178 G loss: 0.6555\n",
      "Epoch: 0001 D loss: 1.058 G loss: 0.6743\n",
      "Epoch: 0002 D loss: 1.115 G loss: 0.6495\n",
      "Epoch: 0003 D loss: 1.388 G loss: 0.6914\n",
      "Epoch: 0004 D loss: 1.386 G loss: 0.6931\n",
      "Epoch: 0005 D loss: 1.386 G loss: 0.693\n",
      "Epoch: 0006 D loss: 1.375 G loss: 0.6924\n",
      "Epoch: 0007 D loss: 1.386 G loss: 0.6931\n",
      "Epoch: 0008 D loss: 1.386 G loss: 0.6931\n",
      "Epoch: 0009 D loss: 1.386 G loss: 0.6931\n",
      "Epoch: 0010 D loss: 1.386 G loss: 0.6931\n",
      "Epoch: 0011 D loss: 1.386 G loss: 0.6931\n",
      "Epoch: 0012 D loss: 1.386 G loss: 0.6931\n",
      "Epoch: 0013 D loss: 1.386 G loss: 0.6931\n",
      "Epoch: 0014 D loss: 1.386 G loss: 0.6931\n",
      "Epoch: 0015 D loss: 1.162 G loss: 0.6929\n",
      "Epoch: 0016 D loss: 1.314 G loss: 0.6823\n",
      "Epoch: 0017 D loss: 1.044 G loss: 0.6799\n",
      "Epoch: 0018 D loss: 1.088 G loss: 0.6762\n",
      "Epoch: 0019 D loss: 1.038 G loss: 0.6808\n",
      "Epoch: 0020 D loss: 1.012 G loss: 0.6918\n",
      "Epoch: 0021 D loss: 1.086 G loss: 0.675\n",
      "Epoch: 0022 D loss: 1.13 G loss: 0.676\n",
      "Epoch: 0023 D loss: 1.025 G loss: 0.686\n",
      "Epoch: 0024 D loss: 1.092 G loss: 0.6724\n",
      "Epoch: 0025 D loss: 1.022 G loss: 0.6862\n",
      "Epoch: 0026 D loss: 1.071 G loss: 0.6759\n",
      "Epoch: 0027 D loss: 1.071 G loss: 0.6774\n",
      "Epoch: 0028 D loss: 1.08 G loss: 0.6726\n",
      "Epoch: 0029 D loss: 1.086 G loss: 0.676\n",
      "Epoch: 0030 D loss: 1.068 G loss: 0.6786\n",
      "Epoch: 0031 D loss: 1.112 G loss: 0.6669\n",
      "Epoch: 0032 D loss: 1.111 G loss: 0.6729\n",
      "Epoch: 0033 D loss: 1.092 G loss: 0.6742\n",
      "Epoch: 0034 D loss: 1.101 G loss: 0.6747\n",
      "Epoch: 0035 D loss: 1.08 G loss: 0.6773\n",
      "Epoch: 0036 D loss: 1.042 G loss: 0.6856\n",
      "Epoch: 0037 D loss: 1.061 G loss: 0.6808\n",
      "Epoch: 0038 D loss: 1.111 G loss: 0.6693\n",
      "Epoch: 0039 D loss: 1.121 G loss: 0.6647\n",
      "Epoch: 0040 D loss: 1.093 G loss: 0.6778\n",
      "Epoch: 0041 D loss: 1.123 G loss: 0.6692\n",
      "Epoch: 0042 D loss: 1.121 G loss: 0.6591\n",
      "Epoch: 0043 D loss: 1.128 G loss: 0.6717\n",
      "Epoch: 0044 D loss: 1.147 G loss: 0.6677\n",
      "Epoch: 0045 D loss: 1.126 G loss: 0.6684\n",
      "Epoch: 0046 D loss: 1.144 G loss: 0.6533\n",
      "Epoch: 0047 D loss: 1.178 G loss: 0.6535\n",
      "Epoch: 0048 D loss: 1.115 G loss: 0.6526\n",
      "Epoch: 0049 D loss: 1.118 G loss: 0.6721\n",
      "Epoch: 0050 D loss: 1.126 G loss: 0.6592\n",
      "Epoch: 0051 D loss: 1.118 G loss: 0.6701\n",
      "Epoch: 0052 D loss: 1.147 G loss: 0.6612\n",
      "Epoch: 0053 D loss: 1.127 G loss: 0.6587\n",
      "Epoch: 0054 D loss: 1.091 G loss: 0.6704\n",
      "Epoch: 0055 D loss: 1.174 G loss: 0.6576\n",
      "Epoch: 0056 D loss: 1.13 G loss: 0.6571\n",
      "Epoch: 0057 D loss: 1.117 G loss: 0.68\n",
      "Epoch: 0058 D loss: 1.174 G loss: 0.6602\n",
      "Epoch: 0059 D loss: 1.113 G loss: 0.6607\n",
      "Epoch: 0060 D loss: 1.167 G loss: 0.6603\n",
      "Epoch: 0061 D loss: 1.111 G loss: 0.6763\n",
      "Epoch: 0062 D loss: 1.181 G loss: 0.6602\n",
      "Epoch: 0063 D loss: 1.13 G loss: 0.6648\n",
      "Epoch: 0064 D loss: 1.137 G loss: 0.6614\n",
      "Epoch: 0065 D loss: 1.187 G loss: 0.6427\n",
      "Epoch: 0066 D loss: 1.251 G loss: 0.6705\n",
      "Epoch: 0067 D loss: 1.047 G loss: 0.6825\n",
      "Epoch: 0068 D loss: 1.198 G loss: 0.6526\n",
      "Epoch: 0069 D loss: 1.177 G loss: 0.6599\n",
      "Epoch: 0070 D loss: 1.194 G loss: 0.6431\n",
      "Epoch: 0071 D loss: 1.177 G loss: 0.6402\n",
      "Epoch: 0072 D loss: 1.166 G loss: 0.6438\n",
      "Epoch: 0073 D loss: 1.142 G loss: 0.6688\n",
      "Epoch: 0074 D loss: 1.235 G loss: 0.6329\n",
      "Epoch: 0075 D loss: 1.374 G loss: 0.6928\n",
      "Epoch: 0076 D loss: 1.383 G loss: 0.6928\n",
      "Epoch: 0077 D loss: 1.384 G loss: 0.6929\n",
      "Epoch: 0078 D loss: 1.16 G loss: 0.67\n",
      "Epoch: 0079 D loss: 1.211 G loss: 0.6484\n",
      "Epoch: 0080 D loss: 1.151 G loss: 0.6664\n",
      "Epoch: 0081 D loss: 1.174 G loss: 0.6507\n",
      "Epoch: 0082 D loss: 1.143 G loss: 0.651\n",
      "Epoch: 0083 D loss: 1.125 G loss: 0.664\n",
      "Epoch: 0084 D loss: 1.363 G loss: 0.6891\n",
      "Epoch: 0085 D loss: 1.141 G loss: 0.6617\n",
      "Epoch: 0086 D loss: 1.215 G loss: 0.6513\n",
      "Epoch: 0087 D loss: 1.167 G loss: 0.6485\n",
      "Epoch: 0088 D loss: 1.165 G loss: 0.6549\n",
      "Epoch: 0089 D loss: 1.175 G loss: 0.6537\n",
      "Epoch: 0090 D loss: 1.375 G loss: 0.6828\n",
      "Epoch: 0091 D loss: 1.23 G loss: 0.6399\n",
      "Epoch: 0092 D loss: 1.096 G loss: 0.6718\n",
      "Epoch: 0093 D loss: 1.179 G loss: 0.6627\n",
      "Epoch: 0094 D loss: 1.178 G loss: 0.6575\n",
      "Epoch: 0095 D loss: 1.196 G loss: 0.6555\n",
      "Epoch: 0096 D loss: 1.18 G loss: 0.6564\n",
      "Epoch: 0097 D loss: 1.178 G loss: 0.6653\n",
      "Epoch: 0098 D loss: 1.197 G loss: 0.6301\n",
      "Epoch: 0099 D loss: 1.186 G loss: 0.6562\n",
      "최적화 완료!\n"
     ]
    }
   ],
   "source": [
    "for epoch in range(total_epoch):\n",
    "    for i in range(total_batch):\n",
    "        batch_xs, batch_ys = mnist.train.next_batch(batch_size)\n",
    "        noise = get_noise(batch_size, n_noise)\n",
    "\n",
    "        # learn the discriminator and generator.\n",
    "        _, loss_val_D = sess.run([train_D, loss_D],\n",
    "                                 feed_dict={X: batch_xs, Z: noise})\n",
    "        _, loss_val_G = sess.run([train_G, loss_G],\n",
    "                                 feed_dict={Z: noise})\n",
    "\n",
    "    print('Epoch:', '%04d' % epoch,\n",
    "          'D loss: {:.4}'.format(loss_val_D),\n",
    "          'G loss: {:.4}'.format(loss_val_G))\n",
    "\n",
    "    #########\n",
    "    # save the images which is generated\n",
    "    ######\n",
    "    if epoch == 0 or (epoch + 1) % 10 == 0:\n",
    "        sample_size = 10\n",
    "        noise = get_noise(sample_size, n_noise)\n",
    "        samples = sess.run(G, feed_dict={Z: noise})\n",
    "\n",
    "        fig, ax = plt.subplots(1, sample_size, figsize=(sample_size, 1))\n",
    "\n",
    "        for i in range(sample_size):\n",
    "            ax[i].set_axis_off()\n",
    "            ax[i].imshow(np.reshape(samples[i], (28, 28)))\n",
    "\n",
    "        plt.savefig('samples/{}.png'.format(str(epoch).zfill(3)), bbox_inches='tight')\n",
    "        plt.close(fig)\n",
    "\n",
    "print('최적화 완료!')"
   ]
  },
  {
   "cell_type": "code",
   "execution_count": null,
   "metadata": {
    "collapsed": true
   },
   "outputs": [],
   "source": []
  },
  {
   "cell_type": "code",
   "execution_count": null,
   "metadata": {
    "collapsed": true
   },
   "outputs": [],
   "source": []
  },
  {
   "cell_type": "code",
   "execution_count": null,
   "metadata": {
    "collapsed": true
   },
   "outputs": [],
   "source": []
  }
 ],
 "metadata": {
  "kernelspec": {
   "display_name": "Python 3",
   "language": "python",
   "name": "python3"
  },
  "language_info": {
   "codemirror_mode": {
    "name": "ipython",
    "version": 3
   },
   "file_extension": ".py",
   "mimetype": "text/x-python",
   "name": "python",
   "nbconvert_exporter": "python",
   "pygments_lexer": "ipython3",
   "version": "3.6.3"
  }
 },
 "nbformat": 4,
 "nbformat_minor": 2
}
