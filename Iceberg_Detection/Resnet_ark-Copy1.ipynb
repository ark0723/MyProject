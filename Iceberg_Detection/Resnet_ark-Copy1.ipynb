{
 "cells": [
  {
   "cell_type": "code",
   "execution_count": 1,
   "metadata": {},
   "outputs": [
    {
     "name": "stdout",
     "output_type": "stream",
     "text": [
      "curses is not supported on this machine (please install/reinstall curses for an optimal experience)\n"
     ]
    }
   ],
   "source": [
    "import pickle, random, copy, platform, os, time\n",
    "import numpy as np\n",
    "import tensorflow as tf\n",
    "import email_sending\n",
    "import tflearn\n",
    "from PIL import Image, ImageDraw\n",
    "from __future__ import division, print_function, absolute_import"
   ]
  },
  {
   "cell_type": "code",
   "execution_count": 2,
   "metadata": {
    "collapsed": true
   },
   "outputs": [],
   "source": [
    "def read_data():\n",
    "    with open('GAN', 'rb') as f:\n",
    "        data = pickle.load(f)\n",
    "        band1 = data[0]\n",
    "        band2 = data[1]\n",
    "        band1, band2 = np.reshape(band1, (-1,75,75,1)), np.reshape(band2, (-1,75,75,1))\n",
    "        label = data[2]\n",
    "        #reshape\n",
    "    return band1, band2, label\n",
    "\n",
    "# expresses the label data in one-hot encoding.\n",
    "def onehot_encoding (Y, y_class):\n",
    "    Y_onehot = np.zeros((Y.size, int(y_class)))\n",
    "    for i in range(Y.size):\n",
    "        Y_onehot[i][Y[i]] = 1\n",
    "    return Y_onehot"
   ]
  },
  {
   "cell_type": "code",
   "execution_count": 3,
   "metadata": {},
   "outputs": [
    {
     "data": {
      "text/plain": [
       "(1604, 75, 75, 1)"
      ]
     },
     "execution_count": 3,
     "metadata": {},
     "output_type": "execute_result"
    }
   ],
   "source": [
    "band1, band2, totalY = read_data()\n",
    "band1.shape"
   ]
  },
  {
   "cell_type": "code",
   "execution_count": 4,
   "metadata": {},
   "outputs": [],
   "source": [
    "def resnet32(x, classes, n = 5): #classes =2\n",
    "    net = tflearn.conv_2d(x, 16, 3, regularizer='L2', weight_decay=0.0001)\n",
    "    print(net)\n",
    "    net = tflearn.residual_block(net, n, 16)\n",
    "    print(net)\n",
    "    net = tflearn.residual_block(net, 1, 32, downsample=True)\n",
    "    print(net)\n",
    "    net = tflearn.residual_block(net, n - 1, 32)\n",
    "    print(net)\n",
    "    net = tflearn.residual_block(net, 1, 64, downsample=True)\n",
    "    print(net)\n",
    "    net = tflearn.residual_block(net, n - 1, 64)\n",
    "    print(net)\n",
    "    net = tflearn.batch_normalization(net)\n",
    "    print(net)\n",
    "    net = tflearn.activation(net, 'relu')\n",
    "    print(net)\n",
    "    net = tflearn.global_avg_pool(net)\n",
    "    print(net)\n",
    "    net = tflearn.fully_connected(net, classes, activation='softmax')\n",
    "    print(net)\n",
    "    return net"
   ]
  },
  {
   "cell_type": "code",
   "execution_count": 5,
   "metadata": {
    "scrolled": false
   },
   "outputs": [
    {
     "name": "stdout",
     "output_type": "stream",
     "text": [
      "Training Step: 119  | total loss: \u001b[1m\u001b[32m0.49777\u001b[0m\u001b[0m | time: 32.683s\n",
      "| Adam | epoch: 010 | loss: 0.49777 - acc: 0.7675 -- iter: 1100/1200\n",
      "Training Step: 120  | total loss: \u001b[1m\u001b[32m0.49852\u001b[0m\u001b[0m | time: 36.539s\n",
      "| Adam | epoch: 010 | loss: 0.49852 - acc: 0.7688 | val_loss: 0.52512 - val_acc: 0.7425 -- iter: 1200/1200\n",
      "--\n"
     ]
    }
   ],
   "source": [
    "def train(num_epochs=10):\n",
    "    batch_size = 100\n",
    "    classes = 2\n",
    "\n",
    "    img_prep = tflearn.ImagePreprocessing()\n",
    "    img_prep.add_featurewise_zero_center()\n",
    "    img_prep.add_featurewise_stdnorm()\n",
    "\n",
    "    img_aug = tflearn.ImageAugmentation()\n",
    "    img_aug.add_random_flip_leftright()\n",
    "    #img_aug.add_random_rotation(max_angle=25)\n",
    "    img_aug.add_random_crop([75,75], padding=4)\n",
    "\n",
    "    Input = tflearn.input_data(shape=[None, 75, 75, 1], dtype='float', data_preprocessing=img_prep,data_augmentation=img_aug)\n",
    "\n",
    "\n",
    "    band1, band2, totalY = read_data()\n",
    "    band1, totalY = tflearn.data_utils.shuffle(band1, totalY)\n",
    "    totalY=onehot_encoding(totalY, classes)\n",
    "    X, Y = band1[:1200], totalY[:1200]\n",
    "    testX, testY =band1[1200:1600], totalY[1200:1600]\n",
    "\n",
    "    network = tflearn.regression(resnet32(Input,classes),optimizer='adam',loss='categorical_crossentropy')\n",
    "    print(X.shape, Y.shape)\n",
    "\n",
    "    model = tflearn.DNN(network,tensorboard_verbose=3)\n",
    "    #checkpoint_path='/tmp'\n",
    "    model.fit(X, Y, n_epoch=num_epochs, shuffle=True, validation_set=(testX, testY),\n",
    "              show_metric=True, batch_size=batch_size, run_id='resnet_iceberg')\n",
    "\n",
    "if __name__ == '__main__':\n",
    "    train()"
   ]
  }
 ],
 "metadata": {
  "kernelspec": {
   "display_name": "Python 3",
   "language": "python",
   "name": "python3"
  },
  "language_info": {
   "codemirror_mode": {
    "name": "ipython",
    "version": 3
   },
   "file_extension": ".py",
   "mimetype": "text/x-python",
   "name": "python",
   "nbconvert_exporter": "python",
   "pygments_lexer": "ipython3",
   "version": "3.5.4"
  }
 },
 "nbformat": 4,
 "nbformat_minor": 2
}
