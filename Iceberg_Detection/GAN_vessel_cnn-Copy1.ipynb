{
 "cells": [
  {
   "cell_type": "code",
   "execution_count": 1,
   "metadata": {
    "collapsed": true
   },
   "outputs": [],
   "source": [
    "import pickle, random, copy, platform, os\n",
    "import numpy as np\n",
    "import tensorflow as tf\n",
    "import email_sending\n",
    "from PIL import Image, ImageDraw"
   ]
  },
  {
   "cell_type": "code",
   "execution_count": 2,
   "metadata": {
    "collapsed": true
   },
   "outputs": [],
   "source": [
    "def vessel_img():\n",
    "    with open('vessel', 'rb') as vessel:\n",
    "        data = pickle.load(vessel)\n",
    "        band1 = data[0]\n",
    "        band2 = data[1]\n",
    "\n",
    "    return band1, band2"
   ]
  },
  {
   "cell_type": "code",
   "execution_count": 3,
   "metadata": {
    "collapsed": true
   },
   "outputs": [],
   "source": [
    "#band1\n",
    "band1 = vessel_img()[0]\n",
    "band2 = vessel_img()[1]"
   ]
  },
  {
   "cell_type": "code",
   "execution_count": 4,
   "metadata": {
    "collapsed": true
   },
   "outputs": [],
   "source": [
    "X1 = band1.reshape(-1, 5625)\n",
    "X2 = band2.reshape(-1, 5625)"
   ]
  },
  {
   "cell_type": "code",
   "execution_count": null,
   "metadata": {
    "collapsed": true
   },
   "outputs": [],
   "source": [
    "'''X1 = np.array([X1[0] for i in range(len(X1))])\n",
    "X2 = np.array([X2[0] for i in range(len(X1))])'''"
   ]
  },
  {
   "cell_type": "code",
   "execution_count": 5,
   "metadata": {
    "collapsed": true
   },
   "outputs": [],
   "source": [
    "# GAN Modeling\n",
    "\n",
    "import matplotlib.pyplot as plt\n",
    "\n",
    "total_epoch = 10000\n",
    "batch_size = 37 #851=37*23\n",
    "learning_rate = 0.00002\n",
    "# layer option\n",
    "n_noise = 1024 # the size of noise \n",
    "n_input = 75*75\n",
    "n_hidden =2024"
   ]
  },
  {
   "cell_type": "code",
   "execution_count": 6,
   "metadata": {
    "collapsed": true
   },
   "outputs": [],
   "source": [
    "# X is the input, we do not use the labels Y of images\n",
    "X = tf.placeholder(tf.float32, [None, n_input])\n",
    "# Z is the noise \n",
    "Z = tf.placeholder(tf.float32, [None, n_noise])"
   ]
  },
  {
   "cell_type": "code",
   "execution_count": null,
   "metadata": {
    "collapsed": true
   },
   "outputs": [],
   "source": [
    "g_W1 = tf.Variable(tf.random_normal([n_noise, n_hidden], mean=0, stddev=0.01, dtype=tf.float32))\n",
    "g_b1 = tf.Variable(tf.random_normal([n_hidden],stddev=0.01))\n",
    "g_W2 = tf.Variable(tf.random_normal([n_hidden, n_input], mean=0, stddev=0.01, dtype=tf.float32))\n",
    "g_b2 = tf.Variable(tf.random_normal([n_input],stddev=0.01))"
   ]
  },
  {
   "cell_type": "code",
   "execution_count": null,
   "metadata": {
    "collapsed": true
   },
   "outputs": [],
   "source": [
    "def generator(noise_z):\n",
    "    hidden = tf.nn.relu(tf.matmul(noise_z, g_W1) + g_b1)\n",
    "    output = tf.nn.sigmoid(tf.matmul(hidden, g_W2) + g_b2)\n",
    "    Gen_IMG = tf.reshape(output, [-1, 75, 75, 1])\n",
    "    return Gen_IMG"
   ]
  },
  {
   "cell_type": "code",
   "execution_count": null,
   "metadata": {
    "collapsed": true
   },
   "outputs": [],
   "source": [
    "d_W1 = tf.Variable(tf.random_normal([3, 3, 1, 32], stddev=0.01))\n",
    "d_W2 = tf.Variable(tf.random_normal([3, 3, 32, 64], stddev=0.01))\n",
    "d_W3 = tf.get_variable(\"d_W3\", shape=[64*19*19, n_noise], initializer=tf.contrib.layers.xavier_initializer())\n",
    "d_b1 = tf.Variable(tf.random_normal([n_noise]))\n",
    "d_W4 = tf.get_variable(\"d_W4\", shape=[n_noise, 1], initializer=tf.contrib.layers.xavier_initializer())\n",
    "d_b2 = tf.Variable(tf.random_normal([1]))"
   ]
  },
  {
   "cell_type": "code",
   "execution_count": null,
   "metadata": {
    "collapsed": true
   },
   "outputs": [],
   "source": [
    "def discriminator(inputs):\n",
    "    X_img = tf.reshape(inputs, [-1, 75, 75, 1]) \n",
    "    \n",
    "    #Layer1\n",
    "    L1 = tf.nn.conv2d(X_img, d_W1, strides=[1, 1, 1, 1], padding='SAME')\n",
    "    L1 = tf.nn.relu(L1)\n",
    "    L1 = tf.nn.max_pool(L1, ksize=[1, 2, 2, 1],strides=[1, 2, 2, 1], padding='SAME')\n",
    "    #Layer2\n",
    "    L2 = tf.nn.conv2d(L1, d_W2, strides=[1, 1, 1, 1], padding='SAME')\n",
    "    L2 = tf.nn.relu(L2)\n",
    "    L2 = tf.nn.max_pool(L2, ksize=[1, 2, 2, 1],strides=[1, 2, 2, 1], padding='SAME')\n",
    "    L2_flat = tf.reshape(L2, [-1, 64 * 19 * 19 ])\n",
    "    \n",
    "   # L3 FC 64*19*19 inputs -> 1024 outputs\n",
    "    L3 = tf.nn.relu(tf.matmul(L2_flat, d_W3) + d_b1)\n",
    "    #Final FC 1024 inputs -> 1 outputs\n",
    "    logits = tf.matmul(L3, d_W4) + d_b2\n",
    "    output = tf.nn.sigmoid(logits)\n",
    "    return output"
   ]
  },
  {
   "cell_type": "code",
   "execution_count": null,
   "metadata": {
    "collapsed": true
   },
   "outputs": [],
   "source": [
    "def get_noise(batch_size, n_noise):\n",
    "    return np.random.normal(size=(batch_size, n_noise))"
   ]
  },
  {
   "cell_type": "code",
   "execution_count": null,
   "metadata": {
    "collapsed": true
   },
   "outputs": [],
   "source": [
    "# Generate the random image\n",
    "G = generator(Z)\n",
    "# Discriminate the generated image\n",
    "D_generate = discriminator(G)\n",
    "# Discriminate the real image\n",
    "D_real = discriminator(X)"
   ]
  },
  {
   "cell_type": "code",
   "execution_count": null,
   "metadata": {
    "collapsed": true
   },
   "outputs": [],
   "source": [
    "loss_D_real = tf.reduce_mean(tf.nn.sigmoid_cross_entropy_with_logits(\n",
    "                        logits=D_real, labels=tf.ones_like(D_real)))"
   ]
  },
  {
   "cell_type": "code",
   "execution_count": null,
   "metadata": {
    "collapsed": true
   },
   "outputs": [],
   "source": [
    "loss_D_generate = tf.reduce_mean(tf.nn.sigmoid_cross_entropy_with_logits(\n",
    "    logits=D_generate, labels=tf.zeros_like(D_generate)))"
   ]
  },
  {
   "cell_type": "code",
   "execution_count": null,
   "metadata": {
    "collapsed": true
   },
   "outputs": [],
   "source": [
    "loss_D = loss_D_real + loss_D_generate"
   ]
  },
  {
   "cell_type": "code",
   "execution_count": null,
   "metadata": {
    "collapsed": true
   },
   "outputs": [],
   "source": [
    "loss_G = tf.reduce_mean(tf.nn.sigmoid_cross_entropy_with_logits(logits=D_generate, labels=tf.ones_like(D_generate)))"
   ]
  },
  {
   "cell_type": "code",
   "execution_count": null,
   "metadata": {
    "collapsed": true
   },
   "outputs": [],
   "source": [
    "d_var_list = [d_W1, d_b1, d_W2, d_b2, d_W3, d_W4]\n",
    "g_var_list = [g_W1, g_b1, g_W2, g_b2]"
   ]
  },
  {
   "cell_type": "code",
   "execution_count": null,
   "metadata": {
    "collapsed": true
   },
   "outputs": [],
   "source": [
    "train_D = tf.train.AdamOptimizer(learning_rate).minimize(loss_D,var_list=d_var_list)\n",
    "train_G = tf.train.AdamOptimizer(learning_rate).minimize(loss_G,var_list=g_var_list)"
   ]
  },
  {
   "cell_type": "code",
   "execution_count": null,
   "metadata": {
    "collapsed": true
   },
   "outputs": [],
   "source": [
    "sess = tf.Session()\n",
    "sess.run(tf.global_variables_initializer())\n",
    "\n",
    "total_batch = int(851/batch_size)\n",
    "loss_val_D, loss_val_G = 0, 0"
   ]
  },
  {
   "cell_type": "code",
   "execution_count": null,
   "metadata": {
    "collapsed": true,
    "scrolled": true
   },
   "outputs": [],
   "source": [
    "for epoch in range(total_epoch):\n",
    "    for i in range(total_batch):\n",
    "        batch_xs= X1[i*batch_size:(i+1)*batch_size]\n",
    "        noise = get_noise(batch_size, n_noise)\n",
    "\n",
    "        # learn the discriminator and generator.\n",
    "        _, loss_val_D = sess.run([train_D, loss_D],\n",
    "                                 feed_dict={X: batch_xs, Z: noise})\n",
    "        _, loss_val_G = sess.run([train_G, loss_G],\n",
    "                                 feed_dict={Z: noise})\n",
    "\n",
    "    print('Epoch:', '%04d' % epoch,\n",
    "          'D loss: {:.4}'.format(loss_val_D),\n",
    "          'G loss: {:.4}'.format(loss_val_G))\n",
    "    \n",
    "    #########\n",
    "    # save the images which is generated\n",
    "    ######\n",
    "    if epoch == 0 or (epoch + 1) % 5 == 0:\n",
    "        sample_size = 10\n",
    "        noise = get_noise(sample_size, n_noise)\n",
    "        samples = sess.run(G, feed_dict={Z: noise})\n",
    "\n",
    "        fig, ax = plt.subplots(1, sample_size, figsize=(sample_size, 1))\n",
    "\n",
    "        for i in range(sample_size):\n",
    "            ax[i].set_axis_off()\n",
    "            ax[i].imshow(np.reshape(samples[i], (75, 75)), cmap=plt.cm.bone, interpolation='nearest')\n",
    "\n",
    "        plt.savefig('samples/{}.png'.format(str(epoch).zfill(4)), bbox_inches='tight')\n",
    "        plt.close(fig)\n",
    "        print(samples[0])\n",
    "print('최적화 완료!')"
   ]
  },
  {
   "cell_type": "code",
   "execution_count": null,
   "metadata": {
    "collapsed": true
   },
   "outputs": [],
   "source": []
  }
 ],
 "metadata": {
  "kernelspec": {
   "display_name": "Python 3",
   "language": "python",
   "name": "python3"
  },
  "language_info": {
   "codemirror_mode": {
    "name": "ipython",
    "version": 3
   },
   "file_extension": ".py",
   "mimetype": "text/x-python",
   "name": "python",
   "nbconvert_exporter": "python",
   "pygments_lexer": "ipython3",
   "version": "3.5.4"
  }
 },
 "nbformat": 4,
 "nbformat_minor": 2
}
