{
 "cells": [
  {
   "cell_type": "code",
   "execution_count": 10,
   "metadata": {
    "collapsed": true
   },
   "outputs": [],
   "source": [
    "import pickle, random, copy, platform, os\n",
    "import numpy as np\n",
    "import tensorflow as tf\n",
    "import email_sending\n",
    "from PIL import Image, ImageDraw"
   ]
  },
  {
   "cell_type": "code",
   "execution_count": 11,
   "metadata": {
    "collapsed": true
   },
   "outputs": [],
   "source": [
    "from pymongo import MongoClient\n",
    "client=MongoClient('localhost',27017)\n",
    "db=client.iceberg \n",
    "train=db.train"
   ]
  },
  {
   "cell_type": "code",
   "execution_count": 12,
   "metadata": {
    "collapsed": true
   },
   "outputs": [],
   "source": [
    "def load_vessel():\n",
    "    query = train.find()\n",
    "    band1=[]\n",
    "    band2=[]\n",
    "    for i in query:\n",
    "        b1=[[i['band_1']]]\n",
    "        b2=[[i['band_2']]]\n",
    "        band1.extend(b1)\n",
    "        band2.extend(b2)\n",
    "    return np.array(band1), np.array(band2)"
   ]
  },
  {
   "cell_type": "code",
   "execution_count": 13,
   "metadata": {
    "collapsed": true
   },
   "outputs": [],
   "source": [
    "band1, band2=load_vessel()[0], load_vessel()[1]"
   ]
  },
  {
   "cell_type": "code",
   "execution_count": 14,
   "metadata": {},
   "outputs": [],
   "source": [
    "band1 = np.transpose(band1, (0,2,1))\n",
    "band1 = np.reshape(band1, (-1, 75, 75,1))\n",
    "band2 = np.transpose(band2, (0,2,1))\n",
    "band2 = np.reshape(band2, (-1, 75, 75,1))"
   ]
  },
  {
   "cell_type": "code",
   "execution_count": 15,
   "metadata": {},
   "outputs": [
    {
     "name": "stdout",
     "output_type": "stream",
     "text": [
      "-45.594448 34.574917\n"
     ]
    }
   ],
   "source": [
    "print(band1.min(), band1.max())"
   ]
  },
  {
   "cell_type": "code",
   "execution_count": 16,
   "metadata": {},
   "outputs": [
    {
     "name": "stdout",
     "output_type": "stream",
     "text": [
      "-45.655499 20.154249\n"
     ]
    }
   ],
   "source": [
    "print(band2.min(), band2.max())"
   ]
  },
  {
   "cell_type": "code",
   "execution_count": 7,
   "metadata": {
    "collapsed": true
   },
   "outputs": [],
   "source": [
    "with open('band', 'wb') as f:\n",
    "    pickle.dump([band1,band2], f)\n",
    "    \n",
    "del band1; del band2"
   ]
  }
 ],
 "metadata": {
  "kernelspec": {
   "display_name": "Python 3",
   "language": "python",
   "name": "python3"
  },
  "language_info": {
   "codemirror_mode": {
    "name": "ipython",
    "version": 3
   },
   "file_extension": ".py",
   "mimetype": "text/x-python",
   "name": "python",
   "nbconvert_exporter": "python",
   "pygments_lexer": "ipython3",
   "version": "3.5.4"
  }
 },
 "nbformat": 4,
 "nbformat_minor": 2
}
