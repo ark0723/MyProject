{
 "cells": [
  {
   "cell_type": "code",
   "execution_count": 1,
   "metadata": {
    "collapsed": true
   },
   "outputs": [],
   "source": [
    "import pickle\n",
    "import numpy as np"
   ]
  },
  {
   "cell_type": "code",
   "execution_count": 2,
   "metadata": {
    "collapsed": true
   },
   "outputs": [],
   "source": [
    "from pymongo import MongoClient\n",
    "client = MongoClient('localhost',27017)\n",
    "db = client.iceberg \n",
    "train= db.train\n",
    "test = db.test"
   ]
  },
  {
   "cell_type": "code",
   "execution_count": 3,
   "metadata": {
    "collapsed": true
   },
   "outputs": [],
   "source": [
    "def data():\n",
    "    query = train.find()\n",
    "    query1 = test.find()\n",
    "    Xtr=[]\n",
    "    Ytr=[]\n",
    "    Xte=[]\n",
    "    test_id =[]\n",
    "    for i in query:\n",
    "        x=[[i['band_1'],i['band_2']]]\n",
    "        y = [i['is_iceberg']]\n",
    "        Xtr.extend(x)\n",
    "        Ytr.extend(y)\n",
    "    for i in query1:\n",
    "        x=[[i['band_1'],i['band_2']]]\n",
    "        test_num = i['id']\n",
    "        Xte.extend(x)\n",
    "        test_id.append(test_num)\n",
    "    \n",
    "    Xtr = np.transpose(Xtr, (0,2,1))\n",
    "    Xte = np.transpose(Xte, (0,2,1))\n",
    "    return np.array(Xtr), np.array(Ytr), np.array(Xte), test_id"
   ]
  },
  {
   "cell_type": "code",
   "execution_count": 4,
   "metadata": {
    "collapsed": true
   },
   "outputs": [],
   "source": [
    "with open('resnet_data', 'wb') as f:\n",
    "    Xtr, Ytr, Xte, ref = data()\n",
    "    pickle.dump([Xtr, Ytr, Xte, ref], f)\n",
    "del Xtr; del Ytr; del Xte; del ref"
   ]
  }
 ],
 "metadata": {
  "kernelspec": {
   "display_name": "Python 3",
   "language": "python",
   "name": "python3"
  },
  "language_info": {
   "codemirror_mode": {
    "name": "ipython",
    "version": 3
   },
   "file_extension": ".py",
   "mimetype": "text/x-python",
   "name": "python",
   "nbconvert_exporter": "python",
   "pygments_lexer": "ipython3",
   "version": "3.5.4"
  }
 },
 "nbformat": 4,
 "nbformat_minor": 2
}
