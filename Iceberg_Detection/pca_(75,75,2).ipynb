{
 "cells": [
  {
   "cell_type": "code",
   "execution_count": 1,
   "metadata": {
    "collapsed": true
   },
   "outputs": [],
   "source": [
    "import pickle, random, copy, platform, os, time\n",
    "import numpy as np\n",
    "import tensorflow as tf"
   ]
  },
  {
   "cell_type": "code",
   "execution_count": 2,
   "metadata": {
    "collapsed": true
   },
   "outputs": [],
   "source": [
    "def read_data():\n",
    "    with open('resnet_data', 'rb') as f:\n",
    "        data = pickle.load(f)\n",
    "        Xtr = data[0]\n",
    "        Xtr = np.reshape(Xtr, (-1,75,75,2))\n",
    "        Ytr = data[1]\n",
    "        Xte =data[2]\n",
    "        Xte = np.reshape(Xte, (-1,75,75,2))\n",
    "        rf =data[3]\n",
    "    return Xtr, Ytr, Xte, rf"
   ]
  },
  {
   "cell_type": "code",
   "execution_count": 3,
   "metadata": {},
   "outputs": [
    {
     "data": {
      "text/plain": [
       "11250"
      ]
     },
     "execution_count": 3,
     "metadata": {},
     "output_type": "execute_result"
    }
   ],
   "source": [
    "75*75*2"
   ]
  },
  {
   "cell_type": "code",
   "execution_count": 4,
   "metadata": {},
   "outputs": [
    {
     "name": "stdout",
     "output_type": "stream",
     "text": [
      "(1604, 11250) (1604, 1152)\n",
      "0.968651426201\n"
     ]
    }
   ],
   "source": [
    "from sklearn.decomposition import PCA\n",
    "\n",
    "train_img, _, test_img, _ =read_data()\n",
    "tr_mat = train_img.reshape(-1, 11250)\n",
    "te_mat = test_img.reshape(-1, 11250)\n",
    "\n",
    "#Running PCA retaining 95% of the variance \n",
    "pca_digits=PCA(1152) #1152 = 24*24*2\n",
    "tr_proj = pca_digits.fit_transform(tr_mat) \n",
    "print (tr_mat.shape, tr_proj.shape)\n",
    "print (np.sum(pca_digits.explained_variance_ratio_))"
   ]
  },
  {
   "cell_type": "code",
   "execution_count": 15,
   "metadata": {},
   "outputs": [
    {
     "name": "stdout",
     "output_type": "stream",
     "text": [
      "(1604, 11250) (1604, 1152)\n",
      "0.968651426201\n"
     ]
    }
   ],
   "source": [
    "#test data\n",
    "pca_digits1=PCA(1152) #1152 = 24*24*2\n",
    "te_proj = pca_digits1.fit_transform(te_mat) "
   ]
  },
  {
   "cell_type": "code",
   "execution_count": 16,
   "metadata": {},
   "outputs": [
    {
     "name": "stdout",
     "output_type": "stream",
     "text": [
      "(8424, 11250) (8424, 1152)\n",
      "0.880687497161\n"
     ]
    }
   ],
   "source": [
    "print (te_mat.shape, te_proj.shape)\n",
    "print (np.sum(pca_digits1.explained_variance_ratio_))"
   ]
  },
  {
   "cell_type": "code",
   "execution_count": 6,
   "metadata": {
    "collapsed": true
   },
   "outputs": [],
   "source": [
    "%matplotlib inline \n",
    "import matplotlib.pyplot as plt "
   ]
  },
  {
   "cell_type": "code",
   "execution_count": 7,
   "metadata": {},
   "outputs": [
    {
     "data": {
      "image/png": "[encoded data removed]",
      "text/plain": [
       "<matplotlib.figure.Figure at 0x26943563ba8>"
      ]
     },
     "metadata": {},
     "output_type": "display_data"
    }
   ],
   "source": [
    "plt.semilogx(np.cumsum(pca_digits.explained_variance_ratio_)) \n",
    "plt.xlabel('Number of Components') \n",
    "plt.ylabel('Variance retained') \n",
    "plt.ylim(0,1) \n",
    "plt.show()"
   ]
  },
  {
   "cell_type": "code",
   "execution_count": 10,
   "metadata": {},
   "outputs": [
    {
     "data": {
      "text/plain": [
       "(1604, 75, 75, 2)"
      ]
     },
     "execution_count": 10,
     "metadata": {},
     "output_type": "execute_result"
    }
   ],
   "source": [
    "#reconstruct the images using the new reduced dataset\n",
    "#64x64 pixel images into 8x8 images. \n",
    "#Now to visualize how these images look we need to inverse transform the 8x8 images \n",
    "#back to 64x64 dimension. Note that we're not reverting back to the original data, we're simply going back to the \n",
    "#actual dimension of the original images so we can visualize them.\n",
    "\n",
    "tr_inv_proj = pca_digits.inverse_transform(tr_proj)  \n",
    "#reshaping as 400 images of 64x64 dimension \n",
    "tr_proj_img = np.reshape(tr_inv_proj,(-1,75,75,2)) \n",
    "tr_proj_img.shape"
   ]
  },
  {
   "cell_type": "code",
   "execution_count": 17,
   "metadata": {},
   "outputs": [
    {
     "data": {
      "text/plain": [
       "(8424, 75, 75, 2)"
      ]
     },
     "execution_count": 17,
     "metadata": {},
     "output_type": "execute_result"
    }
   ],
   "source": [
    "te_inv_proj = pca_digits1.inverse_transform(te_proj)  \n",
    "#reshaping as 400 images of 64x64 dimension \n",
    "te_proj_img = np.reshape(te_inv_proj,(-1,75,75,2)) \n",
    "te_proj_img.shape"
   ]
  }
 ],
 "metadata": {
  "kernelspec": {
   "display_name": "Python 3",
   "language": "python",
   "name": "python3"
  },
  "language_info": {
   "codemirror_mode": {
    "name": "ipython",
    "version": 3
   },
   "file_extension": ".py",
   "mimetype": "text/x-python",
   "name": "python",
   "nbconvert_exporter": "python",
   "pygments_lexer": "ipython3",
   "version": "3.5.4"
  }
 },
 "nbformat": 4,
 "nbformat_minor": 2
}
