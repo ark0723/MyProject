{
 "cells": [
  {
   "cell_type": "code",
   "execution_count": 1,
   "metadata": {
    "collapsed": true
   },
   "outputs": [],
   "source": [
    "import pickle, random, copy, platform, os\n",
    "import numpy as np\n",
    "import tensorflow as tf\n",
    "import email_sending\n",
    "from PIL import Image, ImageDraw"
   ]
  },
  {
   "cell_type": "code",
   "execution_count": 2,
   "metadata": {
    "collapsed": true
   },
   "outputs": [],
   "source": [
    "def vessel_img():\n",
    "    with open('vessel', 'rb') as vessel:\n",
    "        data = pickle.load(vessel)\n",
    "        band1 = data[0]\n",
    "        band2 = data[1]\n",
    "\n",
    "    return band1, band2"
   ]
  },
  {
   "cell_type": "code",
   "execution_count": 3,
   "metadata": {
    "collapsed": true
   },
   "outputs": [],
   "source": [
    "#band1\n",
    "band1 = vessel_img()[0]\n",
    "band2 = vessel_img()[1]"
   ]
  },
  {
   "cell_type": "code",
   "execution_count": 4,
   "metadata": {
    "collapsed": true
   },
   "outputs": [],
   "source": [
    "X1 = band1.reshape(-1, 5625)\n",
    "X2 = band2.reshape(-1, 5625)"
   ]
  },
  {
   "cell_type": "code",
   "execution_count": 5,
   "metadata": {},
   "outputs": [
    {
     "data": {
      "text/plain": [
       "'X1 = np.array([X1[0] for i in range(len(X1))])\\nX2 = np.array([X2[0] for i in range(len(X1))])'"
      ]
     },
     "execution_count": 5,
     "metadata": {},
     "output_type": "execute_result"
    }
   ],
   "source": [
    "'''X1 = np.array([X1[0] for i in range(len(X1))])\n",
    "X2 = np.array([X2[0] for i in range(len(X1))])'''"
   ]
  },
  {
   "cell_type": "code",
   "execution_count": 6,
   "metadata": {
    "collapsed": true
   },
   "outputs": [],
   "source": [
    "# GAN Modeling\n",
    "\n",
    "import matplotlib.pyplot as plt\n",
    "\n",
    "total_epoch = 10000\n",
    "batch_size = 37 #851=37*23\n",
    "learning_rate = 0.00002\n",
    "# layer option\n",
    "n_noise = 256 # the size of noise \n",
    "n_hidden = 512\n",
    "n_hidden2 = 1024\n",
    "n_hidden3 = 2024\n",
    "n_input = 75*75"
   ]
  },
  {
   "cell_type": "code",
   "execution_count": 7,
   "metadata": {
    "collapsed": true
   },
   "outputs": [],
   "source": [
    "# X is the input, we do not use the labels Y of images\n",
    "X = tf.placeholder(tf.float32, [None, n_input])\n",
    "# Z is the noise \n",
    "Z = tf.placeholder(tf.float32, [None, n_noise])"
   ]
  },
  {
   "cell_type": "code",
   "execution_count": 8,
   "metadata": {
    "collapsed": true
   },
   "outputs": [],
   "source": [
    "g_W1 = tf.Variable(tf.random_normal([n_noise, n_hidden], mean=0, stddev=0.01, dtype=tf.float32))\n",
    "g_b1 = tf.Variable(tf.random_normal([n_hidden],stddev=0.01))\n",
    "\n",
    "g_W2 = tf.Variable(tf.random_normal([n_hidden, n_hidden2], mean=0, stddev=0.01, dtype=tf.float32))\n",
    "g_b2 = tf.Variable(tf.random_normal([n_hidden2],stddev=0.01))\n",
    "g_W3 = tf.Variable(tf.random_normal([n_hidden2, n_hidden3], mean=0, stddev=0.01, dtype=tf.float32))\n",
    "g_b3 = tf.Variable(tf.random_normal([n_hidden3],stddev=0.01))\n",
    "                   \n",
    "g_W4 = tf.Variable(tf.random_normal([n_hidden3, n_input], mean=0, stddev=0.01, dtype=tf.float32))\n",
    "g_b4 = tf.Variable(tf.random_normal([n_input],stddev=0.01))"
   ]
  },
  {
   "cell_type": "code",
   "execution_count": 9,
   "metadata": {
    "collapsed": true
   },
   "outputs": [],
   "source": [
    "def generator(noise_z):\n",
    "    hidden = tf.nn.relu(tf.matmul(noise_z, g_W1) + g_b1)\n",
    "    hidden2 = tf.nn.relu(tf.matmul(hidden, g_W2) + g_b2)\n",
    "    hidden3 = tf.nn.relu(tf.matmul(hidden2, g_W3) + g_b3)\n",
    "    output = tf.nn.sigmoid(tf.matmul(hidden3, g_W4) + g_b4)\n",
    "    return output"
   ]
  },
  {
   "cell_type": "code",
   "execution_count": 10,
   "metadata": {
    "collapsed": true
   },
   "outputs": [],
   "source": [
    "d_W1 = tf.Variable(tf.random_normal([n_input, n_hidden3], mean=0, stddev=0.01, dtype=tf.float32))\n",
    "d_b1 = tf.Variable(tf.random_normal([n_hidden3],stddev=0.01))\n",
    "\n",
    "d_W2 = tf.Variable(tf.random_normal([n_hidden3, n_hidden2], mean=0, stddev=0.01, dtype=tf.float32))\n",
    "d_b2 = tf.Variable(tf.random_normal([n_hidden2],stddev=0.01))\n",
    "d_W3 = tf.Variable(tf.random_normal([n_hidden2, n_hidden], mean=0, stddev=0.01, dtype=tf.float32))\n",
    "d_b3 = tf.Variable(tf.random_normal([n_hidden],stddev=0.01))\n",
    "\n",
    "d_W4 = tf.Variable(tf.random_normal([n_hidden, 1], mean=0, stddev=0.01, dtype=tf.float32))\n",
    "d_b4 = tf.Variable(tf.random_normal([1],stddev=0.01))"
   ]
  },
  {
   "cell_type": "code",
   "execution_count": 11,
   "metadata": {
    "collapsed": true
   },
   "outputs": [],
   "source": [
    "def discriminator(inputs):\n",
    "    hidden = tf.nn.relu(tf.matmul(inputs, d_W1) + d_b1)\n",
    "    hidden2 = tf.nn.relu(tf.matmul(hidden, d_W2) + d_b2)\n",
    "    hidden3 = tf.nn.relu(tf.matmul(hidden2, d_W3) + d_b3)\n",
    "    output = tf.nn.sigmoid(tf.matmul(hidden3, d_W4) + d_b4)\n",
    "    return output"
   ]
  },
  {
   "cell_type": "code",
   "execution_count": 12,
   "metadata": {
    "collapsed": true
   },
   "outputs": [],
   "source": [
    "def get_noise(batch_size, n_noise):\n",
    "    return np.random.normal(size=(batch_size, n_noise))"
   ]
  },
  {
   "cell_type": "code",
   "execution_count": 13,
   "metadata": {
    "collapsed": true
   },
   "outputs": [],
   "source": [
    "# Generate the random image\n",
    "G = generator(Z)\n",
    "# Discriminate the generated image\n",
    "D_generate = discriminator(G)\n",
    "# Discriminate the real image\n",
    "D_real = discriminator(X)"
   ]
  },
  {
   "cell_type": "code",
   "execution_count": 14,
   "metadata": {
    "collapsed": true
   },
   "outputs": [],
   "source": [
    "loss_D_real = tf.reduce_mean(tf.nn.sigmoid_cross_entropy_with_logits(\n",
    "                        logits=D_real, labels=tf.ones_like(D_real)))"
   ]
  },
  {
   "cell_type": "code",
   "execution_count": 15,
   "metadata": {
    "collapsed": true
   },
   "outputs": [],
   "source": [
    "loss_D_generate = tf.reduce_mean(tf.nn.sigmoid_cross_entropy_with_logits(\n",
    "    logits=D_generate, labels=tf.zeros_like(D_generate)))"
   ]
  },
  {
   "cell_type": "code",
   "execution_count": 16,
   "metadata": {
    "collapsed": true
   },
   "outputs": [],
   "source": [
    "loss_D = loss_D_real + loss_D_generate"
   ]
  },
  {
   "cell_type": "code",
   "execution_count": 17,
   "metadata": {
    "collapsed": true
   },
   "outputs": [],
   "source": [
    "loss_G = tf.reduce_mean(tf.nn.sigmoid_cross_entropy_with_logits(logits=D_generate, labels=tf.ones_like(D_generate)))"
   ]
  },
  {
   "cell_type": "code",
   "execution_count": 18,
   "metadata": {
    "collapsed": true
   },
   "outputs": [],
   "source": [
    "d_var_list = [d_W1, d_b1, d_W2, d_b2, d_W3, d_b3, d_W4, d_b4]\n",
    "g_var_list = [g_W1, g_b1, g_W2, g_b2, g_W3, g_b3, g_W4, g_b4]"
   ]
  },
  {
   "cell_type": "code",
   "execution_count": 19,
   "metadata": {
    "collapsed": true
   },
   "outputs": [],
   "source": [
    "train_D = tf.train.AdamOptimizer(learning_rate).minimize(loss_D,var_list=d_var_list)\n",
    "train_G = tf.train.AdamOptimizer(learning_rate).minimize(loss_G,var_list=g_var_list)"
   ]
  },
  {
   "cell_type": "code",
   "execution_count": 20,
   "metadata": {
    "collapsed": true
   },
   "outputs": [],
   "source": [
    "sess = tf.Session()\n",
    "sess.run(tf.global_variables_initializer())\n",
    "\n",
    "total_batch = int(851/batch_size)\n",
    "loss_val_D, loss_val_G = 0, 0"
   ]
  },
  {
   "cell_type": "code",
   "execution_count": 21,
   "metadata": {
    "scrolled": false
   },
   "outputs": [
    {
     "name": "stdout",
     "output_type": "stream",
     "text": [
      "Epoch: 0000 D loss: 1.23 G loss: 0.5137\n",
      "[ 0.49949601  0.49517575  0.49776331 ...,  0.4997144   0.49991229\n",
      "  0.50121123]\n",
      "Epoch: 0001 D loss: 1.071 G loss: 0.6379\n",
      "Epoch: 0002 D loss: 1.011 G loss: 0.6886\n",
      "Epoch: 0003 D loss: 1.008 G loss: 0.6917\n",
      "Epoch: 0004 D loss: 1.007 G loss: 0.6921\n",
      "[ 0.48761106  0.47097969  0.49397627 ...,  0.48557425  0.46923754\n",
      "  0.47589582]\n",
      "Epoch: 0005 D loss: 1.007 G loss: 0.6921\n",
      "Epoch: 0006 D loss: 1.01 G loss: 0.69\n",
      "Epoch: 0007 D loss: 1.075 G loss: 0.6327\n",
      "Epoch: 0008 D loss: 1.253 G loss: 0.4963\n",
      "Epoch: 0009 D loss: 1.271 G loss: 0.4844\n",
      "[ 0.0003545   0.00015297  0.00057447 ...,  0.00031647  0.00015614\n",
      "  0.00018815]\n",
      "Epoch: 0010 D loss: 1.27 G loss: 0.4851\n",
      "Epoch: 0011 D loss: 1.264 G loss: 0.4887\n",
      "Epoch: 0012 D loss: 1.255 G loss: 0.4942\n",
      "Epoch: 0013 D loss: 1.244 G loss: 0.5018\n",
      "Epoch: 0014 D loss: 1.228 G loss: 0.5125\n",
      "[  7.61970223e-05   3.81669306e-05   1.39106225e-04 ...,   6.73460818e-05\n",
      "   4.11425026e-05   5.23954768e-05]\n",
      "Epoch: 0015 D loss: 1.207 G loss: 0.527\n",
      "Epoch: 0016 D loss: 1.18 G loss: 0.5465\n",
      "Epoch: 0017 D loss: 1.148 G loss: 0.5703\n",
      "Epoch: 0018 D loss: 1.115 G loss: 0.5963\n",
      "Epoch: 0019 D loss: 1.085 G loss: 0.6211\n",
      "[  2.57289685e-05   1.34622114e-05   5.32395752e-05 ...,   2.29037523e-05\n",
      "   1.59316660e-05   2.18365203e-05]\n",
      "Epoch: 0020 D loss: 1.062 G loss: 0.6414\n",
      "Epoch: 0021 D loss: 1.045 G loss: 0.6562\n",
      "Epoch: 0022 D loss: 1.034 G loss: 0.6663\n",
      "Epoch: 0023 D loss: 1.027 G loss: 0.6731\n",
      "Epoch: 0024 D loss: 1.022 G loss: 0.6777\n",
      "[  6.53859752e-06   3.33771141e-06   1.50039141e-05 ...,   5.78703293e-06\n",
      "   4.19361686e-06   6.02021873e-06]\n",
      "Epoch: 0025 D loss: 1.019 G loss: 0.681\n",
      "Epoch: 0026 D loss: 1.016 G loss: 0.6833\n",
      "Epoch: 0027 D loss: 1.015 G loss: 0.685\n",
      "Epoch: 0028 D loss: 1.013 G loss: 0.6863\n",
      "Epoch: 0029 D loss: 1.012 G loss: 0.6873\n",
      "[  3.46824481e-06   1.74423883e-06   8.34435195e-06 ...,   3.07096457e-06\n",
      "   2.23421034e-06   3.33228218e-06]\n",
      "Epoch: 0030 D loss: 1.011 G loss: 0.6881\n",
      "Epoch: 0031 D loss: 1.011 G loss: 0.6888\n",
      "Epoch: 0032 D loss: 1.01 G loss: 0.6893\n",
      "Epoch: 0033 D loss: 1.01 G loss: 0.6898\n",
      "Epoch: 0034 D loss: 1.009 G loss: 0.6901\n",
      "[  5.79009622e-07   2.67676427e-07   1.58670662e-06 ...,   4.99169971e-07\n",
      "   3.55438033e-07   5.61997183e-07]\n",
      "Epoch: 0035 D loss: 1.009 G loss: 0.6904\n",
      "Epoch: 0036 D loss: 1.009 G loss: 0.6907\n",
      "Epoch: 0037 D loss: 1.009 G loss: 0.6909\n",
      "Epoch: 0038 D loss: 1.008 G loss: 0.6911\n",
      "Epoch: 0039 D loss: 1.008 G loss: 0.6913\n",
      "[  3.34235551e-06   1.71078125e-06   8.06957451e-06 ...,   2.94278630e-06\n",
      "   2.20466472e-06   3.33107482e-06]\n",
      "Epoch: 0040 D loss: 1.008 G loss: 0.6914\n",
      "Epoch: 0041 D loss: 1.008 G loss: 0.6916\n",
      "Epoch: 0042 D loss: 1.008 G loss: 0.6917\n",
      "Epoch: 0043 D loss: 1.008 G loss: 0.6918\n",
      "Epoch: 0044 D loss: 1.008 G loss: 0.6919\n",
      "[  1.67386099e-06   8.36367519e-07   4.24737345e-06 ...,   1.46565537e-06\n",
      "   1.08942197e-06   1.68114639e-06]\n",
      "Epoch: 0045 D loss: 1.008 G loss: 0.692\n",
      "Epoch: 0046 D loss: 1.008 G loss: 0.692\n",
      "Epoch: 0047 D loss: 1.007 G loss: 0.6921\n",
      "Epoch: 0048 D loss: 1.007 G loss: 0.6922\n",
      "Epoch: 0049 D loss: 1.007 G loss: 0.6922\n",
      "[  2.36171195e-06   1.19199603e-06   5.83956717e-06 ...,   2.06264508e-06\n",
      "   1.55525288e-06   2.37920017e-06]\n",
      "Epoch: 0050 D loss: 1.007 G loss: 0.6923\n",
      "Epoch: 0051 D loss: 1.007 G loss: 0.6923\n",
      "Epoch: 0052 D loss: 1.007 G loss: 0.6924\n",
      "Epoch: 0053 D loss: 1.007 G loss: 0.6924\n",
      "Epoch: 0054 D loss: 1.007 G loss: 0.6925\n",
      "[  2.65399149e-06   1.35456139e-06   6.44526790e-06 ...,   2.31349600e-06\n",
      "   1.75248897e-06   2.69854058e-06]\n",
      "Epoch: 0055 D loss: 1.007 G loss: 0.6925\n",
      "Epoch: 0056 D loss: 1.007 G loss: 0.6925\n",
      "Epoch: 0057 D loss: 1.007 G loss: 0.6926\n",
      "Epoch: 0058 D loss: 1.007 G loss: 0.6926\n",
      "Epoch: 0059 D loss: 1.007 G loss: 0.6926\n",
      "[  2.80018617e-06   1.43242460e-06   6.76608852e-06 ...,   2.43426507e-06\n",
      "   1.85337808e-06   2.83149211e-06]\n",
      "Epoch: 0060 D loss: 1.007 G loss: 0.6926\n",
      "Epoch: 0061 D loss: 1.007 G loss: 0.6927\n",
      "Epoch: 0062 D loss: 1.007 G loss: 0.6927\n",
      "Epoch: 0063 D loss: 1.007 G loss: 0.6927\n",
      "Epoch: 0064 D loss: 1.007 G loss: 0.6927\n",
      "[  5.10867903e-06   2.70534042e-06   1.18583848e-05 ...,   4.49400704e-06\n",
      "   3.48427398e-06   5.21753736e-06]\n",
      "Epoch: 0065 D loss: 1.007 G loss: 0.6927\n",
      "Epoch: 0066 D loss: 1.007 G loss: 0.6928\n",
      "Epoch: 0067 D loss: 1.007 G loss: 0.6928\n",
      "Epoch: 0068 D loss: 1.007 G loss: 0.6928\n",
      "Epoch: 0069 D loss: 1.007 G loss: 0.6928\n",
      "[  1.90240837e-06   9.55981704e-07   4.73359250e-06 ...,   1.63994753e-06\n",
      "   1.24533517e-06   1.93953747e-06]\n",
      "Epoch: 0070 D loss: 1.007 G loss: 0.6928\n",
      "Epoch: 0071 D loss: 1.007 G loss: 0.6928\n",
      "Epoch: 0072 D loss: 1.007 G loss: 0.6928\n",
      "Epoch: 0073 D loss: 1.007 G loss: 0.6928\n",
      "Epoch: 0074 D loss: 1.007 G loss: 0.6929\n",
      "[  3.97947861e-06   2.09519089e-06   9.36855668e-06 ...,   3.46910178e-06\n",
      "   2.68403664e-06   4.08795313e-06]\n",
      "Epoch: 0075 D loss: 1.007 G loss: 0.6929\n",
      "Epoch: 0076 D loss: 1.007 G loss: 0.6929\n",
      "Epoch: 0077 D loss: 1.007 G loss: 0.6929\n",
      "Epoch: 0078 D loss: 1.007 G loss: 0.6929\n",
      "Epoch: 0079 D loss: 1.007 G loss: 0.6929\n",
      "[  2.22149629e-06   1.13782937e-06   5.44183740e-06 ...,   1.91526215e-06\n",
      "   1.47968285e-06   2.27412352e-06]\n"
     ]
    },
    {
     "ename": "KeyboardInterrupt",
     "evalue": "",
     "output_type": "error",
     "traceback": [
      "\u001b[0;31m---------------------------------------------------------------------------\u001b[0m",
      "\u001b[0;31mKeyboardInterrupt\u001b[0m                         Traceback (most recent call last)",
      "\u001b[0;32m<ipython-input-21-ddcb7bd8833a>\u001b[0m in \u001b[0;36m<module>\u001b[0;34m()\u001b[0m\n\u001b[1;32m      8\u001b[0m                                  feed_dict={X: batch_xs, Z: noise})\n\u001b[1;32m      9\u001b[0m         _, loss_val_G = sess.run([train_G, loss_G],\n\u001b[0;32m---> 10\u001b[0;31m                                  feed_dict={Z: noise})\n\u001b[0m\u001b[1;32m     11\u001b[0m \u001b[0;34m\u001b[0m\u001b[0m\n\u001b[1;32m     12\u001b[0m     print('Epoch:', '%04d' % epoch,\n",
      "\u001b[0;32m/home/snu/anaconda3/lib/python3.6/site-packages/tensorflow/python/client/session.py\u001b[0m in \u001b[0;36mrun\u001b[0;34m(self, fetches, feed_dict, options, run_metadata)\u001b[0m\n\u001b[1;32m    893\u001b[0m     \u001b[0;32mtry\u001b[0m\u001b[0;34m:\u001b[0m\u001b[0;34m\u001b[0m\u001b[0m\n\u001b[1;32m    894\u001b[0m       result = self._run(None, fetches, feed_dict, options_ptr,\n\u001b[0;32m--> 895\u001b[0;31m                          run_metadata_ptr)\n\u001b[0m\u001b[1;32m    896\u001b[0m       \u001b[0;32mif\u001b[0m \u001b[0mrun_metadata\u001b[0m\u001b[0;34m:\u001b[0m\u001b[0;34m\u001b[0m\u001b[0m\n\u001b[1;32m    897\u001b[0m         \u001b[0mproto_data\u001b[0m \u001b[0;34m=\u001b[0m \u001b[0mtf_session\u001b[0m\u001b[0;34m.\u001b[0m\u001b[0mTF_GetBuffer\u001b[0m\u001b[0;34m(\u001b[0m\u001b[0mrun_metadata_ptr\u001b[0m\u001b[0;34m)\u001b[0m\u001b[0;34m\u001b[0m\u001b[0m\n",
      "\u001b[0;32m/home/snu/anaconda3/lib/python3.6/site-packages/tensorflow/python/client/session.py\u001b[0m in \u001b[0;36m_run\u001b[0;34m(self, handle, fetches, feed_dict, options, run_metadata)\u001b[0m\n\u001b[1;32m   1122\u001b[0m     \u001b[0;32mif\u001b[0m \u001b[0mfinal_fetches\u001b[0m \u001b[0;32mor\u001b[0m \u001b[0mfinal_targets\u001b[0m \u001b[0;32mor\u001b[0m \u001b[0;34m(\u001b[0m\u001b[0mhandle\u001b[0m \u001b[0;32mand\u001b[0m \u001b[0mfeed_dict_tensor\u001b[0m\u001b[0;34m)\u001b[0m\u001b[0;34m:\u001b[0m\u001b[0;34m\u001b[0m\u001b[0m\n\u001b[1;32m   1123\u001b[0m       results = self._do_run(handle, final_targets, final_fetches,\n\u001b[0;32m-> 1124\u001b[0;31m                              feed_dict_tensor, options, run_metadata)\n\u001b[0m\u001b[1;32m   1125\u001b[0m     \u001b[0;32melse\u001b[0m\u001b[0;34m:\u001b[0m\u001b[0;34m\u001b[0m\u001b[0m\n\u001b[1;32m   1126\u001b[0m       \u001b[0mresults\u001b[0m \u001b[0;34m=\u001b[0m \u001b[0;34m[\u001b[0m\u001b[0;34m]\u001b[0m\u001b[0;34m\u001b[0m\u001b[0m\n",
      "\u001b[0;32m/home/snu/anaconda3/lib/python3.6/site-packages/tensorflow/python/client/session.py\u001b[0m in \u001b[0;36m_do_run\u001b[0;34m(self, handle, target_list, fetch_list, feed_dict, options, run_metadata)\u001b[0m\n\u001b[1;32m   1319\u001b[0m     \u001b[0;32mif\u001b[0m \u001b[0mhandle\u001b[0m \u001b[0;32mis\u001b[0m \u001b[0;32mNone\u001b[0m\u001b[0;34m:\u001b[0m\u001b[0;34m\u001b[0m\u001b[0m\n\u001b[1;32m   1320\u001b[0m       return self._do_call(_run_fn, self._session, feeds, fetches, targets,\n\u001b[0;32m-> 1321\u001b[0;31m                            options, run_metadata)\n\u001b[0m\u001b[1;32m   1322\u001b[0m     \u001b[0;32melse\u001b[0m\u001b[0;34m:\u001b[0m\u001b[0;34m\u001b[0m\u001b[0m\n\u001b[1;32m   1323\u001b[0m       \u001b[0;32mreturn\u001b[0m \u001b[0mself\u001b[0m\u001b[0;34m.\u001b[0m\u001b[0m_do_call\u001b[0m\u001b[0;34m(\u001b[0m\u001b[0m_prun_fn\u001b[0m\u001b[0;34m,\u001b[0m \u001b[0mself\u001b[0m\u001b[0;34m.\u001b[0m\u001b[0m_session\u001b[0m\u001b[0;34m,\u001b[0m \u001b[0mhandle\u001b[0m\u001b[0;34m,\u001b[0m \u001b[0mfeeds\u001b[0m\u001b[0;34m,\u001b[0m \u001b[0mfetches\u001b[0m\u001b[0;34m)\u001b[0m\u001b[0;34m\u001b[0m\u001b[0m\n",
      "\u001b[0;32m/home/snu/anaconda3/lib/python3.6/site-packages/tensorflow/python/client/session.py\u001b[0m in \u001b[0;36m_do_call\u001b[0;34m(self, fn, *args)\u001b[0m\n\u001b[1;32m   1325\u001b[0m   \u001b[0;32mdef\u001b[0m \u001b[0m_do_call\u001b[0m\u001b[0;34m(\u001b[0m\u001b[0mself\u001b[0m\u001b[0;34m,\u001b[0m \u001b[0mfn\u001b[0m\u001b[0;34m,\u001b[0m \u001b[0;34m*\u001b[0m\u001b[0margs\u001b[0m\u001b[0;34m)\u001b[0m\u001b[0;34m:\u001b[0m\u001b[0;34m\u001b[0m\u001b[0m\n\u001b[1;32m   1326\u001b[0m     \u001b[0;32mtry\u001b[0m\u001b[0;34m:\u001b[0m\u001b[0;34m\u001b[0m\u001b[0m\n\u001b[0;32m-> 1327\u001b[0;31m       \u001b[0;32mreturn\u001b[0m \u001b[0mfn\u001b[0m\u001b[0;34m(\u001b[0m\u001b[0;34m*\u001b[0m\u001b[0margs\u001b[0m\u001b[0;34m)\u001b[0m\u001b[0;34m\u001b[0m\u001b[0m\n\u001b[0m\u001b[1;32m   1328\u001b[0m     \u001b[0;32mexcept\u001b[0m \u001b[0merrors\u001b[0m\u001b[0;34m.\u001b[0m\u001b[0mOpError\u001b[0m \u001b[0;32mas\u001b[0m \u001b[0me\u001b[0m\u001b[0;34m:\u001b[0m\u001b[0;34m\u001b[0m\u001b[0m\n\u001b[1;32m   1329\u001b[0m       \u001b[0mmessage\u001b[0m \u001b[0;34m=\u001b[0m \u001b[0mcompat\u001b[0m\u001b[0;34m.\u001b[0m\u001b[0mas_text\u001b[0m\u001b[0;34m(\u001b[0m\u001b[0me\u001b[0m\u001b[0;34m.\u001b[0m\u001b[0mmessage\u001b[0m\u001b[0;34m)\u001b[0m\u001b[0;34m\u001b[0m\u001b[0m\n",
      "\u001b[0;32m/home/snu/anaconda3/lib/python3.6/site-packages/tensorflow/python/client/session.py\u001b[0m in \u001b[0;36m_run_fn\u001b[0;34m(session, feed_dict, fetch_list, target_list, options, run_metadata)\u001b[0m\n\u001b[1;32m   1304\u001b[0m           return tf_session.TF_Run(session, options,\n\u001b[1;32m   1305\u001b[0m                                    \u001b[0mfeed_dict\u001b[0m\u001b[0;34m,\u001b[0m \u001b[0mfetch_list\u001b[0m\u001b[0;34m,\u001b[0m \u001b[0mtarget_list\u001b[0m\u001b[0;34m,\u001b[0m\u001b[0;34m\u001b[0m\u001b[0m\n\u001b[0;32m-> 1306\u001b[0;31m                                    status, run_metadata)\n\u001b[0m\u001b[1;32m   1307\u001b[0m \u001b[0;34m\u001b[0m\u001b[0m\n\u001b[1;32m   1308\u001b[0m     \u001b[0;32mdef\u001b[0m \u001b[0m_prun_fn\u001b[0m\u001b[0;34m(\u001b[0m\u001b[0msession\u001b[0m\u001b[0;34m,\u001b[0m \u001b[0mhandle\u001b[0m\u001b[0;34m,\u001b[0m \u001b[0mfeed_dict\u001b[0m\u001b[0;34m,\u001b[0m \u001b[0mfetch_list\u001b[0m\u001b[0;34m)\u001b[0m\u001b[0;34m:\u001b[0m\u001b[0;34m\u001b[0m\u001b[0m\n",
      "\u001b[0;31mKeyboardInterrupt\u001b[0m: "
     ]
    }
   ],
   "source": [
    "for epoch in range(total_epoch):\n",
    "    for i in range(total_batch):\n",
    "        batch_xs= X1[i*batch_size:(i+1)*batch_size]\n",
    "        noise = get_noise(batch_size, n_noise)\n",
    "\n",
    "        # learn the discriminator and generator.\n",
    "        _, loss_val_D = sess.run([train_D, loss_D],\n",
    "                                 feed_dict={X: batch_xs, Z: noise})\n",
    "        _, loss_val_G = sess.run([train_G, loss_G],\n",
    "                                 feed_dict={Z: noise})\n",
    "\n",
    "    print('Epoch:', '%04d' % epoch,\n",
    "          'D loss: {:.4}'.format(loss_val_D),\n",
    "          'G loss: {:.4}'.format(loss_val_G))\n",
    "    \n",
    "    #########\n",
    "    # save the images which is generated\n",
    "    ######\n",
    "    if epoch == 0 or (epoch + 1) % 5 == 0:\n",
    "        sample_size = 10\n",
    "        noise = get_noise(sample_size, n_noise)\n",
    "        samples = sess.run(G, feed_dict={Z: noise})\n",
    "\n",
    "        fig, ax = plt.subplots(1, sample_size, figsize=(sample_size, 1))\n",
    "\n",
    "        for i in range(sample_size):\n",
    "            ax[i].set_axis_off()\n",
    "            ax[i].imshow(np.reshape(samples[i], (75, 75)), cmap=plt.cm.bone, interpolation='nearest')\n",
    "\n",
    "        plt.savefig('samples/{}.png'.format(str(epoch).zfill(4)), bbox_inches='tight')\n",
    "        plt.close(fig)\n",
    "        print(samples[0])\n",
    "print('최적화 완료!')"
   ]
  },
  {
   "cell_type": "code",
   "execution_count": null,
   "metadata": {
    "collapsed": true
   },
   "outputs": [],
   "source": []
  }
 ],
 "metadata": {
  "kernelspec": {
   "display_name": "Python 3",
   "language": "python",
   "name": "python3"
  },
  "language_info": {
   "codemirror_mode": {
    "name": "ipython",
    "version": 3
   },
   "file_extension": ".py",
   "mimetype": "text/x-python",
   "name": "python",
   "nbconvert_exporter": "python",
   "pygments_lexer": "ipython3",
   "version": "3.5.4"
  }
 },
 "nbformat": 4,
 "nbformat_minor": 2
}
