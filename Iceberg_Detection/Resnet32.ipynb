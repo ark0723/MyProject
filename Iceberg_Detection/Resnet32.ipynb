{
 "cells": [
  {
   "cell_type": "code",
   "execution_count": 1,
   "metadata": {},
   "outputs": [
    {
     "name": "stdout",
     "output_type": "stream",
     "text": [
      "curses is not supported on this machine (please install/reinstall curses for an optimal experience)\n"
     ]
    }
   ],
   "source": [
    "import pickle, random, copy, platform, os, time\n",
    "import numpy as np\n",
    "import tensorflow as tf\n",
    "import email_sending\n",
    "import tflearn\n",
    "from PIL import Image, ImageDraw\n",
    "from __future__ import division, print_function, absolute_import"
   ]
  },
  {
   "cell_type": "code",
   "execution_count": 2,
   "metadata": {
    "collapsed": true
   },
   "outputs": [],
   "source": [
    "def read_data():\n",
    "    with open('resnet_data', 'rb') as f:\n",
    "        data = pickle.load(f)\n",
    "        X = data[0]\n",
    "        X = np.reshape(X, (-1,75,75,2))\n",
    "        Y = data[1]\n",
    "    return X, Y\n",
    "\n",
    "# expresses the label data in one-hot encoding.\n",
    "def onehot_encoding (Y, y_class):\n",
    "    Y_onehot = np.zeros((Y.size, int(y_class)))\n",
    "    for i in range(Y.size):\n",
    "        Y_onehot[i][Y[i]] = 1\n",
    "    return Y_onehot"
   ]
  },
  {
   "cell_type": "code",
   "execution_count": 3,
   "metadata": {
    "collapsed": true
   },
   "outputs": [],
   "source": [
    "def resnet32(x, classes, n = 5): #classes =2\n",
    "    net = tflearn.conv_2d(x, 16, 3, regularizer='L2', weight_decay=0.0001)\n",
    "    net = tflearn.residual_block(net, n, 16)\n",
    "    net = tflearn.residual_block(net, 1, 32, downsample=True)\n",
    "    net = tflearn.residual_block(net, n - 1, 32)\n",
    "    net = tflearn.residual_block(net, 1, 64, downsample=True)\n",
    "    net = tflearn.residual_block(net, n - 1, 64)\n",
    "    net = tflearn.batch_normalization(net)\n",
    "    net = tflearn.activation(net, 'relu')\n",
    "    net = tflearn.global_avg_pool(net)\n",
    "    net = tflearn.fully_connected(net, classes, activation='softmax')\n",
    "\n",
    "    return net"
   ]
  },
  {
   "cell_type": "code",
   "execution_count": 4,
   "metadata": {},
   "outputs": [
    {
     "name": "stdout",
     "output_type": "stream",
     "text": [
      "Training Step: 719  | total loss: \u001b[1m\u001b[32m0.17729\u001b[0m\u001b[0m | time: 106.093s\n",
      "| Adam | epoch: 060 | loss: 0.17729 - acc: 0.9491 -- iter: 1100/1200\n",
      "Training Step: 720  | total loss: \u001b[1m\u001b[32m0.17154\u001b[0m\u001b[0m | time: 119.992s\n",
      "| Adam | epoch: 060 | loss: 0.17154 - acc: 0.9502 | val_loss: 0.55325 - val_acc: 0.8050 -- iter: 1200/1200\n",
      "--\n",
      "INFO:tensorflow:C:\\Users\\User\\Desktop\\kaggle\\resnet32-720 is not in all_model_checkpoint_paths. Manually adding it.\n"
     ]
    }
   ],
   "source": [
    "def train(num_epochs=10):\n",
    "    batch_size = 100\n",
    "    classes = 2\n",
    "\n",
    "    img_prep = tflearn.ImagePreprocessing()\n",
    "    img_prep.add_featurewise_zero_center()\n",
    "    img_prep.add_featurewise_stdnorm()\n",
    "\n",
    "    img_aug = tflearn.ImageAugmentation()\n",
    "    img_aug.add_random_flip_leftright()\n",
    "    #img_aug.add_random_rotation(max_angle=25)\n",
    "    img_aug.add_random_crop([75,75,2], padding=4)\n",
    "\n",
    "    Input = tflearn.input_data(shape=[None, 75, 75, 2], dtype='float', data_preprocessing=img_prep,data_augmentation=img_aug)\n",
    "\n",
    "\n",
    "    totalX, totalY = read_data()\n",
    "    totalX, totalY = tflearn.data_utils.shuffle(totalX, totalY)\n",
    "    totalY=onehot_encoding(totalY, classes)\n",
    "    X, Y = totalX[:1200], totalY[:1200]\n",
    "    testX, testY =totalX[1200:1600], totalY[1200:1600]\n",
    "\n",
    "    network = tflearn.regression(resnet32(Input,classes),optimizer='adam',loss='categorical_crossentropy')\n",
    "    \n",
    "    model = tflearn.DNN(network,tensorboard_verbose=3,checkpoint_path='resnet32')\n",
    "    model.fit(X, Y, n_epoch=num_epochs, shuffle=True, validation_set=(testX, testY),\n",
    "              show_metric=True, batch_size=batch_size, run_id='resnet_iceberg')\n",
    "\n",
    "if __name__ == '__main__':\n",
    "    train(60)"
   ]
  }
 ],
 "metadata": {
  "kernelspec": {
   "display_name": "Python 3",
   "language": "python",
   "name": "python3"
  },
  "language_info": {
   "codemirror_mode": {
    "name": "ipython",
    "version": 3
   },
   "file_extension": ".py",
   "mimetype": "text/x-python",
   "name": "python",
   "nbconvert_exporter": "python",
   "pygments_lexer": "ipython3",
   "version": "3.5.4"
  }
 },
 "nbformat": 4,
 "nbformat_minor": 2
}
