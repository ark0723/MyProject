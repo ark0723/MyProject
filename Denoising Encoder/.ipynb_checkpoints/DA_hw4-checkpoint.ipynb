{
 "cells": [
  {
   "cell_type": "code",
   "execution_count": 11,
   "metadata": {
    "scrolled": true
   },
   "outputs": [],
   "source": [
    "import tensorflow as tf\n",
    "import numpy as np\n",
    "import matplotlib.pyplot as plt\n",
    "import random\n",
    "import math\n",
    "import scipy.misc"
   ]
  },
  {
   "cell_type": "code",
   "execution_count": 12,
   "metadata": {},
   "outputs": [
    {
     "name": "stdout",
     "output_type": "stream",
     "text": [
      "Extracting ./mnist/data/train-images-idx3-ubyte.gz\n",
      "Extracting ./mnist/data/train-labels-idx1-ubyte.gz\n",
      "Extracting ./mnist/data/t10k-images-idx3-ubyte.gz\n",
      "Extracting ./mnist/data/t10k-labels-idx1-ubyte.gz\n"
     ]
    }
   ],
   "source": [
    "from tensorflow.examples.tutorials.mnist import input_data\n",
    "mnist = input_data.read_data_sets(\"./mnist/data/\", one_hot=True)"
   ]
  },
  {
   "cell_type": "code",
   "execution_count": 13,
   "metadata": {
    "collapsed": true
   },
   "outputs": [],
   "source": [
    "learning_rate = 0.01\n",
    "training_epoch = 20\n",
    "batch_size = 100\n",
    "n_hidden = 256  # the number of neurons in hidden layer\n",
    "\n",
    "# function of put_hole\n",
    "# create the hole to given images\n",
    "def put_hole(images):\n",
    "    \n",
    "    new_images = np.zeros(images.shape)\n",
    "    \n",
    "    for i in range(images.shape[0]):\n",
    "        img = np.copy(images[i])\n",
    "\n",
    "        x = np.random.randint(7,high=14)\n",
    "        y = np.random.randint(7,high=14)\n",
    "        img[x:x+7, y:y+7] = 0\n",
    "        new_images[i] = img\n",
    "        \n",
    "    return new_images"
   ]
  },
  {
   "cell_type": "code",
   "execution_count": 14,
   "metadata": {},
   "outputs": [],
   "source": [
    "#TO DO: Define the placeholders X and Y for the denoising autoencoder\n",
    "n_input = 28*28\n",
    "X = tf.placeholder(tf.float32, [None, n_input])"
   ]
  },
  {
   "cell_type": "code",
   "execution_count": 15,
   "metadata": {},
   "outputs": [],
   "source": [
    "# typically the output size of encoder is smaller than input size of encode\n",
    "\n",
    "#TO DO: Implement the encoder of the denoising autoencoder\n"
   ]
  },
  {
   "cell_type": "code",
   "execution_count": 16,
   "metadata": {},
   "outputs": [],
   "source": [
    "# the output size of decoder must be the same as the input image size\n",
    "\n",
    "#TO DO: Implement the decoder of the denoising autoencoder\n"
   ]
  },
  {
   "cell_type": "code",
   "execution_count": 17,
   "metadata": {},
   "outputs": [],
   "source": [
    "#TO DO: Define the cost function and optimizer"
   ]
  },
  {
   "cell_type": "code",
   "execution_count": 18,
   "metadata": {
    "collapsed": true
   },
   "outputs": [],
   "source": [
    "init = tf.global_variables_initializer()\n",
    "sess = tf.Session()\n",
    "sess.run(init)"
   ]
  },
  {
   "cell_type": "code",
   "execution_count": 19,
   "metadata": {},
   "outputs": [
    {
     "name": "stdout",
     "output_type": "stream",
     "text": [
      "Epoch: 0001 Avg. cost = 0.0000\n",
      "Epoch: 0002 Avg. cost = 0.0000\n",
      "Epoch: 0003 Avg. cost = 0.0000\n",
      "Epoch: 0004 Avg. cost = 0.0000\n",
      "Epoch: 0005 Avg. cost = 0.0000\n",
      "Epoch: 0006 Avg. cost = 0.0000\n",
      "Epoch: 0007 Avg. cost = 0.0000\n",
      "Epoch: 0008 Avg. cost = 0.0000\n",
      "Epoch: 0009 Avg. cost = 0.0000\n",
      "Epoch: 0010 Avg. cost = 0.0000\n",
      "Epoch: 0011 Avg. cost = 0.0000\n",
      "Epoch: 0012 Avg. cost = 0.0000\n",
      "Epoch: 0013 Avg. cost = 0.0000\n",
      "Epoch: 0014 Avg. cost = 0.0000\n",
      "Epoch: 0015 Avg. cost = 0.0000\n",
      "Epoch: 0016 Avg. cost = 0.0000\n",
      "Epoch: 0017 Avg. cost = 0.0000\n",
      "Epoch: 0018 Avg. cost = 0.0000\n",
      "Epoch: 0019 Avg. cost = 0.0000\n",
      "Epoch: 0020 Avg. cost = 0.0000\n"
     ]
    }
   ],
   "source": [
    "total_batch = int(mnist.train.num_examples/batch_size)\n",
    "for epoch in range(training_epoch):\n",
    "    total_cost = 0\n",
    "\n",
    "    for i in range(total_batch):\n",
    "        batch_xs, batch_ys = mnist.train.next_batch(batch_size)\n",
    "        hole_images = put_hole(batch_xs.reshape(-1,28,28,1)) # create the hole. you can reshape the hole_images\n",
    "\n",
    "    # TO DO:Implement to train part of the denoising autoencoder\n",
    "\n",
    "    print('Epoch:', '%04d' % (epoch + 1),\n",
    "          'Avg. cost =', '{:.4f}'.format(total_cost / total_batch))"
   ]
  },
  {
   "cell_type": "code",
   "execution_count": 20,
   "metadata": {},
   "outputs": [
    {
     "ename": "NameError",
     "evalue": "name 'decoder' is not defined",
     "output_type": "error",
     "traceback": [
      "\u001b[0;31m---------------------------------------------------------------------------\u001b[0m",
      "\u001b[0;31mNameError\u001b[0m                                 Traceback (most recent call last)",
      "\u001b[0;32m<ipython-input-20-17f9bcd8d9e3>\u001b[0m in \u001b[0;36m<module>\u001b[0;34m()\u001b[0m\n\u001b[1;32m     14\u001b[0m         \u001b[0;31m# You can reshape the hole_images to fit the shape of the placeholder X\u001b[0m\u001b[0;34m\u001b[0m\u001b[0;34m\u001b[0m\u001b[0m\n\u001b[1;32m     15\u001b[0m \u001b[0;34m\u001b[0m\u001b[0m\n\u001b[0;32m---> 16\u001b[0;31m         \u001b[0mg\u001b[0m \u001b[0;34m=\u001b[0m \u001b[0msess\u001b[0m\u001b[0;34m.\u001b[0m\u001b[0mrun\u001b[0m\u001b[0;34m(\u001b[0m\u001b[0mdecoder\u001b[0m\u001b[0;34m,\u001b[0m \u001b[0mfeed_dict\u001b[0m\u001b[0;34m=\u001b[0m\u001b[0;34m{\u001b[0m\u001b[0mX\u001b[0m\u001b[0;34m:\u001b[0m \u001b[0mhole_images\u001b[0m\u001b[0;34m}\u001b[0m\u001b[0;34m)\u001b[0m\u001b[0;34m\u001b[0m\u001b[0m\n\u001b[0m\u001b[1;32m     17\u001b[0m \u001b[0;34m\u001b[0m\u001b[0m\n\u001b[1;32m     18\u001b[0m         \u001b[0mcanvas_input\u001b[0m\u001b[0;34m[\u001b[0m\u001b[0;36m0\u001b[0m\u001b[0;34m:\u001b[0m\u001b[0;36m28\u001b[0m\u001b[0;34m,\u001b[0m \u001b[0mi\u001b[0m \u001b[0;34m*\u001b[0m \u001b[0;36m28\u001b[0m\u001b[0;34m:\u001b[0m\u001b[0;34m(\u001b[0m\u001b[0mi\u001b[0m \u001b[0;34m+\u001b[0m \u001b[0;36m1\u001b[0m\u001b[0;34m)\u001b[0m \u001b[0;34m*\u001b[0m \u001b[0;36m28\u001b[0m\u001b[0;34m]\u001b[0m \u001b[0;34m=\u001b[0m \u001b[0minput_image\u001b[0m\u001b[0;34m[\u001b[0m\u001b[0mi\u001b[0m\u001b[0;34m]\u001b[0m\u001b[0;34m.\u001b[0m\u001b[0mreshape\u001b[0m\u001b[0;34m(\u001b[0m\u001b[0;34m[\u001b[0m\u001b[0;36m28\u001b[0m\u001b[0;34m,\u001b[0m \u001b[0;36m28\u001b[0m\u001b[0;34m]\u001b[0m\u001b[0;34m)\u001b[0m\u001b[0;34m\u001b[0m\u001b[0m\n",
      "\u001b[0;31mNameError\u001b[0m: name 'decoder' is not defined"
     ]
    }
   ],
   "source": [
    "# Testing\n",
    "# Encode and decode images from test set and visualize their reconstruction.\n",
    "n = 30\n",
    "canvas_input = np.empty((28, 28 * n))\n",
    "canvas_hole = np.empty((28, 28 * n))\n",
    "canvas_recon = np.empty((28, 28 * n))\n",
    "for j in range(3):\n",
    "    for i in range(n):\n",
    "        # MNIST test set\n",
    "        batch_x, _ = mnist.test.next_batch(100)\n",
    "        input_image = batch_x\n",
    "        hole_images = put_hole(batch_x.reshape(-1,28,28,1)) #create the holes\n",
    "        # TO DO: Implement to fill the hole images, you can reshape the hole_images\n",
    "        # You can reshape the hole_images to fit the shape of the placeholder X\n",
    "        # define the decoder in the decoder part\n",
    "        g = sess.run(decoder, feed_dict={X: hole_images})\n",
    "\n",
    "        canvas_input[0:28, i * 28:(i + 1) * 28] = input_image[i].reshape([28, 28])\n",
    "        canvas_hole[0:28, i * 28:(i + 1) * 28] = hole_images[i].reshape([28, 28])\n",
    "        canvas_recon[0:28, i * 28:(i + 1) * 28] = g[i].reshape([28, 28])\n",
    "\n",
    "    print(\"input Images\")     \n",
    "    plt.figure(figsize=(n, n))\n",
    "    plt.imshow(canvas_input, origin=\"upper\", cmap=\"gray\")\n",
    "    plt.show()\n",
    "\n",
    "    print(\"hole Images\")     \n",
    "    plt.figure(figsize=(n, n))\n",
    "    plt.imshow(canvas_hole, origin=\"upper\", cmap=\"gray\")\n",
    "    plt.show()\n",
    "\n",
    "    print(\"Reconstructed Images\")\n",
    "    plt.figure(figsize=(n, n))\n",
    "    plt.imshow(canvas_recon, origin=\"upper\", cmap=\"gray\")\n",
    "    plt.show()\n",
    "\n",
    "    out_image = np.concatenate((canvas_input,canvas_hole,canvas_recon ), axis=0)\n",
    "    plt.imsave('result{0}.png'.format(j), out_image, cmap=\"gray\")"
   ]
  },
  {
   "cell_type": "code",
   "execution_count": null,
   "metadata": {
    "collapsed": true
   },
   "outputs": [],
   "source": []
  },
  {
   "cell_type": "code",
   "execution_count": null,
   "metadata": {
    "collapsed": true
   },
   "outputs": [],
   "source": []
  },
  {
   "cell_type": "code",
   "execution_count": null,
   "metadata": {
    "collapsed": true
   },
   "outputs": [],
   "source": [
    "#!/usr/bin/env python\n",
    "# -*- coding: utf-8 -*-\n",
    "\n",
    "import numpy as np\n",
    "\n",
    "from keras.datasets import mnist\n",
    "from keras.models import Sequential\n",
    "from keras.layers import containers\n",
    "from keras.layers.core import Dense, AutoEncoder\n",
    "from keras.layers.noise import GaussianNoise\n",
    "from keras.optimizers import RMSprop\n",
    "from keras.utils import np_utils\n",
    "\n",
    "\n",
    "np.random.seed(1337)\n",
    "\n",
    "batch_size = 128\n",
    "nb_classes = 10\n",
    "nb_epoch = 20\n",
    "nb_hidden_layers = [784, 600, 500, 400, ]\n",
    "nb_noise = [0.3, 0.2, 0.1, ]\n",
    "\n",
    "(X_train, y_train), (X_test, y_test) = mnist.load_data()\n",
    "\n",
    "X_train = X_train.reshape(60000, 784)\n",
    "X_test = X_test.reshape(10000, 784)\n",
    "X_train = X_train.astype('float32')\n",
    "X_test = X_test.astype('float32')\n",
    "X_train /= 255\n",
    "X_test /= 255\n",
    "\n",
    "print('Train samples: {}'.format(X_train.shape[0]))\n",
    "print('Test samples: {}'.format(X_test.shape[0]))\n",
    "\n",
    "Y_train = np_utils.to_categorical(y_train, nb_classes)\n",
    "Y_test = np_utils.to_categorical(y_test, nb_classes)\n",
    "\n",
    "encoders = []\n",
    "X_train_tmp = np.copy(X_train)\n",
    "rms = RMSprop()\n",
    "\n",
    "for i, (n_in, n_out) in enumerate(\n",
    "        zip(nb_hidden_layers[:-1], nb_hidden_layers[1:]), start=1):\n",
    "    print('Training the layer {}: Input {} -> Output {}'.format(\n",
    "        i, n_in, n_out))\n",
    "\n",
    "    ae = Sequential()\n",
    "    encoder = containers.Sequential([\n",
    "        GaussianNoise(nb_noise[i - 1], input_shape=(n_in,)),\n",
    "        Dense(input_dim=n_in, output_dim=n_out, activation='sigmoid')\n",
    "    ])\n",
    "    decoder = containers.Sequential([\n",
    "        Dense(input_dim=n_out, output_dim=n_in, activation='sigmoid')\n",
    "    ])\n",
    "\n",
    "    ae.add(AutoEncoder(\n",
    "        encoder=encoder, decoder=decoder,\n",
    "        output_reconstruction=False,\n",
    "    ))\n",
    "\n",
    "    ae.compile(loss='mean_squared_error', optimizer=rms)\n",
    "    ae.fit(X_train_tmp, X_train_tmp,\n",
    "           batch_size=batch_size, nb_epoch=nb_epoch)\n",
    "\n",
    "    encoders.append(ae.layers[0].encoder)\n",
    "    X_train_tmp = ae.predict(X_train_tmp)\n",
    "\n",
    "model = Sequential()\n",
    "for encoder in encoders:\n",
    "    model.add(encoder)\n",
    "\n",
    "model.add(Dense(\n",
    "    input_dim=nb_hidden_layers[-1], output_dim=nb_classes,\n",
    "    activation='softmax'))\n",
    "\n",
    "model.compile(loss='categorical_crossentropy', optimizer=rms)\n",
    "score = model.evaluate(X_test, Y_test, show_accuracy=True, verbose=0)\n",
    "\n",
    "print('Test score before fine turning: {}'.format(score[0]))\n",
    "print('Test accuracy before fine turning: {}'.format(score[1]))\n",
    "\n",
    "model.fit(\n",
    "    X_train, Y_train, batch_size=batch_size,\n",
    "    nb_epoch=nb_epoch, show_accuracy=True,\n",
    "    validation_data=(X_test, Y_test)\n",
    ")\n",
    "score = model.evaluate(X_test, Y_test, show_accuracy=True, verbose=0)\n",
    "\n",
    "print('Test score after fine turning: {}'.format(score[0]))\n",
    "print('Test accuracy after fine turning: {}'.format(score[1]))"
   ]
  }
 ],
 "metadata": {
  "kernelspec": {
   "display_name": "Python [default]",
   "language": "python",
   "name": "python3"
  },
  "language_info": {
   "codemirror_mode": {
    "name": "ipython",
    "version": 3
   },
   "file_extension": ".py",
   "mimetype": "text/x-python",
   "name": "python",
   "nbconvert_exporter": "python",
   "pygments_lexer": "ipython3",
   "version": "3.6.3"
  }
 },
 "nbformat": 4,
 "nbformat_minor": 2
}
